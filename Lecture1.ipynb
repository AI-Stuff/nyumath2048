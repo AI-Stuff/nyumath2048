{
 "metadata": {
  "celltoolbar": "Slideshow",
  "name": "",
  "signature": "sha256:8ecdd2ef297b3663c4c2a31c542c3ee19d95880f8d0fc72a40602b9df818a39a"
 },
 "nbformat": 3,
 "nbformat_minor": 0,
 "worksheets": [
  {
   "cells": [
    {
     "cell_type": "markdown",
     "metadata": {
      "slideshow": {
       "slide_type": "slide"
      }
     },
     "source": [
      "# Scientific Computing in Finance\n",
      "\n",
      "* Spring 2015\n",
      "* Courant Institute of Mathematical Sciences\n",
      "* New York University"
     ]
    },
    {
     "cell_type": "markdown",
     "metadata": {
      "slideshow": {
       "slide_type": "subslide"
      }
     },
     "source": [
      "## Instructors\n",
      "\n",
      "### Hongwei Cheng\n",
      "* Head of financial model validation, Prudential\n",
      "* Ph.D. Mathematics, New York University\n",
      "\n",
      "### Yadong Li\n",
      "* Head of trading book caital modeling, Barclays\n",
      "* Ph.D. in Physics, M.S. in Computer Sciences, University of Wisconsin-Madison\n",
      "* Master of Financial Engineering, University of California, Berkeley "
     ]
    },
    {
     "cell_type": "markdown",
     "metadata": {
      "slideshow": {
       "slide_type": "slide"
      }
     },
     "source": [
      "#Lecture 1: Introduction\n",
      "\n",
      "## Topics\n",
      "\n",
      "* Introduction\n",
      "* Software practices\n",
      "* Errors and floating point computation"
     ]
    },
    {
     "cell_type": "markdown",
     "metadata": {
      "slideshow": {
       "slide_type": "subslide"
      }
     },
     "source": [
      "## Objectives of this class\n",
      "\n",
      "* Teach principles of scientific computing\n",
      "* Teach the most common numerical techniques in quantitative Finance \n",
      "* Develop intuitions and essential skills using real world examples\n",
      "* Help students to start a career in quantitative Finance"
     ]
    },
    {
     "cell_type": "markdown",
     "metadata": {
      "slideshow": {
       "slide_type": "fragment"
      }
     },
     "source": [
      "### Different levels of understanding\n",
      "\n",
      "* background: talk about the problem\n",
      "* information: understand the key drivers, and can simplify the problem\n",
      "* insight: fomulate it as a mathematical problem\n",
      "* knowledge: solved the problem\n",
      "* experience: used the solution in practice, understand its limitations and connection to other problems \n",
      "* intuition: the knowledge and experience gained allow you to easily reason about other problems"
     ]
    },
    {
     "cell_type": "markdown",
     "metadata": {
      "slideshow": {
       "slide_type": "subslide"
      }
     },
     "source": [
      "We expect you\n",
      "-------------\n",
      "\n",
      "* Know basic calculus and linear algebra\n",
      "* Have some prior programming experience\n",
      "* Are willing to learn through hard work"
     ]
    },
    {
     "cell_type": "markdown",
     "metadata": {
      "slideshow": {
       "slide_type": "subslide"
      }
     },
     "source": [
      "Major fields in quantitative finance\n",
      "------------------------------------\n",
      "* Derivative pricing and hedging\n",
      "* Risk management and regulatory capital\n",
      "* Portfolio management\n",
      "* Quantitative strategy/Algo trading"
     ]
    },
    {
     "cell_type": "markdown",
     "metadata": {
      "slideshow": {
       "slide_type": "subslide"
      }
     },
     "source": [
      "##Main Topics in this class\n",
      "\n",
      "A rough schedule of the class:\n",
      "\n",
      "| Week | Main Topics | Practical Problems |\n",
      "| :----: | :-----: | :-----: |\n",
      "| 1 | Introduction and Error Analysis | Software practice |\n",
      "| 2-3 | Linear Algebra | Portfolio optimization, PCA, least square |\n",
      "| 4 | Rootfinding and interpolation | Curve building |\n",
      "| 5 | Derivatives and integration | Hedging, Risk Transformation |\n",
      "| 7-8 | Optimization | Model calibration, Maximum entropy |\n",
      "| 9-11 | Monte Carlo simulation | Derivative pricing, Allocation |\n",
      "| 12-13 | ODE/PDE | Pricing |"
     ]
    },
    {
     "cell_type": "markdown",
     "metadata": {
      "slideshow": {
       "slide_type": "subslide"
      }
     },
     "source": [
      "## Text book\n",
      "\n",
      "* Principles of scientific computing [online book](http://www.cs.nyu.edu/courses/spring09/G22.2112-001/book/book.pdf)\n",
      "\n",
      "  D Bindel and J Goodman, 2009\n",
      "  \n",
      "## References\n",
      "* Interest rate modelling, volume I: Foundations and Vanilla Models \n",
      "* Interest rate modelling, volume II: Vanilla Models\n",
      "  \n",
      "  L Anderson and V. Piterbarg, 2010\n",
      "  \n",
      "* Monte Carlo method in Financial Engineering\n",
      "\n",
      "  P. Glasserman 2010\n",
      "\n",
      "## Grades\n",
      "* Homework 50%\n",
      "* Project 30%\n",
      "* Final 20%"
     ]
    },
    {
     "cell_type": "markdown",
     "metadata": {
      "slideshow": {
       "slide_type": "slide"
      }
     },
     "source": [
      "# Software Basics"
     ]
    },
    {
     "cell_type": "markdown",
     "metadata": {
      "slideshow": {
       "slide_type": "subslide"
      }
     },
     "source": [
      "## Modern Hardware\n",
      "\n",
      "* Processor speed/throughput continues to grow at an impressive rate\n",
      " * multi-core\n",
      " * GPU \n",
      "* Memory capacity continues to grow, but memory speed only grows at a (relatively) slow rate\n",
      "\n",
      "Memory hierarchy\n",
      "\n",
      "| Storage | Bandwidth | Latency | Capacity |\n",
      "| :-----: | --------: | --: | ---: | \n",
      "| L-1 Cache |  98GB/s | 4 cycles | 32K/core |\n",
      "| L-2 Cache |  50GB/s | 10 cycles | 256K/core |\n",
      "| L-3 Cache |  30GB/s | 40 - 75 cycles | 8MB shared |\n",
      "| RAM | 15GB/s | 60-100 ns | 2 - 128GB |\n",
      "| Disk | 50MB/s | ~5ms | $\\infty$ |"
     ]
    },
    {
     "cell_type": "markdown",
     "metadata": {
      "slideshow": {
       "slide_type": "subslide"
      }
     },
     "source": [
      "## Key to high performance\n",
      "\n",
      "* Understand if the problem is computation or bandwidth bound\n",
      " * Most problems in practice are bandwidth bound\n",
      "* Computation bound problems:\n",
      " * caching\n",
      " * vectorization/parallelization/GPU\n",
      " * optimize your \"computational kernel\"\n",
      "* Bandwidth bound problems:\n",
      " * optimize cache and memory access\n",
      " * require highly specialized skills and low level programming (like in C/C++/Fortran)\n",
      "* Premature optimization for speed is the root of all evil\n",
      " * Simplicity and generality of the code are often sacrificed\n",
      " * Execution speed is usually not the most critical factor in practice"
     ]
    },
    {
     "cell_type": "markdown",
     "metadata": {
      "slideshow": {
       "slide_type": "subslide"
      }
     },
     "source": [
      "## What's before performance\n",
      "\n",
      "#### Correctness\n",
      "* \"those who would give up correctness for a little temporary performance deserve neither correctness nor performance\"\n",
      "* \"the greatest performance improvement of all is when system goes from not-working to working\""
     ]
    },
    {
     "cell_type": "markdown",
     "metadata": {
      "slideshow": {
       "slide_type": "fragment"
      }
     },
     "source": [
      "#### Modifiability\n",
      "* \"modification is undesirable but modifiability is paramount\""
     ]
    },
    {
     "cell_type": "markdown",
     "metadata": {
      "slideshow": {
       "slide_type": "fragment"
      }
     },
     "source": [
      "#### Simplicity\n",
      "* no obvious defects is not the same as obviously no defects\n",
      "* simplicity allows humans to correctly reason about systems"
     ]
    },
    {
     "cell_type": "markdown",
     "metadata": {
      "slideshow": {
       "slide_type": "fragment"
      }
     },
     "source": [
      "#### Other desirable features:\n",
      "* Scalability\n",
      "* Robustness\n",
      "* Easy support and maintenance\n",
      "* and many more"
     ]
    },
    {
     "cell_type": "markdown",
     "metadata": {
      "slideshow": {
       "slide_type": "subslide"
      }
     },
     "source": [
      "In practice, what often trumpets everything else is: \n",
      "\n",
      "## Time to market !!"
     ]
    },
    {
     "cell_type": "markdown",
     "metadata": {
      "slideshow": {
       "slide_type": "subslide"
      }
     },
     "source": [
      "## Conventional wisdom for programming\n",
      "\n",
      "The typical advice includes:\n",
      "\n",
      "* choose good names for your variables and functions\n",
      "* write comments and documents\n",
      "* write tests\n",
      "* keep coding style consistent"
     ]
    },
    {
     "cell_type": "markdown",
     "metadata": {
      "slideshow": {
       "slide_type": "fragment"
      }
     },
     "source": [
      "These are good advice, but quite superficial. \n",
      "\n",
      "* all of them are compromised, even in very successful projects\n",
      "* they are usually not the critical differentiator between successes and failures"
     ]
    },
    {
     "cell_type": "markdown",
     "metadata": {
      "slideshow": {
       "slide_type": "subslide"
      }
     },
     "source": [
      "## Advice for the real world:\n",
      "\n",
      "by Paul Phillips: \"We're doing it all wrong\":"
     ]
    },
    {
     "cell_type": "markdown",
     "metadata": {
      "slideshow": {
       "slide_type": "fragment"
      }
     },
     "source": [
      "#### War is peace\n",
      " * Fight your war at the boundary so that you can have peace within\n",
      " * Challenge your clients, customers and collaborators to limit your deliverable\n",
      " * Clearly define a minimal set of interactions to the outside world"
     ]
    },
    {
     "cell_type": "markdown",
     "metadata": {
      "slideshow": {
       "slide_type": "fragment"
      }
     },
     "source": [
      "#### Ignorance is strength\n",
      " * Design dumb modules that only does one thing, and one thing really well\n",
      " * Keep it simple and stupid\n",
      " * Separation of concerns"
     ]
    },
    {
     "cell_type": "markdown",
     "metadata": {
      "slideshow": {
       "slide_type": "fragment"
      }
     },
     "source": [
      "#### Freedom is slavery\n",
      " * Must be disciplined in testing, code review, releases etc. \n",
      " * Freedom $\\rightarrow$ possibilities $\\rightarrow$ complexity $\\rightarrow$ unmodifiable code $\\rightarrow$ slavery"
     ]
    },
    {
     "cell_type": "markdown",
     "metadata": {
      "slideshow": {
       "slide_type": "subslide"
      }
     },
     "source": [
      "<center><img src=\"img/sun-tzu.jpg\" width=400 height=400></center>\n",
      "\n",
      "Sun Tzu: \"the supreme art of modelling is to solve problems without coding\""
     ]
    },
    {
     "cell_type": "markdown",
     "metadata": {
      "slideshow": {
       "slide_type": "subslide"
      }
     },
     "source": [
      "## Choose the right programming tools\n",
      "\n",
      "* Programming paradigm: procedural, OOP, functional\n",
      "* Expressiveness: high level vs. low level\n",
      "* Ecosystem: library, tools, community, industry support\n",
      "\n",
      "There is no single right answer\n",
      "\n",
      "* Different job calls for different tools\n",
      "* But most of the time, the choice is already made (by someone else)"
     ]
    },
    {
     "cell_type": "markdown",
     "metadata": {
      "slideshow": {
       "slide_type": "subslide"
      }
     },
     "source": [
      "## Expressiveness\n",
      "\n",
      "<center>\n",
      "<img src=\"img/proglang.png\" width=500 height=500>\n",
      "</center>\n",
      "\n",
      "When you have the chance, choose the more expressive language for the job."
     ]
    },
    {
     "cell_type": "markdown",
     "metadata": {
      "slideshow": {
       "slide_type": "fragment"
      }
     },
     "source": [
      "\"Lisp is worth learning for the profound enlightenment experience you will have when you finally get it; that experience will make you a better programmer for the rest of your days, even if you never actually use Lisp itself a lot.\"\n",
      "\n",
      "Eric Raymond, \"How to Become a Hacker\""
     ]
    },
    {
     "cell_type": "markdown",
     "metadata": {
      "slideshow": {
       "slide_type": "subslide"
      }
     },
     "source": [
      "## This Class uses Python\n",
      "\n",
      "Python\n",
      "\n",
      "* a powerful dynamic scripting language \n",
      "* extremely popular in scientific computing\n",
      "* strong momentum in quantitative finance\n",
      "* highly productive, low learning curve\n",
      "\n",
      "Python ecosystem\n",
      "\n",
      "* numpy/scipy: high quality matrix and numerical library\n",
      "* matplotlib: powerful visualization library\n",
      "* IPython: highly productive interactive working environment\n",
      "* Pandas: powerful data and time series analysis package\n",
      "\n",
      "Python resources\n",
      "\n",
      "* Enthought Canopy: a commercial Python distribution, free for students\n",
      "* Anaconda: another popular and free Python distribution\n",
      "* Google and Youtube\n",
      "\n",
      "Python version:\n",
      "\n",
      "* ** Python 2.7 ** : python 3 is not backward compatible\n",
      "* With the latest IPython, numpy/pandas/scipy etc.\n",
      "* either 32bit or 64bit version\n",
      "\n",
      "Pyton setup guide:\n",
      "\n",
      "http://yadongli.github.io/numfin/PythonSetup.slides.html"
     ]
    },
    {
     "cell_type": "markdown",
     "metadata": {
      "slideshow": {
       "slide_type": "slide"
      }
     },
     "source": [
      "# Errors and floating point\n",
      "\n",
      "\n",
      "James Gosling: \"95% of the folks out there are completely clueless about floating-point\""
     ]
    },
    {
     "cell_type": "markdown",
     "metadata": {
      "slideshow": {
       "slide_type": "subslide"
      }
     },
     "source": [
      "## Absolute and relative error\n",
      "\n",
      "If the true value $a$ is approximated by $\\hat{a}$: \n",
      "\n",
      "* Absolute error: $\\hat{a} - a$\n",
      "* Relative error: $\\frac{\\hat{a} - a}{a}$\n",
      "\n",
      "Both measure are useful in practice.\n",
      "\n",
      "* Beware of the absolute value when compare relative errors"
     ]
    },
    {
     "cell_type": "markdown",
     "metadata": {
      "slideshow": {
       "slide_type": "subslide"
      }
     },
     "source": [
      "## Sources of Error\n",
      "\n",
      "Impreciseness in the theory or model itself\n",
      "\n",
      "* George Box: \"essentially, all models are wrong, but some are useful\"\n",
      "\n",
      "Errors in numerical algorithm\n",
      "\n",
      "* Convergence error\n",
      " * Monte Carlo simulation\n",
      " * Numerical integration\n",
      "* Truncation and discretization\n",
      "* Termination of iterations\n",
      "\n",
      "Error due to machine representation\n",
      "\n",
      "* Floating point number\n",
      "* Rounding\n",
      " \n",
      "We cover the last category first."
     ]
    },
    {
     "cell_type": "markdown",
     "metadata": {
      "slideshow": {
       "slide_type": "subslide"
      }
     },
     "source": [
      "## IEEE 754 Standard\n",
      "\n",
      "First published in 1985, the standard includes:\n",
      "\n",
      "* floating point number representations \n",
      "  * 16bit, 32bit, 64bit etc\n",
      "  * special representation for NaN, Inf etc\n",
      "* rounding\n",
      "  * default rule: round to nearest, ties to even digit\n",
      "    * e.g., round to 4 significant digit: $3.1245 \\rightarrow 3.124, 43515 \\rightarrow 43520$ \n",
      "  * addition and multiplication are still commutative, but not associative\n",
      "* basic operations\n",
      "  * arithmetic: add, multiplication, sqrt etc\n",
      "  * conversion: btw formats, to/from string etc\n",
      "* exception handling\n",
      "  * invalid operation, divide by zero, overflow, underflow, inexact\n",
      "  * the operation returns a value (could be NaN, Inf or 0), and set an error flag"
     ]
    },
    {
     "cell_type": "markdown",
     "metadata": {
      "slideshow": {
       "slide_type": "subslide"
      }
     },
     "source": [
      "## Significance of IEEE 754  \n",
      "\n",
      "The IEEE 754 is a tremendously successful standard:\n",
      "* it allows users to consistently reason about floating point computation across platforms\n",
      "  * before IEEE 754, floating point number calculation behaves differently across hardware/vendors\n",
      "* IEEE 754 made compromise for practicality\n",
      "  * many of them do not make sense in a strict mathematical sense\n",
      "  * but they are necessary evils for the greater goods\n",
      "* it allows hardware designer and software developer to stick to a common interface\n",
      "* its main designer, William Kahan won the Turing award in 1989\n",
      "\n",
      "The standard is widely implemented in modern hardware and software,\n",
      "\n",
      "* 99% of the CPU are at least 99% IEEE 754 compliant\n",
      "* the OS/software situation is more complicated  \n",
      "  * Java floating point arithmetic was not compliant with the ```strictfp``` flag (don't use it!)\n",
      "  * Compiled language like C++ depends on the hardware's implementation."
     ]
    },
    {
     "cell_type": "markdown",
     "metadata": {
      "slideshow": {
       "slide_type": "subslide"
      }
     },
     "source": [
      "## IEEE 754 floating point number format\n",
      "\n",
      "* IEEE floating point number standard\n",
      "\n",
      "$$\\underbrace{*}_{\\text{sign bit}}\\;\\underbrace{********}_{\\text{exponent}}\\overbrace{\\;1.\\;}^{\\text{implicit}}\\;\\underbrace{***********************}_{\\text{fraction}}\n",
      "$$\n",
      "\n",
      "$$(-1)^{\\text{sign}}(\\text{1 + fraction})2^{\\text{exponent} - p}$$\n",
      "\n",
      "* 32 bit vs. 64 bit format\n",
      "\n",
      "| Format | Sign | Fraction | Exponent | $p$ |\n",
      "| :----: | ---: | ----------: | -------: | --------: | \n",
      "| IEEE 754 - 32 bit | 1    |      23     |   8      |  127 |\n",
      "| IEEE 754 - 64 bit | 1    |      53     |   11     | 1023 |\n",
      "\n",
      "* there is an implicit leading bit of 1 and the binary point before fraction bits\n",
      "* the 0 and max exponent has special interpretations, such as NaN or Inf"
     ]
    },
    {
     "cell_type": "markdown",
     "metadata": {
      "slideshow": {
       "slide_type": "subslide"
      }
     },
     "source": [
      "## Examples of floating numbers"
     ]
    },
    {
     "cell_type": "code",
     "collapsed": false,
     "input": [
      "%pylab inline\n",
      "\n",
      "import bitstring\n",
      "import pandas as pd\n",
      "import numpy as np\n",
      "import fmt\n",
      "import math, sys\n",
      "\n",
      "pd.set_option(\"display.max_colwidth\", 80)\n",
      "\n",
      "def parts2f(sign, e, sig) :\n",
      "    return ((-1)**sign*sig*2.**e)\n",
      "\n",
      "def f2parts(v, flen) :\n",
      "    ps = {32: 9, 64 : 12}\n",
      "    ed = ps[flen]\n",
      "    eoff = 2**(ed - 2) - 1\n",
      "\n",
      "    f1 = bitstring.BitArray(float=v, length=flen)\n",
      "    signb = f1[:1]\n",
      "    sigb = f1[ed:]\n",
      "    eb = f1[1:ed]\n",
      "    sig = (1. + 1.*sigb.uint/(2**(flen-ed))) if eb.uint > 0 else 2.*sigb.uint/(2**(flen-ed))\n",
      "    e = eb.uint - eoff\n",
      "    \n",
      "    bins = np.array([signb.bin, eb.bin, sigb.bin])\n",
      "    vals = np.array([1-signb.uint*2, e, sig])\n",
      "    \n",
      "    fmt.displayDF(pd.DataFrame(np.array([bins, vals]).T, columns=['Bits', 'Decimal'], \n",
      "                               index=[\"Sign\", \"Exp\", \"Fraction\"]).T)"
     ],
     "language": "python",
     "metadata": {
      "slideshow": {
       "slide_type": "skip"
      }
     },
     "outputs": [
      {
       "output_type": "stream",
       "stream": "stdout",
       "text": [
        "Populating the interactive namespace from numpy and matplotlib\n"
       ]
      }
     ],
     "prompt_number": 1
    },
    {
     "cell_type": "markdown",
     "metadata": {},
     "source": [
      "f2parts takes a floating number and its bit length (32 or 64) and shows the three parts. "
     ]
    },
    {
     "cell_type": "code",
     "collapsed": false,
     "input": [
      "f2parts(10.7, 32);"
     ],
     "language": "python",
     "metadata": {
      "slideshow": {
       "slide_type": "-"
      }
     },
     "outputs": [
      {
       "html": [
        "<center><font size=2><table border=\"1\" class=\"dataframe\">\n",
        "  <thead>\n",
        "    <tr style=\"text-align: right;\">\n",
        "      <th></th>\n",
        "      <th>Sign</th>\n",
        "      <th>Exp</th>\n",
        "      <th>Fraction</th>\n",
        "    </tr>\n",
        "  </thead>\n",
        "  <tbody>\n",
        "    <tr>\n",
        "      <th>Bits</th>\n",
        "      <td>   0</td>\n",
        "      <td> 10000010</td>\n",
        "      <td> 01010110011001100110011</td>\n",
        "    </tr>\n",
        "    <tr>\n",
        "      <th>Decimal</th>\n",
        "      <td> 1.0</td>\n",
        "      <td>      3.0</td>\n",
        "      <td>           1.33749997616</td>\n",
        "    </tr>\n",
        "  </tbody>\n",
        "</table></font></center>"
       ],
       "metadata": {},
       "output_type": "display_data",
       "text": [
        "<IPython.core.display.HTML at 0x3559cf8>"
       ]
      }
     ],
     "prompt_number": 2
    },
    {
     "cell_type": "code",
     "collapsed": false,
     "input": [
      "f2parts(-23445.25, 64)"
     ],
     "language": "python",
     "metadata": {},
     "outputs": [
      {
       "html": [
        "<center><font size=2><table border=\"1\" class=\"dataframe\">\n",
        "  <thead>\n",
        "    <tr style=\"text-align: right;\">\n",
        "      <th></th>\n",
        "      <th>Sign</th>\n",
        "      <th>Exp</th>\n",
        "      <th>Fraction</th>\n",
        "    </tr>\n",
        "  </thead>\n",
        "  <tbody>\n",
        "    <tr>\n",
        "      <th>Bits</th>\n",
        "      <td>    1</td>\n",
        "      <td> 10000001101</td>\n",
        "      <td> 0110111001010101000000000000000000000000000000000000</td>\n",
        "    </tr>\n",
        "    <tr>\n",
        "      <th>Decimal</th>\n",
        "      <td> -1.0</td>\n",
        "      <td>        14.0</td>\n",
        "      <td>                                        1.43098449707</td>\n",
        "    </tr>\n",
        "  </tbody>\n",
        "</table></font></center>"
       ],
       "metadata": {},
       "output_type": "display_data",
       "text": [
        "<IPython.core.display.HTML at 0x7999ef0>"
       ]
      }
     ],
     "prompt_number": 3
    },
    {
     "cell_type": "markdown",
     "metadata": {
      "slideshow": {
       "slide_type": "subslide"
      }
     },
     "source": [
      "## Range and precision\n",
      "\n",
      "* The range of floating point number are usually adequte in practice\n",
      " * the whole universe only have $10^{80}$ protons ...\n",
      "* The machine precision is the more commonly encountered limitation\n",
      " * machine precision $\\epsilon_m$ is the maximum $\\epsilon$ that makes $1 + \\epsilon = 1$"
     ]
    },
    {
     "cell_type": "code",
     "collapsed": false,
     "input": [
      "prec32 = 2**(-24)\n",
      "prec64 = 2**(-53)\n",
      "\n",
      "f32 = [parts2f(0, -126, 1), parts2f(0, 254-127, (2.-prec32*2)), prec32, -np.log10(prec32)]\n",
      "f64 = [parts2f(0, -1022, 1), parts2f(0, 2046-1023, (2.-prec64*2)), prec64, -np.log10(prec64)]\n",
      "\n",
      "fmt.displayDF(pd.DataFrame(np.array([f32, f64]), index=['32 bit', '64 bit'], \n",
      "                           columns=[\"Min\", \"Max\", \"Machine Precision\", \"# of Significant Digits\"]), \"5g\")"
     ],
     "language": "python",
     "metadata": {
      "slideshow": {
       "slide_type": "fragment"
      }
     },
     "outputs": [
      {
       "html": [
        "<center><font size=2><table border=\"1\" class=\"dataframe\">\n",
        "  <thead>\n",
        "    <tr style=\"text-align: right;\">\n",
        "      <th></th>\n",
        "      <th>Min</th>\n",
        "      <th>Max</th>\n",
        "      <th>Machine Precision</th>\n",
        "      <th># of Significant Digits</th>\n",
        "    </tr>\n",
        "  </thead>\n",
        "  <tbody>\n",
        "    <tr>\n",
        "      <th>32 bit</th>\n",
        "      <td> 1.1755e-38</td>\n",
        "      <td> 3.4028e+38</td>\n",
        "      <td>5.9605e-08</td>\n",
        "      <td>7.2247</td>\n",
        "    </tr>\n",
        "    <tr>\n",
        "      <th>64 bit</th>\n",
        "      <td>2.2251e-308</td>\n",
        "      <td>1.7977e+308</td>\n",
        "      <td>1.1102e-16</td>\n",
        "      <td>15.955</td>\n",
        "    </tr>\n",
        "  </tbody>\n",
        "</table></font></center>"
       ],
       "metadata": {},
       "output_type": "display_data",
       "text": [
        "<IPython.core.display.HTML at 0x9c44f60>"
       ]
      }
     ],
     "prompt_number": 4
    },
    {
     "cell_type": "markdown",
     "metadata": {
      "slideshow": {
       "slide_type": "subslide"
      }
     },
     "source": [
      "## Examples of floating point representations"
     ]
    },
    {
     "cell_type": "code",
     "collapsed": false,
     "input": [
      "f2parts(-0., 32);"
     ],
     "language": "python",
     "metadata": {
      "slideshow": {
       "slide_type": "-"
      }
     },
     "outputs": [
      {
       "html": [
        "<center><font size=2><table border=\"1\" class=\"dataframe\">\n",
        "  <thead>\n",
        "    <tr style=\"text-align: right;\">\n",
        "      <th></th>\n",
        "      <th>Sign</th>\n",
        "      <th>Exp</th>\n",
        "      <th>Fraction</th>\n",
        "    </tr>\n",
        "  </thead>\n",
        "  <tbody>\n",
        "    <tr>\n",
        "      <th>Bits</th>\n",
        "      <td>    1</td>\n",
        "      <td> 00000000</td>\n",
        "      <td> 00000000000000000000000</td>\n",
        "    </tr>\n",
        "    <tr>\n",
        "      <th>Decimal</th>\n",
        "      <td> -1.0</td>\n",
        "      <td>   -127.0</td>\n",
        "      <td>                     0.0</td>\n",
        "    </tr>\n",
        "  </tbody>\n",
        "</table></font></center>"
       ],
       "metadata": {},
       "output_type": "display_data",
       "text": [
        "<IPython.core.display.HTML at 0x9c7dc50>"
       ]
      }
     ],
     "prompt_number": 5
    },
    {
     "cell_type": "code",
     "collapsed": false,
     "input": [
      "f2parts(np.NaN, 32);"
     ],
     "language": "python",
     "metadata": {
      "slideshow": {
       "slide_type": "fragment"
      }
     },
     "outputs": [
      {
       "html": [
        "<center><font size=2><table border=\"1\" class=\"dataframe\">\n",
        "  <thead>\n",
        "    <tr style=\"text-align: right;\">\n",
        "      <th></th>\n",
        "      <th>Sign</th>\n",
        "      <th>Exp</th>\n",
        "      <th>Fraction</th>\n",
        "    </tr>\n",
        "  </thead>\n",
        "  <tbody>\n",
        "    <tr>\n",
        "      <th>Bits</th>\n",
        "      <td>   0</td>\n",
        "      <td> 11111111</td>\n",
        "      <td> 10000000000000000000000</td>\n",
        "    </tr>\n",
        "    <tr>\n",
        "      <th>Decimal</th>\n",
        "      <td> 1.0</td>\n",
        "      <td>    128.0</td>\n",
        "      <td>                     1.5</td>\n",
        "    </tr>\n",
        "  </tbody>\n",
        "</table></font></center>"
       ],
       "metadata": {},
       "output_type": "display_data",
       "text": [
        "<IPython.core.display.HTML at 0x9c7df28>"
       ]
      }
     ],
     "prompt_number": 6
    },
    {
     "cell_type": "code",
     "collapsed": false,
     "input": [
      "f2parts(-np.Inf, 32);"
     ],
     "language": "python",
     "metadata": {
      "slideshow": {
       "slide_type": "fragment"
      }
     },
     "outputs": [
      {
       "html": [
        "<center><font size=2><table border=\"1\" class=\"dataframe\">\n",
        "  <thead>\n",
        "    <tr style=\"text-align: right;\">\n",
        "      <th></th>\n",
        "      <th>Sign</th>\n",
        "      <th>Exp</th>\n",
        "      <th>Fraction</th>\n",
        "    </tr>\n",
        "  </thead>\n",
        "  <tbody>\n",
        "    <tr>\n",
        "      <th>Bits</th>\n",
        "      <td>    1</td>\n",
        "      <td> 11111111</td>\n",
        "      <td> 00000000000000000000000</td>\n",
        "    </tr>\n",
        "    <tr>\n",
        "      <th>Decimal</th>\n",
        "      <td> -1.0</td>\n",
        "      <td>    128.0</td>\n",
        "      <td>                     1.0</td>\n",
        "    </tr>\n",
        "  </tbody>\n",
        "</table></font></center>"
       ],
       "metadata": {},
       "output_type": "display_data",
       "text": [
        "<IPython.core.display.HTML at 0x9c48780>"
       ]
      }
     ],
     "prompt_number": 7
    },
    {
     "cell_type": "code",
     "collapsed": false,
     "input": [
      "f2parts(-1e-43, 32);"
     ],
     "language": "python",
     "metadata": {
      "slideshow": {
       "slide_type": "fragment"
      }
     },
     "outputs": [
      {
       "html": [
        "<center><font size=2><table border=\"1\" class=\"dataframe\">\n",
        "  <thead>\n",
        "    <tr style=\"text-align: right;\">\n",
        "      <th></th>\n",
        "      <th>Sign</th>\n",
        "      <th>Exp</th>\n",
        "      <th>Fraction</th>\n",
        "    </tr>\n",
        "  </thead>\n",
        "  <tbody>\n",
        "    <tr>\n",
        "      <th>Bits</th>\n",
        "      <td>    1</td>\n",
        "      <td> 00000000</td>\n",
        "      <td> 00000000000000001000111</td>\n",
        "    </tr>\n",
        "    <tr>\n",
        "      <th>Decimal</th>\n",
        "      <td> -1.0</td>\n",
        "      <td>   -127.0</td>\n",
        "      <td>       1.69277191162e-05</td>\n",
        "    </tr>\n",
        "  </tbody>\n",
        "</table></font></center>"
       ],
       "metadata": {},
       "output_type": "display_data",
       "text": [
        "<IPython.core.display.HTML at 0x9c7d9e8>"
       ]
      }
     ],
     "prompt_number": 8
    },
    {
     "cell_type": "markdown",
     "metadata": {
      "slideshow": {
       "slide_type": "subslide"
      }
     },
     "source": [
      "##Floating point computing is NOT exact"
     ]
    },
    {
     "cell_type": "code",
     "collapsed": false,
     "input": [
      "a = 1./3\n",
      "b = a + a + 1. - 1.\n",
      "c = 2*a\n",
      "print \"b == c? %s !\" % (b == c)\n",
      "print \"b - c = %e\" % (b - c)"
     ],
     "language": "python",
     "metadata": {
      "slideshow": {
       "slide_type": "-"
      }
     },
     "outputs": [
      {
       "output_type": "stream",
       "stream": "stdout",
       "text": [
        "b == c? False !\n",
        "b - c = -1.110223e-16\n"
       ]
      }
     ],
     "prompt_number": 9
    },
    {
     "cell_type": "code",
     "collapsed": false,
     "input": [
      "f2parts(b, 64);"
     ],
     "language": "python",
     "metadata": {
      "slideshow": {
       "slide_type": "fragment"
      }
     },
     "outputs": [
      {
       "html": [
        "<center><font size=2><table border=\"1\" class=\"dataframe\">\n",
        "  <thead>\n",
        "    <tr style=\"text-align: right;\">\n",
        "      <th></th>\n",
        "      <th>Sign</th>\n",
        "      <th>Exp</th>\n",
        "      <th>Fraction</th>\n",
        "    </tr>\n",
        "  </thead>\n",
        "  <tbody>\n",
        "    <tr>\n",
        "      <th>Bits</th>\n",
        "      <td>   0</td>\n",
        "      <td> 01111111110</td>\n",
        "      <td> 0101010101010101010101010101010101010101010101010100</td>\n",
        "    </tr>\n",
        "    <tr>\n",
        "      <th>Decimal</th>\n",
        "      <td> 1.0</td>\n",
        "      <td>        -1.0</td>\n",
        "      <td>                                        1.33333333333</td>\n",
        "    </tr>\n",
        "  </tbody>\n",
        "</table></font></center>"
       ],
       "metadata": {},
       "output_type": "display_data",
       "text": [
        "<IPython.core.display.HTML at 0x9c7df98>"
       ]
      }
     ],
     "prompt_number": 10
    },
    {
     "cell_type": "code",
     "collapsed": false,
     "input": [
      "f2parts(c, 64);"
     ],
     "language": "python",
     "metadata": {
      "slideshow": {
       "slide_type": "fragment"
      }
     },
     "outputs": [
      {
       "html": [
        "<center><font size=2><table border=\"1\" class=\"dataframe\">\n",
        "  <thead>\n",
        "    <tr style=\"text-align: right;\">\n",
        "      <th></th>\n",
        "      <th>Sign</th>\n",
        "      <th>Exp</th>\n",
        "      <th>Fraction</th>\n",
        "    </tr>\n",
        "  </thead>\n",
        "  <tbody>\n",
        "    <tr>\n",
        "      <th>Bits</th>\n",
        "      <td>   0</td>\n",
        "      <td> 01111111110</td>\n",
        "      <td> 0101010101010101010101010101010101010101010101010101</td>\n",
        "    </tr>\n",
        "    <tr>\n",
        "      <th>Decimal</th>\n",
        "      <td> 1.0</td>\n",
        "      <td>        -1.0</td>\n",
        "      <td>                                        1.33333333333</td>\n",
        "    </tr>\n",
        "  </tbody>\n",
        "</table></font></center>"
       ],
       "metadata": {},
       "output_type": "display_data",
       "text": [
        "<IPython.core.display.HTML at 0x9c444a8>"
       ]
      }
     ],
     "prompt_number": 11
    },
    {
     "cell_type": "markdown",
     "metadata": {
      "slideshow": {
       "slide_type": "subslide"
      }
     },
     "source": [
      "## Can't handle numbers too large or small"
     ]
    },
    {
     "cell_type": "code",
     "collapsed": false,
     "input": [
      "x = 1e-308\n",
      "print \"inverse of %e is %e\" % (x, 1/x)"
     ],
     "language": "python",
     "metadata": {
      "slideshow": {
       "slide_type": "-"
      }
     },
     "outputs": [
      {
       "output_type": "stream",
       "stream": "stdout",
       "text": [
        "inverse of 1.000000e-308 is 1.000000e+308\n"
       ]
      }
     ],
     "prompt_number": 12
    },
    {
     "cell_type": "code",
     "collapsed": false,
     "input": [
      "x = 1e-309\n",
      "print \"inverse of %e is %e\" % (x, 1/x)"
     ],
     "language": "python",
     "metadata": {
      "slideshow": {
       "slide_type": "-"
      }
     },
     "outputs": [
      {
       "output_type": "stream",
       "stream": "stdout",
       "text": [
        "inverse of 1.000000e-309 is inf\n"
       ]
      }
     ],
     "prompt_number": 13
    },
    {
     "cell_type": "markdown",
     "metadata": {
      "slideshow": {
       "slide_type": "subslide"
      }
     },
     "source": [
      "## Limited Precision\n",
      "* Small number is often lost in addition and subtraction"
     ]
    },
    {
     "cell_type": "code",
     "collapsed": false,
     "input": [
      "print 1. - 1e-16 == 1."
     ],
     "language": "python",
     "metadata": {
      "slideshow": {
       "slide_type": "-"
      }
     },
     "outputs": [
      {
       "output_type": "stream",
       "stream": "stdout",
       "text": [
        "False\n"
       ]
      }
     ],
     "prompt_number": 14
    },
    {
     "cell_type": "code",
     "collapsed": false,
     "input": [
      "print 1. + 1e-16 == 1."
     ],
     "language": "python",
     "metadata": {
      "slideshow": {
       "slide_type": "-"
      }
     },
     "outputs": [
      {
       "output_type": "stream",
       "stream": "stdout",
       "text": [
        "True\n"
       ]
      }
     ],
     "prompt_number": 15
    },
    {
     "cell_type": "code",
     "collapsed": false,
     "input": [
      "a = math.factorial(30) # in Python's bignum\n",
      "print \"a = \", a\n",
      "print \"maxint = \", sys.maxint\n",
      "print \"a - maxint == a ?\", (a - sys.maxint) == a\n",
      "print\n",
      "\n",
      "b = float(math.factorial(30))\n",
      "print \"b = \", b\n",
      "print \"b - maxint == b ?\", (b - sys.maxint) == b"
     ],
     "language": "python",
     "metadata": {
      "slideshow": {
       "slide_type": "fragment"
      }
     },
     "outputs": [
      {
       "output_type": "stream",
       "stream": "stdout",
       "text": [
        "a =  265252859812191058636308480000000\n",
        "maxint =  2147483647\n",
        "a - maxint == a ? False\n",
        "\n",
        "b =  2.65252859812e+32\n",
        "b - maxint == b ? True\n"
       ]
      }
     ],
     "prompt_number": 16
    },
    {
     "cell_type": "markdown",
     "metadata": {
      "slideshow": {
       "slide_type": "subslide"
      }
     },
     "source": [
      "## Subtle Errors\n",
      "\n",
      "The limited precision can cause subtle errors that are puzzling even for experiened programmers."
     ]
    },
    {
     "cell_type": "code",
     "collapsed": false,
     "input": [
      "a = np.arange(0, 3. - 1., 1.)\n",
      "print \"a = \", a\n",
      "print \"a/3 = \", a/3."
     ],
     "language": "python",
     "metadata": {},
     "outputs": [
      {
       "output_type": "stream",
       "stream": "stdout",
       "text": [
        "a =  [ 0.  1.]\n",
        "a/3 =  [ 0.          0.33333333]\n"
       ]
      }
     ],
     "prompt_number": 17
    },
    {
     "cell_type": "code",
     "collapsed": false,
     "input": [
      "b = np.arange(0, 1 - 1./3., 1./3.)\n",
      "print \"b = \", b"
     ],
     "language": "python",
     "metadata": {},
     "outputs": [
      {
       "output_type": "stream",
       "stream": "stdout",
       "text": [
        "b =  [ 0.          0.33333333  0.66666667]\n"
       ]
      }
     ],
     "prompt_number": 18
    },
    {
     "cell_type": "markdown",
     "metadata": {},
     "source": [
      "It should become your instinct to always use error bound when comparing floating numbers, or use integer comparison as the condition for ending loops."
     ]
    },
    {
     "cell_type": "code",
     "collapsed": false,
     "input": [
      "b = arange(0, 1 - 1./3. - 1e-10, 1./3)\n",
      "print \"b = \", b"
     ],
     "language": "python",
     "metadata": {
      "slideshow": {
       "slide_type": "fragment"
      }
     },
     "outputs": [
      {
       "output_type": "stream",
       "stream": "stdout",
       "text": [
        "b =  [ 0.          0.33333333]\n"
       ]
      }
     ],
     "prompt_number": 19
    },
    {
     "cell_type": "markdown",
     "metadata": {
      "slideshow": {
       "slide_type": "subslide"
      }
     },
     "source": [
      "## A more realistic example \n",
      "\n",
      "* compute $e^x$ via Taylor expansion: \n",
      "\n",
      "$$e^x = \\sum_{n=0}^{\\infty}\\frac{x^n}{n!} = 1 + x + \\frac{1}{2}x^2 + ...$$"
     ]
    },
    {
     "cell_type": "code",
     "collapsed": false,
     "input": [
      "import math\n",
      "\n",
      "def exp_taylor(x, n) :\n",
      "    return sum([1.*x**i/math.factorial(i) for i in np.arange(1, n)]) + 1.\n",
      "\n",
      "x = 5\n",
      "print \"relative error for exp(%.f) is %.2f%%\" % (x, (np.exp(x) - exp_taylor(x, 100))/np.exp(x)*100)\n",
      "x = -5\n",
      "print \"relative error for exp(%.f) is %.2f%%\" % (x, (np.exp(x) - exp_taylor(x, 100))/np.exp(x)*100)\n",
      "\n",
      "print \"exp_taylor(%.f) = %f, exp(%.f) = %f\" % (x, exp_taylor(-5, 150), x, np.exp(-5))"
     ],
     "language": "python",
     "metadata": {
      "slideshow": {
       "slide_type": "-"
      }
     },
     "outputs": [
      {
       "output_type": "stream",
       "stream": "stdout",
       "text": [
        "relative error for exp(5) is 0.06%\n",
        "relative error for exp(-5) is 474.72%\n",
        "exp_taylor(-5) = -0.025249, exp(-5) = 0.006738\n"
       ]
      }
     ],
     "prompt_number": 20
    },
    {
     "cell_type": "markdown",
     "metadata": {
      "slideshow": {
       "slide_type": "subslide"
      }
     },
     "source": [
      "## Catastrophic cancellation\n",
      "\n",
      "Dramatic loss of precision can happen when very similar numbers are subtracted\n",
      "\n",
      "* Value the follwing function around 0: \n",
      "\n",
      "$$f(x) = \\frac{1}{x^2}(1-\\cos(x))$$\n",
      "\n",
      " * Mathematically: $\\lim_{x\\rightarrow 0}f(x) = \\frac{1}{2}$"
     ]
    },
    {
     "cell_type": "markdown",
     "metadata": {
      "slideshow": {
       "slide_type": "subslide"
      }
     },
     "source": [
      "The straight forward implementation failed spectacularly for small $x$."
     ]
    },
    {
     "cell_type": "code",
     "collapsed": false,
     "input": [
      "def f(x) :\n",
      "    return (1.-np.cos(x))/x**2\n",
      "\n",
      "def g(x) :\n",
      "    return (np.sin(.5*x)**2*2)/x**2\n",
      "\n",
      "x = np.arange(-4e-8, 4e-8, 1e-9)\n",
      "df = pd.DataFrame(np.array([f(x), g(x)]).T, index=x, columns=['Numerical f(x)', 'True Value']);\n",
      "df.plot();"
     ],
     "language": "python",
     "metadata": {
      "slideshow": {
       "slide_type": "-"
      }
     },
     "outputs": [
      {
       "metadata": {},
       "output_type": "display_data",
       "png": "[encoded data removed]",
       "text": [
        "<matplotlib.figure.Figure at 0x3559d30>"
       ]
      }
     ],
     "prompt_number": 21
    },
    {
     "cell_type": "markdown",
     "metadata": {
      "slideshow": {
       "slide_type": "subslide"
      }
     },
     "source": [
      "## How did it happen?"
     ]
    },
    {
     "cell_type": "code",
     "collapsed": false,
     "input": [
      "x = 1.1e-8\n",
      "print \"cos(%.16e) = %.16f\" % (x, cos(x))\n",
      "print \"1-cos(%.e) = %.16e\" % (x, 1.-cos(x))\n",
      "print \"true value of 1-cos(%.e) = %.16e\" % (x, 2*sin(.5*x)**2)"
     ],
     "language": "python",
     "metadata": {
      "slideshow": {
       "slide_type": "-"
      }
     },
     "outputs": [
      {
       "output_type": "stream",
       "stream": "stdout",
       "text": [
        "cos(1.0999999999999999e-08) = 0.9999999999999999\n",
        "1-cos(1e-08) = 1.1102230246251565e-16\n",
        "true value of 1-cos(1e-08) = 6.0499999999999997e-17\n"
       ]
      }
     ],
     "prompt_number": 22
    },
    {
     "cell_type": "markdown",
     "metadata": {
      "slideshow": {
       "slide_type": "-"
      }
     },
     "source": [
      "* Dramatic precision loss when subtracting too similar numbers\n",
      " * All the identical leading significants cancels\n",
      " * The result has much fewer number of significant digits\n",
      "* Catestrophic cancellation could happen in practice \n",
      " * The Deltas are often computed by bump and re-value\n",
      " * Very small bump sizes should be avoided"
     ]
    },
    {
     "cell_type": "markdown",
     "metadata": {
      "slideshow": {
       "slide_type": "subslide"
      }
     },
     "source": [
      "## A real example in Finance\n",
      "the CIR process is widely used in quant finance, eg, in the short rate and Heston model:\n",
      "\n",
      "$$ dr_t = \\kappa(\\mu - r) dt + \\sigma \\sqrt{r_t} dW_t\n",
      "$$\n",
      "\n",
      "the variance of $r_t$ at $t > 0$:\n",
      "\n",
      "$$\\text{Var}[r_t | r_0] = \\frac{r_0\\sigma^2}{\\kappa}(e^{-\\kappa t} - e^{-2\\kappa t}) + \\frac{\\mu\\sigma^2}{2\\kappa}(1-e^{-\\kappa t})^2$$\n",
      "\n",
      "how the catastrophic cancellation arises?"
     ]
    },
    {
     "cell_type": "code",
     "collapsed": false,
     "input": [
      "k = arange(-3e-8, 3e-8, 1e-9)*1e-7\n",
      "t = 1\n",
      "v = (1-exp(-k*t))/k\n",
      "plot(k, v, '.-')\n",
      "title(r'$\\frac{1}{\\kappa}(1-\\exp(-2\\kappa))$')\n",
      "xlabel(r'$\\kappa$');"
     ],
     "language": "python",
     "metadata": {
      "slideshow": {
       "slide_type": "subslide"
      }
     },
     "outputs": [
      {
       "metadata": {},
       "output_type": "display_data",
       "png": "[encoded data removed]",
       "text": [
        "<matplotlib.figure.Figure at 0x9c44f60>"
       ]
      }
     ],
     "prompt_number": 23
    },
    {
     "cell_type": "code",
     "collapsed": false,
     "input": [
      "import sympy as sp\n",
      "sp.init_printing(use_latex = True)\n",
      "\n",
      "k = sp.symbols(\"k\", positive = True)\n",
      "e = (1-sp.exp(-k))/k\n",
      "sp.limit(e, k, 0)"
     ],
     "language": "python",
     "metadata": {
      "slideshow": {
       "slide_type": "skip"
      }
     },
     "outputs": [
      {
       "latex": [
        "$$1$$"
       ],
       "metadata": {},
       "output_type": "pyout",
       "png": "[encoded data removed]",
       "prompt_number": 24,
       "text": [
        "1"
       ]
      }
     ],
     "prompt_number": 24
    },
    {
     "cell_type": "markdown",
     "metadata": {
      "slideshow": {
       "slide_type": "subslide"
      }
     },
     "source": [
      "## Condition Number\n",
      "Consider the relative error of a function with multiple arguments: $f = f(x_1, ..., x_n)$:\n",
      "\n",
      "\\begin{eqnarray} \n",
      "df &=& \\sum_i \\frac{\\partial f}{\\partial x_i} dx_i \\\\\n",
      "\\frac{df}{f} &=& \\sum_i \\frac{x_i}{f}\\frac{\\partial f}{\\partial x_i} \\frac{dx_i}{x_i}\n",
      "\\end{eqnarray}\n",
      "\n",
      "Assuming input argument's relative errors are $\\epsilon_i$ (could be negative):\n",
      "\n",
      "$$\n",
      "\\left| \\frac{\\Delta f}{f} \\right| = \\left| \\sum_i \\frac{x_i}{f}\\frac{\\partial f}{\\partial x_i} \\epsilon_i \\right|\n",
      "\\le \\sum_i \\left| \\frac{x_i}{f}\\frac{\\partial f}{\\partial x_i} \\right| \\left|\\epsilon_i\\right| \\le \\sum_i \\left| \\frac{x_i}{f}\\frac{\\partial f}{\\partial x_i} \\right| \\epsilon \\equiv k(f) \\epsilon\n",
      "$$\n",
      "\n",
      "where $\\epsilon$ is the maximum relative error of all inputs. \n",
      "\n",
      "* $k(f) = \\sum_i \\left| \\frac{x_i}{f}\\frac{\\partial f}{\\partial x_i} \\right|$ is defined as the condition number of a function, \n",
      "* it is the maximum growth factor of the relative error.\n",
      "* the calculation loses about $\\log_{10}(k(f))$ decimal digits of accuracy."
     ]
    },
    {
     "cell_type": "markdown",
     "metadata": {
      "slideshow": {
       "slide_type": "subslide"
      }
     },
     "source": [
      " ## Condition Number Examples\n",
      " \n",
      " Condition number is the systematic way to detect potential numerical problems:\n",
      " \n",
      " * $f(x_1, x_2) = x_1 - x_2$ \n",
      " \n",
      "   $k(f) = \\frac{|x_1| + |x_2|}{|x_1 - x_2|}$, ill conditioned when $x_1 \\approx x_2$, catestrophic cancellation\n",
      "   \n",
      " * $f(x_1, x_2) = x_1 x_2$ \n",
      " \n",
      "   $k(f) = 2$, the multiplication is well conditioned\n",
      "   \n",
      "\n",
      "In practice, it is impossible to run this analysis over complicated calculations:\n",
      "\n",
      "* Have to rely upon monitoring and testing\n",
      "* Know where to look when numerical instability arises"
     ]
    },
    {
     "cell_type": "markdown",
     "metadata": {
      "slideshow": {
       "slide_type": "subslide"
      }
     },
     "source": [
      "## Well-posed problem can be unstable\n",
      "\n",
      "Consider the previous example of $f(x) = \\frac{1}{x^2}(1-\\cos(x))$:\n",
      "\n",
      "$$\n",
      "k(f) = \\left| 2 + \\frac{x \\sin{\\left (x \\right )}}{\\cos{\\left (x \\right )} - 1}  \\right|\n",
      "$$\n",
      "\n",
      " * $k(f) \\rightarrow \\infty$ near $x = 2\\pi$, it is ill-posed near $x = 2\\pi$ due to catastrophic cancellation.\n",
      " * $k(f) \\rightarrow 0$ near $x = 0$, it is well-posed near $x = 0$.\n",
      "\n",
      "The numerical algorithm can be unstable even if the problem itself is well-posed.\n",
      " * A better algorithm is:\n",
      " \n",
      " $$f(x) = \\frac{2\\sin^2(\\frac{x}{2})}{x^2}$$\n",
      " \n",
      "But an ill-posed problem is always numerically unstable."
     ]
    },
    {
     "cell_type": "code",
     "collapsed": false,
     "input": [
      "x, k = sp.symbols('x, k', real = True)\n",
      "f = (1-sp.cos(x))/x**2\n",
      "k = sp.simplify(f.diff(x)*x/f)\n",
      "sp.limit(k, x, 0)\n",
      "sp.simplify(1-sp.cos(2*x))"
     ],
     "language": "python",
     "metadata": {
      "slideshow": {
       "slide_type": "skip"
      }
     },
     "outputs": [
      {
       "latex": [
        "$$2 \\sin^{2}{\\left (x \\right )}$$"
       ],
       "metadata": {},
       "output_type": "pyout",
       "png": "[encoded data removed]",
       "prompt_number": 25,
       "text": [
        "     2   \n",
        "2\u22c5sin (x)"
       ]
      }
     ],
     "prompt_number": 25
    },
    {
     "cell_type": "markdown",
     "metadata": {
      "slideshow": {
       "slide_type": "subslide"
      }
     },
     "source": [
      "#Ill-posed numerical algorithm\n",
      "\n",
      "Ill-posed problem are generally not suitable for numerical solutions.\n",
      "\n",
      "The Mandelbrot set is a famous example:\n",
      "\n",
      "* defined using an iterative algorithm in complex number: $z_{i+1} = z_i^2 + c$\n",
      "* the color of $z_0$ is assigned as how many iterations for $|z_i|$ to go above a threshold\n",
      "* obviously unstable because of the iterative additions\n",
      "* showing exquisite details of numerical instability"
     ]
    },
    {
     "cell_type": "markdown",
     "metadata": {},
     "source": [
      "<center><img src = \"img/mandelbrot.jpg\", height = 500, width = 500></center>"
     ]
    },
    {
     "cell_type": "markdown",
     "metadata": {
      "slideshow": {
       "slide_type": "subslide"
      }
     },
     "source": [
      "## Rules of engagement for floats\n",
      "* Always allow errors when comparing numbers\n",
      "* Use double precision floating point number by default (unless you know what you are doing)\n",
      "* Avoid adding and subtracting numbers of very different magnitudes\n",
      "* Avoid subtracting very similar numbers \n",
      " * avoid using very small bump sizes when computing delta\n",
      "* Take care of the limits, especially around 0\n",
      "* Use well designed numerical libraries whenever possible\n",
      " * Even simple numerical algorithm can have spectacular pitfalls\n",
      "* Test and monitor"
     ]
    },
    {
     "cell_type": "markdown",
     "metadata": {
      "slideshow": {
       "slide_type": "subslide"
      }
     },
     "source": [
      "## Portability\n",
      "\n",
      "* Floating point computation is usually not reproducible across different platforms\n",
      "* Same code will produce different results with different compiler and hardware\n",
      " * The difference can be significant in optimization and iterative methods\n",
      "* Design your unit test to be cross platform by giving enough error allowance\n",
      "* Test and monitoring are critical"
     ]
    },
    {
     "cell_type": "markdown",
     "metadata": {
      "slideshow": {
       "slide_type": "slide"
      }
     },
     "source": [
      "## Assignments\n",
      "\n",
      "Required Reading:\n",
      "\n",
      "* Bindel and Goodman: Chapter 2\n",
      "\n",
      "Recommended Reading:\n",
      "\n",
      "* Review linear algebra (any elementary linear algebra book)\n",
      "* Andersen and Piterbarg: Chapter 1\n",
      "\n",
      "Homework\n",
      "\n",
      "* Setup your python environment following the instructions at: http://yadongli.github.io/nyumath2048/\n",
      "* Bindel and Goodman: Problem: 2.4, 2.5, 2.8, 2.9 \n",
      "* Complete [Homework Set 1](http://yadongli.github.io/nyumath2048/)"
     ]
    }
   ],
   "metadata": {}
  }
 ]
}