{
 "metadata": {
  "name": "",
  "signature": "sha256:4ec8f03dfd0805a45af3dc82d939ece1dcbe8649863e4f75715e31d51465e631"
 },
 "nbformat": 3,
 "nbformat_minor": 0,
 "worksheets": [
  {
   "cells": [
    {
     "cell_type": "markdown",
     "metadata": {},
     "source": [
      "# Homework Set 8"
     ]
    },
    {
     "cell_type": "code",
     "collapsed": false,
     "input": [
      "%pylab inline"
     ],
     "language": "python",
     "metadata": {},
     "outputs": [
      {
       "output_type": "stream",
       "stream": "stdout",
       "text": [
        "Populating the interactive namespace from numpy and matplotlib\n"
       ]
      }
     ],
     "prompt_number": 2
    },
    {
     "cell_type": "markdown",
     "metadata": {},
     "source": [
      "## Problem 1:\n",
      "\n",
      "* Applying the forward Euler's scheme to the second order ODE:\n",
      "\n",
      "$$\n",
      "y'' + (\\lambda+1)y' + \\lambda y = 0, \\;\\; y(0) = 1, \\;\\; y'(0) = \\lambda - 2, \\;\\; \\lambda >> 1.\n",
      "$$\n",
      "\n",
      "Rewrite it as a system of first order ODEs. Find the region of absolute stability. (Hint: find the eigen value decomposition of the coefficient matrix, and the region of absolute stability is the domain where the step size is chosen so that each eigen value satifies the condition for the 1D ODE.)\n",
      "     \n",
      "   "
     ]
    },
    {
     "cell_type": "markdown",
     "metadata": {},
     "source": [
      "## Problem 2\n",
      "\n",
      "* Derive the CFL condition for the Crank-Nicholson method for the Black-Scholes PDE, assuming $r=0$.\n",
      "\n"
     ]
    },
    {
     "cell_type": "markdown",
     "metadata": {},
     "source": [
      "## Problem 3\n",
      "\n",
      "* Implement the FDM for Black-Scholes PDE using the Crank-Nicolson Scheme and test your code using the same example in Lecture 13 for both the vanilla European Call and the Up-and-out Barrier Call.\n",
      "\n"
     ]
    }
   ],
   "metadata": {}
  }
 ]
}