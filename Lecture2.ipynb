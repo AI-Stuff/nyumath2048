{
 "metadata": {
  "celltoolbar": "Slideshow",
  "kernelspec": {
   "display_name": "Python 2",
   "language": "python",
   "name": "python2"
  },
  "language_info": {
   "codemirror_mode": {
    "name": "ipython",
    "version": 2
   },
   "file_extension": ".py",
   "mimetype": "text/x-python",
   "name": "python",
   "nbconvert_exporter": "python",
   "pygments_lexer": "ipython2",
   "version": "2.7.6"
  },
  "name": "",
  "signature": "sha256:c1d44d5acc5a1d512dabe7cb9473c51230b70b34c4a32468728f67db8d1095b8"
 },
 "nbformat": 3,
 "nbformat_minor": 0,
 "worksheets": [
  {
   "cells": [
    {
     "cell_type": "markdown",
     "metadata": {
      "slideshow": {
       "slide_type": "slide"
      }
     },
     "source": [
      "# Lecture 2: Linear Algebra\n",
      "\n",
      "## Topics\n",
      "\n",
      "* Review of Linear Algebra\n",
      "* Gaussian Elimination and LU Factorization\n",
      "* Cholesky decomposition\n",
      "* Matrix calculus\n",
      "* Norm and condition"
     ]
    },
    {
     "cell_type": "markdown",
     "metadata": {
      "slideshow": {
       "slide_type": "slide"
      }
     },
     "source": [
      "# Review of Linear Algebra\n",
      "\n",
      "Richard Feynman: In fact, mathematics is, to a large extent, invention of better notations."
     ]
    },
    {
     "cell_type": "markdown",
     "metadata": {
      "slideshow": {
       "slide_type": "subslide"
      }
     },
     "source": [
      "## Vector\n",
      "* Is a set of elements, which can be real or complex:\n",
      "\n",
      "\n",
      "$\\renewcommand{bs}{\\boldsymbol}$\n",
      "\n",
      "$$\n",
      "\\begin{matrix}\n",
      "\\bs u = \\left(\n",
      "\\begin{matrix}\n",
      "u_1 \\\\\n",
      "u_2 \\\\\n",
      "\\vdots \\\\\n",
      "u_n\n",
      "\\end{matrix}\n",
      "\\right) \n",
      "\\hspace{2cm}\n",
      "\\bs v = \\left(\n",
      "\\begin{matrix}\n",
      "v_1 \\\\\n",
      "v_2 \\\\\n",
      "\\vdots \\\\\n",
      "v_n\n",
      "\\end{matrix}\n",
      "\\right) \n",
      "\\end{matrix}\n",
      "$$\n",
      "\n",
      "## Basic vector operations\n",
      "* Vector addition: $\\bs{w = u + v}$\n",
      "* Scalar multiplication: $\\bs w = a \\bs u$, where $a$ is a scalar"
     ]
    },
    {
     "cell_type": "markdown",
     "metadata": {
      "slideshow": {
       "slide_type": "subslide"
      }
     },
     "source": [
      "## Notation\n",
      "\n",
      "We use the following notation throughout the class:\n",
      "* column vector: $\\bs {u, v, x, \\beta}$ \n",
      "* row vector: $\\bs u^T, \\bs v^T, \\bs x^T, \\bs \\beta^T$\n",
      "* scalar: $a, b, \\alpha, \\beta$ \n",
      "* matrix: $A, B, P$\n",
      "* random variables: $\\tilde a, \\tilde{\\bs u}, \\tilde{\\bs v}^T$"
     ]
    },
    {
     "cell_type": "markdown",
     "metadata": {
      "slideshow": {
       "slide_type": "subslide"
      }
     },
     "source": [
      "## Vector addition\n",
      "* Associativity: $\\bs{u + (v + w) = (u + v) + w}$\n",
      "* Cumutativity: $\\bs{u + v = v + u}$\n",
      "* Identity: $\\bs{v + 0 = v}$ for $\\forall \\bs{v}$\n",
      "* Inverse: for $\\forall \\bs{v}$, exists an $-\\bs{v}$, so that $\\bs{v + (-v) = 0}$ \n",
      "* Distributivity: $a \\bs{(u + v)} = a \\bs{u} + a \\bs v, (a+b) \\bs v = a \\bs v + b \\bs v$\n",
      "\n",
      "## Scalar multiplication\n",
      "* Associativity: $a(b \\bs v) = (ab)\\bs v$\n",
      "* Identity: $1 \\bs v = \\bs v$, for $\\forall \\bs v$"
     ]
    },
    {
     "cell_type": "markdown",
     "metadata": {
      "slideshow": {
       "slide_type": "subslide"
      }
     },
     "source": [
      "## Vector space $\\Omega$\n",
      "* a collection of vectors that can be added and multiplied by scalars.\n",
      "\n",
      "## Vector subspace\n",
      "* a subset of the vector space $\\Omega' \\subset \\Omega$  that is closed under vector addition and scalar multiplication"
     ]
    },
    {
     "cell_type": "markdown",
     "metadata": {
      "slideshow": {
       "slide_type": "subslide"
      }
     },
     "source": [
      "## Linear combination\n",
      "* $\\bs v = a_1 \\bs v_1 + a_2 \\bs v_2 + ... + a_n \\bs v_n$\n",
      "* Linear combinations of vectors form a subspace $\\Omega_v = \\text{span}(\\bs{v_1, v_2, ... v_n}) \\subset \\Omega$\n",
      "* Linear independence: $\\bs {v = 0} \\iff a_k = 0$ for $\\forall k$ \n",
      "* Basis: any set of linearly independent $\\bs v_i$ that spans $\\Omega_v$\n",
      "* Dimension of $\\Omega_v$ is the number of vectors in (any of) its basis"
     ]
    },
    {
     "cell_type": "markdown",
     "metadata": {
      "slideshow": {
       "slide_type": "subslide"
      }
     },
     "source": [
      "## Inner product\n",
      "* $\\langle \\bs u, a \\bs v_1 + b \\bs v_2 \\rangle = a \\langle \\bs{u, v_1} \\rangle + b \\langle \\bs{u, v_2} \\rangle$ \n",
      "* $\\langle \\bs{u, v} \\rangle = \\langle \\bs{v, u} \\rangle^c$ \n",
      "* $\\langle \\bs{u, u} \\rangle \\ge 0$ \n",
      "* $\\langle \\bs{u, u} \\rangle = 0 \\iff u = 0$ \n",
      "* $\\bs {u, v}$ othogonal if $\\langle \\bs{u, v} \\rangle = 0$ "
     ]
    },
    {
     "cell_type": "markdown",
     "metadata": {
      "slideshow": {
       "slide_type": "subslide"
      }
     },
     "source": [
      "## Dot product\n",
      "\n",
      "A special case of inner product:\n",
      "* the standard inner product: $\\bs{u \\cdot v} = \\sum_{k=1}^n u_k^c v_k$  \n",
      "* the magnitude of a vector $\\bs b$ is $\\vert b \\vert = \\sqrt{\\bs b \\cdot \\bs b}$\n",
      "* the projection of vector $\\bs a$ to the direction of vector $\\bs b$ is: $ a_1 = \\frac{\\bs a \\cdot \\bs b}{\\vert b \\vert} = \\vert \\bs a \\vert \\cos(\\theta) $\n",
      "\n",
      "<center>\n",
      "<img src=\"img/projection.png\">\n",
      "</center>"
     ]
    },
    {
     "cell_type": "markdown",
     "metadata": {
      "slideshow": {
       "slide_type": "subslide"
      }
     },
     "source": [
      "## Matrix\n",
      "* Represents a linear response to multiple input factors:\n",
      "\n",
      "$$ \\overset{\\text{Outputs}}{\\longleftarrow}\\overset{\\downarrow \\text{Inputs}}\n",
      "{\\begin{pmatrix}\n",
      "a_{11} & a_{12} & . & a_{1n} \\\\\n",
      "a_{21} & a_{22} & . & a_{2n} \\\\\n",
      ".      & .      & . & \\\\\n",
      "a_{m1} & a_{m2} & . & a_{mn}\n",
      "\\end{pmatrix}} $$\n",
      "\n",
      "* Matrix addition and scalar multiplication are element wise, similar to those for vectors"
     ]
    },
    {
     "cell_type": "markdown",
     "metadata": {
      "slideshow": {
       "slide_type": "subslide"
      }
     },
     "source": [
      "## Matrix multiplication\n",
      "\n",
      "<center><img src=\"img/matrixprod.png\"></center>\n",
      "\n",
      "$$\\begin{array}\n",
      "\\\\ \\bs u = A \\bs v &\\iff u_i = \\sum_{j=1}^{n} a_{ij}v_j \\\\\n",
      "C = AB &\\iff c_{ij} = \\sum_{k=1}^{n} a_{ik}b_{kj} = a_i \\cdot b_j\n",
      "\\end{array}$$"
     ]
    },
    {
     "cell_type": "markdown",
     "metadata": {
      "slideshow": {
       "slide_type": "subslide"
      }
     },
     "source": [
      "## Matrix represents linear transformation\n",
      "Linear function on vectors:\n",
      "* $L(\\bs{u + v}) = L(\\bs u) + L(\\bs v)$ \n",
      "* $L(a \\bs v) = a L(\\bs v)$ \n",
      "\n",
      "Any linear transformation bewteen finite dimensional vector space can be represented by a matrix multiplication, therefore we can write $L \\bs u$ instead of $L(\\bs u)$."
     ]
    },
    {
     "cell_type": "markdown",
     "metadata": {
      "slideshow": {
       "slide_type": "subslide"
      }
     },
     "source": [
      "## Properties of linear transformation\n",
      "* Associativity: $A(BC) = (AB)C$\n",
      "* Distributivity: \n",
      " * $A(B+C) = AB + AC$\n",
      " * $(B+C)A = BA + CA$ \n",
      " * $\\alpha (A+B) = \\alpha A + \\alpha B$\n",
      "* But **not** commutative: $AB \\ne BA$\n",
      "\n",
      "$\\renewcommand{id}{I}$"
     ]
    },
    {
     "cell_type": "markdown",
     "metadata": {
      "slideshow": {
       "slide_type": "subslide"
      }
     },
     "source": [
      "## Matrix definitions\n",
      "\n",
      "* Identity matrix $\\id$: $\\id A = A \\id = A$\n",
      "* $A^T$ is the transpose of $A$: $a^T_{ij} = a_{ji}$\n",
      "* Symmetric matrix: $A = A^T$\n",
      "* $A^*$ is the adjoint of $A$: $a^*_{ij} = a_{ji}^c$\n",
      "  * real matrix: $A^T = A^*$\n",
      "  * self-adjoint (Hermitian) matrix: $A = A^*$\n",
      "* Inverse matrix: $AA^{-1} = A^{-1}A = \\id$\n",
      "* Orthogonal matrix: $A^T = A^{-1} \\iff AA^T = \\id$"
     ]
    },
    {
     "cell_type": "heading",
     "level": 1,
     "metadata": {
      "slideshow": {
       "slide_type": "slide"
      }
     },
     "source": [
      "LU Factorization"
     ]
    },
    {
     "cell_type": "markdown",
     "metadata": {
      "slideshow": {
       "slide_type": "subslide"
      }
     },
     "source": [
      "## Linear system\n",
      "* In matrix form, a linear system is $A \\bs {x = y}$\n",
      "* It has a unique solution if $A$ is a full rank square matrix"
     ]
    },
    {
     "cell_type": "code",
     "collapsed": false,
     "input": [
      "%pylab inline\n",
      "lecture = 2\n",
      "\n",
      "import fmt\n",
      "import sympy as sp\n",
      "from IPython.display import display, HTML\n",
      "\n",
      "sp.init_printing(use_latex = True)"
     ],
     "language": "python",
     "metadata": {
      "slideshow": {
       "slide_type": "skip"
      }
     },
     "outputs": [
      {
       "output_type": "stream",
       "stream": "stdout",
       "text": [
        "Populating the interactive namespace from numpy and matplotlib\n"
       ]
      }
     ],
     "prompt_number": 2
    },
    {
     "cell_type": "code",
     "collapsed": false,
     "input": [
      "a = sp.Matrix([[2, 1, -1], [-6, -2, 4], [-2, 1, 2]])\n",
      "y = sp.Matrix([8, -22, -3])\n",
      "X = sp.MatrixSymbol('x', 3, 1)\n",
      "x1, x2, x3 = sp.symbols('x_1, x_2, x_3')\n",
      "x = sp.Matrix([x1, x2, x3])\n",
      "fmt.displayMath(a, fmt.joinMath('=', x, y), sep=\"\", pre=\"\\\\scriptsize \")"
     ],
     "language": "python",
     "metadata": {
      "slideshow": {
       "slide_type": "-"
      }
     },
     "outputs": [
      {
       "latex": [
        "$$\\scriptsize  \\left(\\begin{matrix}2 & 1 & -1\\\\-6 & -2 & 4\\\\-2 & 1 & 2\\end{matrix}\\right)\\left(\\begin{matrix}x_{1}\\\\x_{2}\\\\x_{3}\\end{matrix}\\right)=\\left(\\begin{matrix}8\\\\-22\\\\-3\\end{matrix}\\right)$$"
       ],
       "metadata": {},
       "output_type": "display_data",
       "text": [
        "<IPython.core.display.Math at 0x230e588>"
       ]
      }
     ],
     "prompt_number": 3
    },
    {
     "cell_type": "markdown",
     "metadata": {
      "slideshow": {
       "slide_type": "subslide"
      }
     },
     "source": [
      "## Gaussian elimination\n",
      "\n",
      "Eliminate the $x_1$ terms using the first row, this operation is a linear transformation:\n"
     ]
    },
    {
     "cell_type": "code",
     "collapsed": false,
     "input": [
      "A = sp.MatrixSymbol('A', 3, 3)\n",
      "L1 = sp.MatrixSymbol('L_1', 3, 3)\n",
      "L2 = sp.MatrixSymbol('L_2', 3, 3)\n",
      "l1 = sp.eye(3)\n",
      "l1[1, 0] = -a[1, 0]/a[0, 0]\n",
      "l1[2, 0] = -a[2, 0]/a[0, 0]\n",
      "\n",
      "fmt.displayMath(L1*a, fmt.joinMath('=', x, L1*y), \"\\;,\\;\\;\", l1*a, fmt.joinMath('=', x, l1*y), sep=\"\", \n",
      "                pre=\"\\\\scriptsize \")"
     ],
     "language": "python",
     "metadata": {
      "slideshow": {
       "slide_type": "-"
      }
     },
     "outputs": [
      {
       "latex": [
        "$$\\scriptsize  L_{1} \\left(\\begin{matrix}2 & 1 & -1\\\\-6 & -2 & 4\\\\-2 & 1 & 2\\end{matrix}\\right)\\left(\\begin{matrix}x_{1}\\\\x_{2}\\\\x_{3}\\end{matrix}\\right)=L_{1} \\left(\\begin{matrix}8\\\\-22\\\\-3\\end{matrix}\\right)\\;,\\;\\;\\left(\\begin{matrix}2 & 1 & -1\\\\0 & 1 & 1\\\\0 & 2 & 1\\end{matrix}\\right)\\left(\\begin{matrix}x_{1}\\\\x_{2}\\\\x_{3}\\end{matrix}\\right)=\\left(\\begin{matrix}8\\\\2\\\\5\\end{matrix}\\right)$$"
       ],
       "metadata": {},
       "output_type": "display_data",
       "text": [
        "<IPython.core.display.Math at 0xad1eb38>"
       ]
      }
     ],
     "prompt_number": 4
    },
    {
     "cell_type": "markdown",
     "metadata": {
      "slideshow": {
       "slide_type": "fragment"
      }
     },
     "source": [
      "Use the 2nd equation (row) to eliminate the $x_2$ terms:"
     ]
    },
    {
     "cell_type": "code",
     "collapsed": false,
     "input": [
      "l2 = sp.eye(3)\n",
      "a2 = l1*a\n",
      "y2 = l1*y\n",
      "l2[2, 1] = -a2[2, 1]/a2[1, 1]\n",
      "u = l2*a2\n",
      "fmt.displayMath(L2*a2, fmt.joinMath('=', x, L2*y2), \"\\;,\\;\", u, fmt.joinMath('=', x, l2*y2), \n",
      "                sep=\"\", pre=\"\\\\scriptsize \")"
     ],
     "language": "python",
     "metadata": {
      "slideshow": {
       "slide_type": "fragment"
      }
     },
     "outputs": [
      {
       "latex": [
        "$$\\scriptsize  L_{2} \\left(\\begin{matrix}2 & 1 & -1\\\\0 & 1 & 1\\\\0 & 2 & 1\\end{matrix}\\right)\\left(\\begin{matrix}x_{1}\\\\x_{2}\\\\x_{3}\\end{matrix}\\right)=L_{2} \\left(\\begin{matrix}8\\\\2\\\\5\\end{matrix}\\right)\\;,\\;\\left(\\begin{matrix}2 & 1 & -1\\\\0 & 1 & 1\\\\0 & 0 & -1\\end{matrix}\\right)\\left(\\begin{matrix}x_{1}\\\\x_{2}\\\\x_{3}\\end{matrix}\\right)=\\left(\\begin{matrix}8\\\\2\\\\1\\end{matrix}\\right)$$"
       ],
       "metadata": {},
       "output_type": "display_data",
       "text": [
        "<IPython.core.display.Math at 0xad1e6a0>"
       ]
      }
     ],
     "prompt_number": 5
    },
    {
     "cell_type": "markdown",
     "metadata": {
      "slideshow": {
       "slide_type": "fragment"
      }
     },
     "source": [
      "the $L_1$ and $L_2$ are both lower triangular matrix"
     ]
    },
    {
     "cell_type": "code",
     "collapsed": false,
     "input": [
      "Ui = sp.MatrixSymbol('U^{-1}', 3, 3)\n",
      "U = sp.MatrixSymbol('U', 3, 3)\n",
      "L = sp.MatrixSymbol('L', 3, 3)\n",
      "fmt.displayMath(fmt.joinMath('=', L1, l1), fmt.joinMath('=', L2, l2), fmt.joinMath('=', U, u), \n",
      "                pre=\"\\\\scriptsize \")"
     ],
     "language": "python",
     "metadata": {
      "slideshow": {
       "slide_type": "fragment"
      }
     },
     "outputs": [
      {
       "latex": [
        "$$\\scriptsize  L_{1}=\\left(\\begin{matrix}1 & 0 & 0\\\\3 & 1 & 0\\\\1 & 0 & 1\\end{matrix}\\right)\\;,\\;\\;\\;L_{2}=\\left(\\begin{matrix}1 & 0 & 0\\\\0 & 1 & 0\\\\0 & -2 & 1\\end{matrix}\\right)\\;,\\;\\;\\;U=\\left(\\begin{matrix}2 & 1 & -1\\\\0 & 1 & 1\\\\0 & 0 & -1\\end{matrix}\\right)$$"
       ],
       "metadata": {},
       "output_type": "display_data",
       "text": [
        "<IPython.core.display.Math at 0xad137b8>"
       ]
      }
     ],
     "prompt_number": 6
    },
    {
     "cell_type": "markdown",
     "metadata": {
      "slideshow": {
       "slide_type": "fragment"
      }
     },
     "source": [
      "The resulting matrix $U = L_2L_1A$ is upper trianglar"
     ]
    },
    {
     "cell_type": "markdown",
     "metadata": {
      "slideshow": {
       "slide_type": "subslide"
      }
     },
     "source": [
      "## LU factorization\n",
      "\n",
      "The triangular matrix is easy to invert by variable replacement"
     ]
    },
    {
     "cell_type": "code",
     "collapsed": false,
     "input": [
      "y3 = l2*y2\n",
      "a3 = l2*a2\n",
      "ui = a3.inv()\n",
      "fmt.displayMath(fmt.joinMath('=', Ui, ui), \"\\;,\\;\", fmt.joinMath('=', x, Ui), \n",
      "                fmt.joinMath('=', l2*y2, ui*y3), sep=\"\\;\", pre=\"\\\\scriptsize \")"
     ],
     "language": "python",
     "metadata": {
      "slideshow": {
       "slide_type": "-"
      }
     },
     "outputs": [
      {
       "latex": [
        "$$\\scriptsize  U^{{-1}}=\\left(\\begin{matrix}\\frac{1}{2} & - \\frac{1}{2} & -1\\\\0 & 1 & 1\\\\0 & 0 & -1\\end{matrix}\\right)\\;\\;,\\;\\;\\left(\\begin{matrix}x_{1}\\\\x_{2}\\\\x_{3}\\end{matrix}\\right)=U^{{-1}}\\;\\left(\\begin{matrix}8\\\\2\\\\1\\end{matrix}\\right)=\\left(\\begin{matrix}2\\\\3\\\\-1\\end{matrix}\\right)$$"
       ],
       "metadata": {},
       "output_type": "display_data",
       "text": [
        "<IPython.core.display.Math at 0xad13668>"
       ]
      }
     ],
     "prompt_number": 7
    },
    {
     "cell_type": "markdown",
     "metadata": {
      "slideshow": {
       "slide_type": "fragment"
      }
     },
     "source": [
      "Now we can group $L = L_1^{-1}L_2^{-1}$ and obtain the LU factorization\n",
      "\n",
      "$$L_2 L_1 A = U \\iff A = L_1^{-1} L_2^{-1} U \\iff A = LU $$\n",
      "\n",
      "* $U$ is a upper triangular matrix.\n",
      "* There can be infinite numbers of LU pairs, the convention is to keep the diagonal elements of $L$ matrix 1. "
     ]
    },
    {
     "cell_type": "code",
     "collapsed": false,
     "input": [
      "l =  l1.inv()*l2.inv()\n",
      "fmt.displayMath(fmt.joinMath('=', L, l), fmt.joinMath('=', U, a3), fmt.joinMath('=', L*U, l*a3), \n",
      "                pre=\"\\\\scriptsize \")"
     ],
     "language": "python",
     "metadata": {
      "slideshow": {
       "slide_type": "subslide"
      }
     },
     "outputs": [
      {
       "latex": [
        "$$\\scriptsize  L=\\left(\\begin{matrix}1 & 0 & 0\\\\-3 & 1 & 0\\\\-1 & 2 & 1\\end{matrix}\\right)\\;,\\;\\;\\;U=\\left(\\begin{matrix}2 & 1 & -1\\\\0 & 1 & 1\\\\0 & 0 & -1\\end{matrix}\\right)\\;,\\;\\;\\;L U=\\left(\\begin{matrix}2 & 1 & -1\\\\-6 & -2 & 4\\\\-2 & 1 & 2\\end{matrix}\\right)$$"
       ],
       "metadata": {},
       "output_type": "display_data",
       "text": [
        "<IPython.core.display.Math at 0x4078f98>"
       ]
      }
     ],
     "prompt_number": 8
    },
    {
     "cell_type": "markdown",
     "metadata": {
      "slideshow": {
       "slide_type": "-"
      }
     },
     "source": [
      "* The LU factorization is the matrix representation of Gaussian elimination\n",
      "* LU factorization can be used to compute matrix inversion\n",
      "  * trianglular matrix can be inverted by simple substitution"
     ]
    },
    {
     "cell_type": "markdown",
     "metadata": {
      "slideshow": {
       "slide_type": "subslide"
      }
     },
     "source": [
      "## Pivoting\n",
      "\n",
      "The Gaussian elimination does not work if there are 0s in the diagonal of the matrix.\n",
      "* The rows of the matrix can be permuted first, so that the diagonal elements have the greatest magnitude. \n",
      "\n",
      "$$ A = P \\cdot L \\cdot U $$\n",
      "\n",
      "where the $P$ matrix represent the row permutation. The permutation (pivoting) also improve the numerical stability:"
     ]
    },
    {
     "cell_type": "code",
     "collapsed": false,
     "input": [
      "from scipy.linalg import lu\n",
      "\n",
      "def displayMultiple(fs) :\n",
      "    tl=map(lambda tc: '$' + sp.latex(tc) + '$',fs)\n",
      "    r = '''\n",
      "  <table border=\"0\"><tr>'''\n",
      "    for v in tl :\n",
      "        r += \"<td>\" + v + \"</td>\"\n",
      "    r += \"</tr></table>\"\n",
      "    return r\n",
      "\n",
      "a = sp.Matrix([[0, 3, 1, 2], [4, 0, -3, 1], [-3, 1, 0, 2], [9, 2, 5, 0]])\n",
      "p, l, u = map(lambda x: sp.Matrix(x), lu(a))\n",
      "Pi = sp.MatrixSymbol('P^{-1}', 4, 4)\n",
      "A = sp.MatrixSymbol('A', 4, 4)\n",
      "P = sp.MatrixSymbol('P', 4, 4)\n",
      "fmt.displayMath(fmt.joinMath('=', A, a), fmt.joinMath('=', P, p), pre=\"\\\\scriptsize \")"
     ],
     "language": "python",
     "metadata": {
      "slideshow": {
       "slide_type": "-"
      }
     },
     "outputs": [
      {
       "latex": [
        "$$\\scriptsize  A=\\left(\\begin{matrix}0 & 3 & 1 & 2\\\\4 & 0 & -3 & 1\\\\-3 & 1 & 0 & 2\\\\9 & 2 & 5 & 0\\end{matrix}\\right)\\;,\\;\\;\\;P=\\left(\\begin{matrix}0.0 & 1.0 & 0.0 & 0.0\\\\0.0 & 0.0 & 1.0 & 0.0\\\\0.0 & 0.0 & 0.0 & 1.0\\\\1.0 & 0.0 & 0.0 & 0.0\\end{matrix}\\right)$$"
       ],
       "metadata": {},
       "output_type": "display_data",
       "text": [
        "<IPython.core.display.Math at 0xad1e390>"
       ]
      }
     ],
     "prompt_number": 9
    },
    {
     "cell_type": "code",
     "collapsed": false,
     "input": [
      "fmt.displayMath(sp.Eq (Pi*A, p.inv()*a), pre=\"\\\\scriptsize \")"
     ],
     "language": "python",
     "metadata": {
      "slideshow": {
       "slide_type": "-"
      }
     },
     "outputs": [
      {
       "latex": [
        "$$\\scriptsize  P^{{-1}} A = \\left(\\begin{matrix}9.0 & 2.0 & 5.0 & 0\\\\0 & 3.0 & 1.0 & 2.0\\\\4.0 & 0 & -3.0 & 1.0\\\\-3.0 & 1.0 & 0 & 2.0\\end{matrix}\\right)$$"
       ],
       "metadata": {},
       "output_type": "display_data",
       "text": [
        "<IPython.core.display.Math at 0xad559e8>"
       ]
      }
     ],
     "prompt_number": 10
    },
    {
     "cell_type": "markdown",
     "metadata": {
      "slideshow": {
       "slide_type": "slide"
      }
     },
     "source": [
      "# Cholesky Decomposition\n",
      "\n",
      "a.k.a Cholesky Factorization"
     ]
    },
    {
     "cell_type": "markdown",
     "metadata": {
      "slideshow": {
       "slide_type": "subslide"
      }
     },
     "source": [
      "## Covariance matrix\n",
      "\n",
      "The most important and ubiquitous matrix in quant Finance, \n",
      "\n",
      "* given random factors $\\bs{\\tilde r} = [r_1, ..., r_n]^T$ and their expectation: $\\bar{\\bs r} = \\mathbb{E}[\\bs {\\tilde r}]$\n",
      "\n",
      "The covariance matrix is:\n",
      "\n",
      "$$V = \\mathbb{E}[(\\bs {\\tilde r} - \\bar{\\bs r})(\\bs {\\tilde r} - \\bar{\\bs r})^T] = \\mathbb{E}[\\bs{\\tilde r} \\bs{\\tilde r}^T] - \\bar{\\bs r}\\bar{\\bs r}^T $$\n",
      "\n",
      "* The element $(i, j)$ in $V$ is: $\\text{cov}(r_i, r_j) = \\rho_{ij} \\sigma_i \\sigma_j$.\n",
      "\n",
      "Covariance of linear combinations of factors: \n",
      " \n",
      "$$\\begin{array}{l}\n",
      "\\text{cov}(\\bs x^T \\bs r, \\bs y^T \\bs r) &= \\mathbb{E}[(\\bs x^T \\bs r)(\\bs r^T \\bs y)] - \\mathbb{E}[\\bs x^T \\bs r]\\mathbb{E}[\\bs r^T \\bs y]\\\\\n",
      "&= \\bs x^T \\mathbb{E}[\\bs r \\bs r^T] \\bs y - \\bs x^T \\bar{\\bs r}\\bar{\\bs r}^T \\bs y = \\bs x^T V \\bs y\n",
      "\\end{array}$$"
     ]
    },
    {
     "cell_type": "markdown",
     "metadata": {
      "slideshow": {
       "slide_type": "subslide"
      }
     },
     "source": [
      "## Correlation matrix\n",
      "\n",
      "$\\renewcommand{Sigma}{\\mathcal{S}}$\n",
      "\n",
      "* $C = (\\rho_{ij})$ is the co-variance matrix of the normalized factors $\\bs {\\tilde s} = [\\frac{r_1}{\\sigma_1}, ..., \\frac{r_n}{\\sigma_n}]^T$\n",
      "* $V = \\Sigma C \\Sigma $, where $\\Sigma$ is a diagonal matrix of $\\sigma_i$\n",
      "* all elements in a correlation matrix are within [-1, 1]\n"
     ]
    },
    {
     "cell_type": "markdown",
     "metadata": {
      "slideshow": {
       "slide_type": "subslide"
      }
     },
     "source": [
      "## Symmetric positive definite (SPD)\n",
      "\n",
      "Positive definite:\n",
      "* Matrix $A$ is positive definite if $\\bs x^T A \\bs x > 0$ for $\\forall \\bs{x \\ne 0}$\n",
      "* Matrix $A$ is semi positive definite if $\\bs x^T A \\bs {x \\ge 0}$ for $\\forall \\bs{x \\ne 0}$\n",
      "* Positive definite does not imply every element in the matrix is positive\n",
      "\n",
      "Both covariance and correlation matrices are symmetric (semi) positive definte (SPD):\n",
      "\n",
      "* $\\bs x^T V \\bs x = \\text{cov}[\\bs x^T \\bs {\\tilde r},\\bs x^T \\bs {\\tilde r}] = \\text{var}[\\bs x^T \\bs {\\tilde r}] \\ge 0$\n",
      "* $\\bs x^T C \\bs x = \\text{cov}[\\bs x^T \\bs {\\tilde s},\\bs x^T \\bs {\\tilde s}] = \\text{var}[\\bs x^T \\bs {\\tilde s}] \\ge 0$"
     ]
    },
    {
     "cell_type": "heading",
     "level": 2,
     "metadata": {
      "slideshow": {
       "slide_type": "subslide"
      }
     },
     "source": [
      "Example: weekly price and returns"
     ]
    },
    {
     "cell_type": "code",
     "collapsed": false,
     "input": [
      "import pandas as pd\n",
      "f3 = pd.read_csv('data/f3.csv', parse_dates=[0]).set_index('Date').sort()\n",
      "\n",
      "fig = figure(figsize=[12, 4])\n",
      "ax1 = fig.add_subplot(121)\n",
      "f3.plot(title='Historical Prices', ax=ax1);\n",
      "\n",
      "ax2 = fig.add_subplot(122)\n",
      "r = np.log(f3).diff()\n",
      "r.plot(title='Historical Returns', ax=ax2);"
     ],
     "language": "python",
     "metadata": {
      "slideshow": {
       "slide_type": "-"
      }
     },
     "outputs": [
      {
       "output_type": "stream",
       "stream": "stderr",
       "text": [
        "-c:2: FutureWarning: sort(....) is deprecated, use sort_index(.....)\n"
       ]
      },
      {
       "metadata": {},
       "output_type": "display_data",
       "png": "[encoded data removed]",
       "text": [
        "<matplotlib.figure.Figure at 0xad5b908>"
       ]
      }
     ],
     "prompt_number": 11
    },
    {
     "cell_type": "markdown",
     "metadata": {
      "slideshow": {
       "slide_type": "subslide"
      }
     },
     "source": [
      "Correlation and covariance matrix of weekly returns:"
     ]
    },
    {
     "cell_type": "code",
     "collapsed": false,
     "input": [
      "cm = r.corr()\n",
      "cv = r.cov()\n",
      "    \n",
      "fmt.displayDFs(cm, cv*1e4, headers=['Correlation', 'Covariance'], fmt=\"4f\")"
     ],
     "language": "python",
     "metadata": {
      "slideshow": {
       "slide_type": "-"
      }
     },
     "outputs": [
      {
       "html": [
        "<center><table style=\"border-style:hidden; border-collapse:collapse; text-align:center;\"><tr style=\"border:none\"><th style=\"border:none; text-align:center\">Correlation</th><th style=\"border:none; text-align:center\">Covariance</th></tr><tr style=\"border:none\"><td style=\"border:none; padding:20px; text-align:center\"><table border=\"1\" class=\"dataframe\">\n",
        "  <thead>\n",
        "    <tr style=\"text-align: right;\">\n",
        "      <th></th>\n",
        "      <th>SPY</th>\n",
        "      <th>GLD</th>\n",
        "      <th>OIL</th>\n",
        "    </tr>\n",
        "  </thead>\n",
        "  <tbody>\n",
        "    <tr>\n",
        "      <th>SPY</th>\n",
        "      <td>1.0000</td>\n",
        "      <td>0.0321</td>\n",
        "      <td>0.4191</td>\n",
        "    </tr>\n",
        "    <tr>\n",
        "      <th>GLD</th>\n",
        "      <td>0.0321</td>\n",
        "      <td>1.0000</td>\n",
        "      <td>0.3011</td>\n",
        "    </tr>\n",
        "    <tr>\n",
        "      <th>OIL</th>\n",
        "      <td>0.4191</td>\n",
        "      <td>0.3011</td>\n",
        "      <td>1.0000</td>\n",
        "    </tr>\n",
        "  </tbody>\n",
        "</table></td><td style=\"border:none; padding:20px; text-align:center\"><table border=\"1\" class=\"dataframe\">\n",
        "  <thead>\n",
        "    <tr style=\"text-align: right;\">\n",
        "      <th></th>\n",
        "      <th>SPY</th>\n",
        "      <th>GLD</th>\n",
        "      <th>OIL</th>\n",
        "    </tr>\n",
        "  </thead>\n",
        "  <tbody>\n",
        "    <tr>\n",
        "      <th>SPY</th>\n",
        "      <td>8.0432</td>\n",
        "      <td>0.2461</td>\n",
        "      <td>5.6109</td>\n",
        "    </tr>\n",
        "    <tr>\n",
        "      <th>GLD</th>\n",
        "      <td>0.2461</td>\n",
        "      <td>7.2876</td>\n",
        "      <td>3.8375</td>\n",
        "    </tr>\n",
        "    <tr>\n",
        "      <th>OIL</th>\n",
        "      <td>5.6109</td>\n",
        "      <td>3.8375</td>\n",
        "      <td>22.2823</td>\n",
        "    </tr>\n",
        "  </tbody>\n",
        "</table></td></tr></table></center>"
       ],
       "metadata": {},
       "output_type": "display_data",
       "text": [
        "<IPython.core.display.HTML at 0xad55898>"
       ]
      }
     ],
     "prompt_number": 12
    },
    {
     "cell_type": "markdown",
     "metadata": {
      "slideshow": {
       "slide_type": "fragment"
      }
     },
     "source": [
      "* Why don't we compute the correlation and covariance of the price levels?"
     ]
    },
    {
     "cell_type": "markdown",
     "metadata": {
      "slideshow": {
       "slide_type": "subslide"
      }
     },
     "source": [
      "## Cholesky decomposition\n",
      "\n",
      "If $A$ is symmetric semi positive definate (SPD) matrix \n",
      "\n",
      "* $A$ can be decomposed as $A = LL^T$, where $L$ is lower triangle\n",
      "* In another word, the $U = L^T$ in $A$'s LU decomposition\n",
      "* $L$ can be viewed as the \"square root\" of $A$\n",
      "\n",
      "Cholesky decomposition is unique:\n",
      "\n",
      "* The rank is same between $L$ and $A$\n",
      "* Beware that $A = LL^T \\neq L^TL$"
     ]
    },
    {
     "cell_type": "markdown",
     "metadata": {
      "slideshow": {
       "slide_type": "subslide"
      }
     },
     "source": [
      "## Examples of Cholesky decomposition:\n",
      "\n",
      "Previous correlation matrix:"
     ]
    },
    {
     "cell_type": "code",
     "collapsed": false,
     "input": [
      "lcm = np.linalg.cholesky(cm)\n",
      "lcv = np.linalg.cholesky(cv)\n",
      "fmt.displayMath(sp.Matrix(lcm).evalf(4), \n",
      "                fmt.joinMath('=', sp.Matrix(lcm.T).evalf(4), sp.Matrix(lcm.dot(lcm.T)).evalf(4)), \n",
      "                sep=\"\", pre=\"\\scriptsize\")"
     ],
     "language": "python",
     "metadata": {},
     "outputs": [
      {
       "latex": [
        "$$\\scriptsize \\left(\\begin{matrix}1.0 & 0 & 0\\\\0.03215 & 0.9995 & 0\\\\0.4191 & 0.2878 & 0.8611\\end{matrix}\\right)\\left(\\begin{matrix}1.0 & 0.03215 & 0.4191\\\\0 & 0.9995 & 0.2878\\\\0 & 0 & 0.8611\\end{matrix}\\right)=\\left(\\begin{matrix}1.0 & 0.03215 & 0.4191\\\\0.03215 & 1.0 & 0.3011\\\\0.4191 & 0.3011 & 1.0\\end{matrix}\\right)$$"
       ],
       "metadata": {},
       "output_type": "display_data",
       "text": [
        "<IPython.core.display.Math at 0xb25eb70>"
       ]
      }
     ],
     "prompt_number": 13
    },
    {
     "cell_type": "markdown",
     "metadata": {},
     "source": [
      "Previoius covariance matrix:"
     ]
    },
    {
     "cell_type": "code",
     "collapsed": false,
     "input": [
      "fmt.displayMath(sp.Matrix(lcv).evalf(4), \n",
      "                fmt.joinMath('=', sp.Matrix(lcv.T).evalf(4), sp.Matrix(lcv.dot(lcv.T)).evalf(4)), \n",
      "                sep=\"\", pre=\"\\scriptsize\")"
     ],
     "language": "python",
     "metadata": {},
     "outputs": [
      {
       "latex": [
        "$$\\scriptsize \\left(\\begin{matrix}0.02836 & 0 & 0\\\\0.0008678 & 0.02698 & 0\\\\0.01978 & 0.01359 & 0.04065\\end{matrix}\\right)\\left(\\begin{matrix}0.02836 & 0.0008678 & 0.01978\\\\0 & 0.02698 & 0.01359\\\\0 & 0 & 0.04065\\end{matrix}\\right)=\\left(\\begin{matrix}0.0008043 & 2.461 \\cdot 10^{-5} & 0.0005611\\\\2.461 \\cdot 10^{-5} & 0.0007288 & 0.0003838\\\\0.0005611 & 0.0003838 & 0.002228\\end{matrix}\\right)$$"
       ],
       "metadata": {},
       "output_type": "display_data",
       "text": [
        "<IPython.core.display.Math at 0xad60518>"
       ]
      }
     ],
     "prompt_number": 14
    },
    {
     "cell_type": "markdown",
     "metadata": {
      "slideshow": {
       "slide_type": "subslide"
      }
     },
     "source": [
      "## Recursive algorithm\n",
      "\n",
      "A SPD matrix $A$ and its Choleski decomposition $L$ can be partitioned as:"
     ]
    },
    {
     "cell_type": "code",
     "collapsed": false,
     "input": [
      "s_A, a11, A12, A21, A22 = sp.symbols(\"A, a_{11} A_{21}^T A_{21} A_{22}\")\n",
      "s_L, s_LT, l11, L12, L12T, L22, L22T = sp.symbols(\"L L^T l_{11} L_{21} L_{21}^T L_{22} L_{22}^T\")\n",
      "\n",
      "A = sp.Matrix([[a11, A12], [A21, A22]])\n",
      "L = sp.Matrix([[l11, 0], [L12, L22]])\n",
      "LT = sp.Matrix([[l11, L12T], [0, L22T]])\n",
      "\n",
      "fmt.displayMath(fmt.joinMath('=', s_A, A), fmt.joinMath('=', s_L, L), fmt.joinMath('=', s_LT, LT)\n",
      "               , pre='\\\\scriptsize')"
     ],
     "language": "python",
     "metadata": {},
     "outputs": [
      {
       "latex": [
        "$$\\scriptsize A=\\left(\\begin{matrix}a_{{11}} & A^{T}_{{21}}\\\\A_{{21}} & A_{{22}}\\end{matrix}\\right)\\;,\\;\\;\\;L=\\left(\\begin{matrix}l_{{11}} & 0\\\\L_{{21}} & L_{{22}}\\end{matrix}\\right)\\;,\\;\\;\\;L^{T}=\\left(\\begin{matrix}l_{{11}} & L^{T}_{{21}}\\\\0 & L^{T}_{{22}}\\end{matrix}\\right)$$"
       ],
       "metadata": {},
       "output_type": "display_data",
       "text": [
        "<IPython.core.display.Math at 0xb0d4d68>"
       ]
      }
     ],
     "prompt_number": 15
    },
    {
     "cell_type": "markdown",
     "metadata": {},
     "source": [
      "From $A = LL^T$:"
     ]
    },
    {
     "cell_type": "code",
     "collapsed": false,
     "input": [
      "fmt.displayMath(fmt.joinMath('=', A,  L*LT), pre='\\\\scriptsize')"
     ],
     "language": "python",
     "metadata": {},
     "outputs": [
      {
       "latex": [
        "$$\\scriptsize \\left(\\begin{matrix}a_{{11}} & A^{T}_{{21}}\\\\A_{{21}} & A_{{22}}\\end{matrix}\\right)=\\left(\\begin{matrix}l_{{11}}^{2} & L^{T}_{{21}} l_{{11}}\\\\L_{{21}} l_{{11}} & L_{{21}} L^{T}_{{21}} + L_{{22}} L^{T}_{{22}}\\end{matrix}\\right)$$"
       ],
       "metadata": {},
       "output_type": "display_data",
       "text": [
        "<IPython.core.display.Math at 0xad1e7f0>"
       ]
      }
     ],
     "prompt_number": 16
    },
    {
     "cell_type": "markdown",
     "metadata": {},
     "source": [
      "We immediately have:"
     ]
    },
    {
     "cell_type": "code",
     "collapsed": false,
     "input": [
      "fmt.displayMath(fmt.joinMath('=', l11, sp.sqrt(a11)), fmt.joinMath('=', L12,  A21/l11), \n",
      "                fmt.joinMath('=', A22 - L12*L12T, L22*L22T), pre='\\\\scriptsize')"
     ],
     "language": "python",
     "metadata": {},
     "outputs": [
      {
       "latex": [
        "$$\\scriptsize l_{{11}}=\\sqrt{a_{{11}}}\\;,\\;\\;\\;L_{{21}}=\\frac{A_{{21}}}{l_{{11}}}\\;,\\;\\;\\;A_{{22}} - L_{{21}} L^{T}_{{21}}=L_{{22}} L^{T}_{{22}}$$"
       ],
       "metadata": {},
       "output_type": "display_data",
       "text": [
        "<IPython.core.display.Math at 0x3fdea90>"
       ]
      }
     ],
     "prompt_number": 17
    },
    {
     "cell_type": "markdown",
     "metadata": {},
     "source": [
      "Note that $L_{22}$ is the Cholesky decomposition of the smaller matrix of $A_{22} - \\frac{1}{a_{11}}A_{21}A_{21}^T$."
     ]
    },
    {
     "cell_type": "markdown",
     "metadata": {
      "slideshow": {
       "slide_type": "subslide"
      }
     },
     "source": [
      "## Correlated Brownian motion\n",
      "\n",
      "Ubiquitous in quantitative Finance\n",
      "\n",
      "* The most common processes for asset prices and risk factors\n",
      "* The vast matjority of quantitative finance models are based on Brownian motions.\n",
      "\n",
      "Example: correlated n-dimensional Geometric Brownian motion:\n",
      "\n",
      "$$\n",
      "\\frac{dx^k_t}{x^k_t} = u^k dt + \\sigma^k dw^k_t, \n",
      "\\;\\;\\;\\;dw_t^j\\cdot dw_t^k = \\rho_{jk} dt\n",
      "$$\n",
      "\n",
      "In vector form:\n",
      "$$ d \\bs x = X \\bs u dt + X \\Sigma d \\bs w, \\;\\;\\; d\\bs w d\\bs w^T = C dt$$\n",
      "\n",
      "where $X$ is a diagonal matrix of $x_i$, and $\\Sigma$ is a diagonal matrix of $\\sigma_i$ and $C$ is the correlation matrix of $\\rho_{ij}$"
     ]
    },
    {
     "cell_type": "markdown",
     "metadata": {
      "slideshow": {
       "slide_type": "subslide"
      }
     },
     "source": [
      "## Draw correlated Brownians\n",
      "\n",
      "Draw discretized version of $\\delta \\bs w = L \\bs z \\sqrt{\\delta t}$\n",
      "* where $\\bs z$ is a vector of independent standard normal random variables\n",
      "  * $\\mathbb{E}[\\bs z] = \\bs 0$, $\\mathbb{E}[\\bs z \\bs z^T] = I$ \n",
      "* $L$ is the Cholesky decomposition of the correlaiton matrix $C = LL^T$\n",
      "\n",
      "$\\delta \\bs w$ have the desired correlation:\n",
      "$$\\mathbb{E}[\\delta \\bs w \\delta \\bs w^T] = \\mathbb{E}[L \\bs z \\bs z^T L^T] \\delta t = L \\mathbb{E}[\\bs z \\bs z^T] L^T \\delta t = LL^T \\delta t = C \\delta t$$\n",
      "\n",
      "Equivalently, we can draw $\\Sigma \\delta \\bs w = (\\Sigma L) \\bs z\\sqrt{\\delta t}$, where\n",
      "* $\\Sigma L$ is the Cholesky decomposition of the covariance matrix\n",
      "$$ C = LL^T \\iff V = \\Sigma C \\Sigma = \\Sigma L (\\Sigma L)^T $$"
     ]
    },
    {
     "cell_type": "heading",
     "level": 2,
     "metadata": {
      "slideshow": {
       "slide_type": "subslide"
      }
     },
     "source": [
      "Simulated paths"
     ]
    },
    {
     "cell_type": "code",
     "collapsed": false,
     "input": [
      "# the code below ignores the drifts and its correction\n",
      "\n",
      "e = np.random.normal(size=[3, 20000])\n",
      "dw = (lcm.dot(e)).T\n",
      "\n",
      "dws = dw*np.diag(cv)\n",
      "wcm = np.exp(np.cumsum(dws, 0))\n",
      "\n",
      "figure(figsize=[12, 4])\n",
      "subplot(1, 2, 1)\n",
      "\n",
      "dw = (lcm.dot(e)).T\n",
      "dws = dw*np.diag(cv)\n",
      "wcm = np.exp(np.cumsum(dws, 0))\n",
      "plot(wcm)\n",
      "legend(cm.index, loc='best');\n",
      "title('$L \\epsilon$')\n",
      "\n",
      "subplot(1, 2, 2)\n",
      "dw2 = (lcm.T.dot(e)).T\n",
      "dws2 = dw2*np.diag(cv)\n",
      "wcm = np.exp(np.cumsum(dws2, 0))\n",
      "plot(wcm)\n",
      "legend(cm.index, loc='best');\n",
      "title(('$L^T \\epsilon$'));"
     ],
     "language": "python",
     "metadata": {
      "slideshow": {
       "slide_type": "-"
      }
     },
     "outputs": [
      {
       "metadata": {},
       "output_type": "display_data",
       "png": "[encoded data removed]",
       "text": [
        "<matplotlib.figure.Figure at 0xaca9940>"
       ]
      }
     ],
     "prompt_number": 18
    },
    {
     "cell_type": "markdown",
     "metadata": {},
     "source": [
      "$L \\bs \\epsilon$ and $L^T \\bs \\epsilon$ are different, gives different correlation"
     ]
    },
    {
     "cell_type": "code",
     "collapsed": false,
     "input": [
      "df1 = pd.DataFrame(np.corrcoef(dws.T), columns=cm.index, index=cm.index)\n",
      "df2 = pd.DataFrame(np.corrcoef(dws2.T), columns=cm.index, index=cm.index)\n",
      "\n",
      "fmt.displayDFs(df1, df2, headers=['$L \\epsilon$', '$L^T \\epsilon$'])"
     ],
     "language": "python",
     "metadata": {
      "slideshow": {
       "slide_type": "fragment"
      }
     },
     "outputs": [
      {
       "html": [
        "<center><table style=\"border-style:hidden; border-collapse:collapse; text-align:center;\"><tr style=\"border:none\"><th style=\"border:none; text-align:center\">$L \\epsilon$</th><th style=\"border:none; text-align:center\">$L^T \\epsilon$</th></tr><tr style=\"border:none\"><td style=\"border:none; padding:20px; text-align:center\"><table border=\"1\" class=\"dataframe\">\n",
        "  <thead>\n",
        "    <tr style=\"text-align: right;\">\n",
        "      <th></th>\n",
        "      <th>SPY</th>\n",
        "      <th>GLD</th>\n",
        "      <th>OIL</th>\n",
        "    </tr>\n",
        "  </thead>\n",
        "  <tbody>\n",
        "    <tr>\n",
        "      <th>SPY</th>\n",
        "      <td>1</td>\n",
        "      <td>0.02665</td>\n",
        "      <td>0.428</td>\n",
        "    </tr>\n",
        "    <tr>\n",
        "      <th>GLD</th>\n",
        "      <td>0.02665</td>\n",
        "      <td>1</td>\n",
        "      <td>0.2827</td>\n",
        "    </tr>\n",
        "    <tr>\n",
        "      <th>OIL</th>\n",
        "      <td>0.428</td>\n",
        "      <td>0.2827</td>\n",
        "      <td>1</td>\n",
        "    </tr>\n",
        "  </tbody>\n",
        "</table></td><td style=\"border:none; padding:20px; text-align:center\"><table border=\"1\" class=\"dataframe\">\n",
        "  <thead>\n",
        "    <tr style=\"text-align: right;\">\n",
        "      <th></th>\n",
        "      <th>SPY</th>\n",
        "      <th>GLD</th>\n",
        "      <th>OIL</th>\n",
        "    </tr>\n",
        "  </thead>\n",
        "  <tbody>\n",
        "    <tr>\n",
        "      <th>SPY</th>\n",
        "      <td>1</td>\n",
        "      <td>0.1271</td>\n",
        "      <td>0.3956</td>\n",
        "    </tr>\n",
        "    <tr>\n",
        "      <th>GLD</th>\n",
        "      <td>0.1271</td>\n",
        "      <td>1</td>\n",
        "      <td>0.2617</td>\n",
        "    </tr>\n",
        "    <tr>\n",
        "      <th>OIL</th>\n",
        "      <td>0.3956</td>\n",
        "      <td>0.2617</td>\n",
        "      <td>1</td>\n",
        "    </tr>\n",
        "  </tbody>\n",
        "</table></td></tr></table></center>"
       ],
       "metadata": {},
       "output_type": "display_data",
       "text": [
        "<IPython.core.display.HTML at 0xad5bb70>"
       ]
      }
     ],
     "prompt_number": 19
    },
    {
     "cell_type": "markdown",
     "metadata": {
      "slideshow": {
       "slide_type": "subslide"
      }
     },
     "source": [
      "## Big correlation/covariance matrices\n",
      "\n",
      "\n",
      "In practice, we work with thousands of risk factors\n",
      "* Correlation matrix is easier to maintain than the covariance matrix, because it is \"normalized\"\n",
      "\n",
      "Very difficult to keep large correlation matrices semi positive definite (SPD)\n",
      " * Size of a few thousands is the practical limit\n",
      " * Small changes in few values can invalidate the whole matrix\n",
      " * Adding new entries can be extremely difficult\n",
      "\n",
      "Dimensionality reduction is required when dealing with very large number of factors."
     ]
    },
    {
     "cell_type": "markdown",
     "metadata": {
      "slideshow": {
       "slide_type": "subslide"
      }
     },
     "source": [
      "## Complexity\n",
      "\n",
      "Complexity of a numerical algorithm is stated in the order of magnitude, often in the big-O notation:\n",
      "\n",
      "* binary search $O(\\log(n))$\n",
      "* best sorting algorithm: $O(n \\log(n))$\n",
      "\n",
      "Most common numerical linear algebra algorithms are of complexity of $O(n^3)$\n",
      "* matrix multiplication: $n^2$ elements in output, each element takes $O(n)$\n",
      "* LU decomposition: $n$ diagonal elements, to zero-out each column costs $O(n^2)$\n",
      "* Cholesky decomposition: $n$ recursive steps, each takes $O(n^2)$"
     ]
    },
    {
     "cell_type": "markdown",
     "metadata": {
      "slideshow": {
       "slide_type": "slide"
      }
     },
     "source": [
      "# Matrix Calculus\n",
      "\n",
      "Morpheus: The Matrix is a system, Neo."
     ]
    },
    {
     "cell_type": "markdown",
     "metadata": {
      "slideshow": {
       "slide_type": "subslide"
      }
     },
     "source": [
      "## Scalar function \n",
      "\n",
      "$$f(\\bs x) = f(x_1, ..., x_n)$$\n",
      "\n",
      "* Derivative to vector (Gradient): $\\frac{\\partial f}{\\partial \\bs x} = \\nabla f = [\\frac{\\partial f}{\\partial x_1}, ..., \\frac{\\partial f}{\\partial x_n}]$\n",
      "* Note that $\\frac{\\partial f}{\\partial \\bs x}$ is **always a row vector**, whenever the vector or matrix appears in the denominator of differentiation, the result is transposed.\n",
      "* Some time we use the notation: $\\frac{\\partial f}{\\partial \\bs x^T} = \\left(\\frac{\\partial f}{\\partial \\bs x}\\right)^T $ to denote a column vector."
     ]
    },
    {
     "cell_type": "markdown",
     "metadata": {
      "slideshow": {
       "slide_type": "subslide"
      }
     },
     "source": [
      "## Vector function \n",
      "\n",
      "$$\\renewcommand{p}{\\partial}\\bs y(\\bs x)  = [y_1(\\bs x), ..., y_n(\\bs x)]^T$$\n",
      "\n",
      "* Deriative to vector (Jacobian matrix): $\\frac{\\partial \\bs y}{\\partial \\bs x} = \\left[\\frac{\\partial{y_1}}{\\partial \\bs x}, \\frac{\\partial{y_2}}{\\partial \\bs x}, \\cdots, \\frac{\\partial{y_n}}{\\partial \\bs x} \\right]^T$\n",
      " *  $\\frac{\\partial \\bs y}{\\partial \\bs x}$ is a matrix of $\\bs y$ rows and $\\bs x$ columns\n",
      " * $\\frac{\\partial \\bs y}{\\partial \\bs x}\\frac{\\partial \\bs x}{\\partial \\bs y} = \\id$, even when $\\bs x$ and $\\bs y$ are of different dimension.\n",
      " * sometime we use the following notation:  $\\frac{\\partial \\bs y}{\\partial \\bs x^T} =  \\left(\\frac{\\partial \\bs y}{\\partial \\bs x}\\right)^T$\n",
      "* Derivative to scalar: $\\frac{\\partial \\bs y}{\\partial z} = [\\frac{\\partial y_1}{\\partial z}, \\cdots, \\frac{\\partial y_n}{\\partial z}]^T$\n",
      " * remains a column vector"
     ]
    },
    {
     "cell_type": "markdown",
     "metadata": {
      "slideshow": {
       "slide_type": "subslide"
      }
     },
     "source": [
      "## Vector differentiation cheatsheet\n",
      "\n",
      "\n",
      "* $A, a, b, \\bs c$ are constants (ie, not functions of $\\bs x$)\n",
      "* $\\bs {u=u(x), v=v(x)}, y=y(\\bs x)$ are functions of $\\bs x$\n",
      "* $O$ is the zero matrix, $I$ is the identity matrix\n",
      "\n",
      "| Expression | Results | Special Cases |\n",
      "| :------: | :-----: | :-----: |\n",
      "| $\\frac{\\p(a \\bs u + b \\bs v)}{\\p \\bs x}$ |  $a \\frac{\\p{\\bs u}}{\\p \\bs x} + b\\frac{\\p{\\bs v}}{\\p \\bs x}$ |$\\frac{\\p{\\bs c}}{\\p \\bs x} = O, \\frac{\\p{\\bs x}}{\\p \\bs x} = \\id$ |\n",
      "| $\\frac{\\p{A \\bs u}}{\\p \\bs x}$ |  $A\\frac{\\p{\\bs u}}{\\p \\bs x}$ | $\\frac{\\p{\\bs A x}}{\\p \\bs x} = A, \\frac{\\p{\\bs x^T A}}{\\p \\bs x} = A^T$ |\n",
      "| $\\frac{\\p{y \\bs u}}{\\p \\bs x}$ |  $y \\frac{\\p{\\bs u}}{\\p \\bs x} + \\bs u \\frac{\\p{y}}{\\p \\bs x}$ | - |\n",
      "| $\\frac{\\p \\bs{u}^T A \\bs v}{\\p \\bs x} $ |  $\\bs u^T A \\frac{\\p{\\bs v}}{\\p \\bs x}  +  \\bs v^T A^T \\frac{\\p{\\bs u}}{\\p \\bs x} $ |$\\frac{\\p \\bs{x}^T A \\bs x}{\\p \\bs x} = \\bs x^T (A + A^T) $, $\\frac{\\p \\bs{u^Tv}}{\\p \\bs x} =\\bs{u}^T\\frac{\\p \\bs{v}}{\\p \\bs x} + \\bs{v}^T\\frac{\\p \\bs{u}}{\\p \\bs x}$ |\n",
      "| $\\frac{\\p{\\bs g(\\bs u})}{\\p \\bs x}$ |  $\\frac{\\p{\\bs g}}{\\p \\bs u} \\frac{\\p{\\bs u}}{\\p \\bs x} $ | $\\frac{\\p \\bs y}{\\p \\bs x}\\frac{\\p \\bs x}{\\p \\bs y} = \\id$ , $\\frac{\\p \\bs z}{\\p \\bs y}\\frac{\\p \\bs y}{\\p \\bs x}  \\frac{\\p \\bs x} {\\p \\bs z}= \\id$, multi-step chain rules. |\n",
      "\n",
      "* Similar to  univariate calculus, a compact notation for mutlivariate calculus\n",
      "* Replace $A^T$ by $A^*$ for complex matrix"
     ]
    },
    {
     "cell_type": "markdown",
     "metadata": {
      "slideshow": {
       "slide_type": "subslide"
      }
     },
     "source": [
      "## Portfolio optimization\n",
      "\n",
      "Powerful mean/variance portfolio theory can be expressed succinctly using linear algebra and matrix calculus.\n",
      "\n",
      "Suppose there are $n$ **risky** assets on the market, with random return vector $\\tilde{\\bs r}$ whose covariance matrix is $V$,\n",
      "\n",
      "* $\\bs w$: a portfolio, its elements are values (dollar) invested in each asset\n",
      "  * $\\bs w^T \\tilde{\\bs r}$ is the portfolio's P&L\n",
      "  * $\\sigma^2 = \\bs w^TV\\bs w$: the variance of the portfolio P&L"
     ]
    },
    {
     "cell_type": "markdown",
     "metadata": {
      "slideshow": {
       "slide_type": "subslide"
      }
     },
     "source": [
      "## Excess return forecast\n",
      "* $\\bs f = \\mathbb{E}[\\tilde{\\bs r}] - r_0$ is a vector of excess return forecast of all **risky** assets\n",
      "  * $r_0$ is the risk free rate\n",
      "* $\\bs f$ is a view, which can be from:\n",
      "  * Fundamental research: earning forcasts, revenue growth etc\n",
      "  * Technical and quantitative analysis\n",
      "  * Your secret trading signal"
     ]
    },
    {
     "cell_type": "markdown",
     "metadata": {
      "slideshow": {
       "slide_type": "subslide"
      }
     },
     "source": [
      "## Sharpe ratio\n",
      "\n",
      "Sharpe ratio of a portfolio $\\bs w$:\n",
      "$$s(\\bs w) = \\frac{\\bs w^T \\bs f}{\\sqrt{\\bs w^T V \\bs w}}$$\n",
      "\n",
      "Sharpe ratio is invariant under:\n",
      "* portfoio scaling: $s(a \\bs w) = s(\\bs w)$\n",
      "* leverage or deleverage: borrowing or lending money using the risk free asset "
     ]
    },
    {
     "cell_type": "markdown",
     "metadata": {
      "slideshow": {
       "slide_type": "subslide"
      }
     },
     "source": [
      "## Portfolio optimization\n",
      "Given the view $\\bs f$, the optimal portfolio $\\bs w$ to express the view is:\n",
      " * minimize the variance of portfolio P&L (risk): $\\bs w^TV\\bs w$\n",
      " * while preserving a unit dollar of excess P&L: $\\bs w^T \\bs f = 1$\n",
      "\n",
      "which solves the portfolio $\\bs w^*$ with the maximum Sharpe ratio under the view $\\bs f$:\n",
      " * $\\bs w^*$ is a unique solution\n",
      " * all portfolios with optimal Sharpe ratio have the same risky asset mix"
     ]
    },
    {
     "cell_type": "markdown",
     "metadata": {
      "slideshow": {
       "slide_type": "fragment"
      }
     },
     "source": [
      "Why we take the covariance matrix $V$ as a constant, but treat expected return $\\bs f$ as a variable?"
     ]
    },
    {
     "cell_type": "markdown",
     "metadata": {
      "slideshow": {
       "slide_type": "subslide"
      }
     },
     "source": [
      "## Characteristic portfolio\n",
      "\n",
      "The optimal portfolio can be solved analytically using Lagrange multiplier and matrix calculus:\n",
      "\n",
      "$$\\begin{eqnarray}\n",
      "l &=& \\bs w^TV \\bs w - 2 \\lambda (\\bs f^T \\bs w - 1) \\\\\n",
      "\\frac{\\partial l}{\\partial \\bs w^T} &=& 2 V \\bs w  - 2 \\lambda \\bs f = \\bs 0 \\\\\n",
      "\\bs w &=& \\lambda V^{-1} \\bs f\n",
      "\\end{eqnarray}$$\n",
      "\n",
      "plug it into $\\bs f^T \\bs w = 1$:\n",
      "\n",
      "$$ \\bs f^T(\\lambda V^{-1} \\bs f) = 1 \\iff \\lambda = \\frac{1}{\\bs f^T V^{-1} \\bs f}$$\n",
      "$$\\bs w^*(\\bs f) = \\frac{V^{-1}\\bs f}{\\bs f^T V^{-1} \\bs f} \\propto V^{-1}\\bs f$$\n",
      "\n",
      "$\\bs w^*(\\bs f)$ is also known as the characteristic portfolio for the forecast $\\bs f$."
     ]
    },
    {
     "cell_type": "markdown",
     "metadata": {
      "slideshow": {
       "slide_type": "subslide"
      }
     },
     "source": [
      "## Relativity of return forecast\n",
      "\n",
      "The optimal portfolio unchanged if $\\bs f$ is scaled by a scalar $a$:\n",
      "\n",
      "$$\\bs w^*(a\\bs f) = \\frac{1}{a} \\bs w^*(\\bs f)$$ \n",
      "\n",
      "* $\\bs w^*$ and $\\frac{1}{a} \\bs w^*$ defines the same risky asset mix, with identical Sharpe ratio\n",
      "\n",
      "\n",
      "Therefore, only the relative sizes of excess returns are important\n",
      "* e.g. excess return forecast of [1%, 2%] and [10%, 20%] of two assets would result in identical optimal (characteristic) portfolio"
     ]
    },
    {
     "cell_type": "markdown",
     "metadata": {
      "slideshow": {
       "slide_type": "subslide"
      }
     },
     "source": [
      "## Benchmark portfolio and $\\bs \\beta$\n",
      "\n",
      "Benchmark portfolio $\\bs w_b$ is usually an index portfolio to measure the performane of active portfolio management. \n",
      "  * The beta of a portfolio $\\bs w$ to the benchmark is \n",
      "  $$\\frac{\\text{cov}(\\bs w^T \\tilde{\\bs r}, \\bs w_b^T \\tilde{\\bs r})}{\\sigma_b^2} = \\frac{\\bs w^T V \\bs w_b}{\\sigma_b^2} = \\bs w^T \\bs \\beta_b$$\n",
      "  * Define $\\bs \\beta_b = \\frac{V\\bs w_b}{\\sigma^2_b} $, the vector of individual assets' betas\n",
      "  * $\\bs w_b^T \\bs \\beta_b = \\frac{\\bs w_b^T V\\bs w_b}{\\sigma^2_b} = {1}$, the benchmark portfolio itself has a unit beta\n",
      "  \n",
      "$\\bs w_m$ is the market portfolio, as defined in CAPM\n",
      "  * $\\bs \\beta_m = \\frac{V\\bs w_m}{\\sigma^2_m}$: the betas vector to the market portfolio $\\bs w_m$"
     ]
    },
    {
     "cell_type": "markdown",
     "metadata": {
      "slideshow": {
       "slide_type": "subslide"
      }
     },
     "source": [
      "## Important characteristic portfolios\n",
      "\n",
      "Identical returns: $\\bs f \\propto \\bs e = [1, 1, ...., 1]^T$: \n",
      "\n",
      "* A naive view that all assets have the same excess returns (zero information)\n",
      "* $\\bs e^T\\bs w = 1$ means it is a portfolio of \\$1 fully invested in risky assets\n",
      "* $\\bs w_e = \\frac{V^{-1}\\bs e}{\\bs e^TV^{-1}\\bs e}$ has the minimum variance of those fully-invested\n",
      "\n",
      "Beta to a benchmark portfolio: $\\bs f \\propto \\bs \\beta_b = \\frac{V\\bs w_b}{\\sigma_b^2}$:\n",
      "\n",
      "* $\\bs \\beta_b^T \\bs w_b = 1$ means the portfolio has a beta of 1 to the benchmark portfolio $\\bs w_b$\n",
      "* $\\bs w_{\\beta} = \\frac{V^{-1}\\bs \\beta_b}{\\bs \\beta_b^T V^{-1}\\bs \\beta_b} = \\frac{\\bs w_b}{\\bs{\\beta_b^T w_b}} = \\bs w_b$, i.e., the benchmark portfolio itself\n",
      "* the benchmark portfolio itself is optimal amongst those with unit beta."
     ]
    },
    {
     "cell_type": "markdown",
     "metadata": {
      "slideshow": {
       "slide_type": "subslide"
      }
     },
     "source": [
      "## Portfolio optimization example\n",
      "\n",
      "Given the following covariance matrix estimates and excess return forecasts:"
     ]
    },
    {
     "cell_type": "code",
     "collapsed": false,
     "input": [
      "er = np.array([.05, .02, .01]).T\n",
      "flat_r = np.array([.01, .01, .01]).T\n",
      "df_er = pd.DataFrame(np.array([er, flat_r]).T*100, columns=[\"Forcast (%)\", \"Naive(%)\"], index = f3.columns).T\n",
      "\n",
      "fmt.displayDFs(cv*1e4, df_er, headers=['Covariance', 'Epected Excess Return'])"
     ],
     "language": "python",
     "metadata": {},
     "outputs": [
      {
       "html": [
        "<center><table style=\"border-style:hidden; border-collapse:collapse; text-align:center;\"><tr style=\"border:none\"><th style=\"border:none; text-align:center\">Covariance</th><th style=\"border:none; text-align:center\">Epected Excess Return</th></tr><tr style=\"border:none\"><td style=\"border:none; padding:20px; text-align:center\"><table border=\"1\" class=\"dataframe\">\n",
        "  <thead>\n",
        "    <tr style=\"text-align: right;\">\n",
        "      <th></th>\n",
        "      <th>SPY</th>\n",
        "      <th>GLD</th>\n",
        "      <th>OIL</th>\n",
        "    </tr>\n",
        "  </thead>\n",
        "  <tbody>\n",
        "    <tr>\n",
        "      <th>SPY</th>\n",
        "      <td>8.043</td>\n",
        "      <td>0.2461</td>\n",
        "      <td>5.611</td>\n",
        "    </tr>\n",
        "    <tr>\n",
        "      <th>GLD</th>\n",
        "      <td>0.2461</td>\n",
        "      <td>7.288</td>\n",
        "      <td>3.838</td>\n",
        "    </tr>\n",
        "    <tr>\n",
        "      <th>OIL</th>\n",
        "      <td>5.611</td>\n",
        "      <td>3.838</td>\n",
        "      <td>22.28</td>\n",
        "    </tr>\n",
        "  </tbody>\n",
        "</table></td><td style=\"border:none; padding:20px; text-align:center\"><table border=\"1\" class=\"dataframe\">\n",
        "  <thead>\n",
        "    <tr style=\"text-align: right;\">\n",
        "      <th></th>\n",
        "      <th>SPY</th>\n",
        "      <th>GLD</th>\n",
        "      <th>OIL</th>\n",
        "    </tr>\n",
        "  </thead>\n",
        "  <tbody>\n",
        "    <tr>\n",
        "      <th>Forcast (%)</th>\n",
        "      <td>5</td>\n",
        "      <td>2</td>\n",
        "      <td>1</td>\n",
        "    </tr>\n",
        "    <tr>\n",
        "      <th>Naive(%)</th>\n",
        "      <td>1</td>\n",
        "      <td>1</td>\n",
        "      <td>1</td>\n",
        "    </tr>\n",
        "  </tbody>\n",
        "</table></td></tr></table></center>"
       ],
       "metadata": {},
       "output_type": "display_data",
       "text": [
        "<IPython.core.display.HTML at 0xb0b3e10>"
       ]
      }
     ],
     "prompt_number": 20
    },
    {
     "cell_type": "markdown",
     "metadata": {},
     "source": [
      "The (normalized) optimal portfolio for the given forecast is:"
     ]
    },
    {
     "cell_type": "code",
     "collapsed": false,
     "input": [
      "cvi = np.linalg.inv(cv)\n",
      "w = cvi.dot(er.T)/er.T.dot(cvi).dot(er)\n",
      "w = w/np.sum(w)\n",
      "df_er.ix['Optimial Portfolio (O)', :] = w\n",
      "\n",
      "w2 = cvi.dot(flat_r.T)/er.T.dot(cvi).dot(flat_r)\n",
      "w2 = w2/np.sum(w2)\n",
      "df_er.ix['Min Vol Portfolio (C)', :] = w2\n",
      "\n",
      "fmt.displayDF(df_er[-2:], \"4g\")"
     ],
     "language": "python",
     "metadata": {},
     "outputs": [
      {
       "html": [
        "<center><font size=2><table border=\"1\" class=\"dataframe\">\n",
        "  <thead>\n",
        "    <tr style=\"text-align: right;\">\n",
        "      <th></th>\n",
        "      <th>SPY</th>\n",
        "      <th>GLD</th>\n",
        "      <th>OIL</th>\n",
        "    </tr>\n",
        "  </thead>\n",
        "  <tbody>\n",
        "    <tr>\n",
        "      <th>Optimial Portfolio (O)</th>\n",
        "      <td>0.8333</td>\n",
        "      <td>0.395</td>\n",
        "      <td>-0.2283</td>\n",
        "    </tr>\n",
        "    <tr>\n",
        "      <th>Min Vol Portfolio (C)</th>\n",
        "      <td>0.5007</td>\n",
        "      <td>0.5433</td>\n",
        "      <td>-0.044</td>\n",
        "    </tr>\n",
        "  </tbody>\n",
        "</table></font></center>"
       ],
       "metadata": {},
       "output_type": "display_data",
       "text": [
        "<IPython.core.display.HTML at 0xb48d358>"
       ]
      }
     ],
     "prompt_number": 21
    },
    {
     "cell_type": "markdown",
     "metadata": {
      "slideshow": {
       "slide_type": "subslide"
      }
     },
     "source": [
      "## Efficient Frontier\n",
      "\n",
      "The simulated Sharpe ratios of all $1 portfolios fully invested in risky assets:\n",
      "* the optimal portfolio O has the optimal Sharpe Ratio\n",
      "* the min Variance portfolio C has the smallest variance\n",
      "* the line start from origin because we used excess return everywhere"
     ]
    },
    {
     "cell_type": "code",
     "collapsed": false,
     "input": [
      "rnd_w = np.random.uniform(size=[3, 10000]) - 0.5\n",
      "rnd_w = np.divide(rnd_w, np.sum(rnd_w, 0))\n",
      "\n",
      "rnd_r = er.dot(rnd_w)\n",
      "rnd_vol = np.sqrt([p.dot(cv).dot(p.T) for p in rnd_w.T])\n",
      "\n",
      "vol_o = sqrt(w.dot(cv).dot(w))\n",
      "r_o = er.dot(w)\n",
      "plot(rnd_vol, rnd_r, 'g.')\n",
      "plot([0, 10*vol_o], [0, 10*r_o], 'k');\n",
      "xlim(0, .06)\n",
      "ylim(-.01, .08)\n",
      "\n",
      "plot(vol_o, r_o, 'ro')\n",
      "text(vol_o-.001, r_o+.003, 'O', size=20)\n",
      "r_c = er.dot(w2)\n",
      "vol_c = sqrt(w2.dot(cv).dot(w2))\n",
      "plot(vol_c, r_c, 'r>')\n",
      "text(vol_c-.002, r_c-.008, 'C', size=20);\n",
      "\n",
      "legend(['Portfolios', 'Optimal Sharpe Ratio'], loc='best')\n",
      "\n",
      "ylabel('Portfolio Expected Excess Return')\n",
      "xlabel('Portfolio Return Volatility')\n",
      "title('Sharpe Ratios of $1 portfolios');"
     ],
     "language": "python",
     "metadata": {},
     "outputs": [
      {
       "metadata": {},
       "output_type": "display_data",
       "png": "[encoded data removed]",
       "text": [
        "<matplotlib.figure.Figure at 0x4078d68>"
       ]
      }
     ],
     "prompt_number": 22
    },
    {
     "cell_type": "markdown",
     "metadata": {
      "slideshow": {
       "slide_type": "subslide"
      }
     },
     "source": [
      "## Implied view of a portfolio\n",
      "\n",
      "From any portfolio, we can backout its implied excess return forecast $\\bs f$:\n",
      "* Assuming the portfolio is mean variance optimal\n",
      "* It is nothing but the betas to the portfolio\n",
      "* Only meaningful in a relative sense as well\n",
      "\n",
      "Consider the market portfolio: the market collectively believe that $\\bs f \\propto \\bs \\beta_m$: \n",
      "\n",
      "$$\\mathbb{E}[\\tilde{\\bs r}] - r_0 = \\bs \\beta_m \\left(r_m - r_0\\right)$$\n",
      "\n",
      "* $r_m = \\frac{\\mathbb{E}[\\bs w_m^T \\bs {\\tilde r}]}{\\bs w_m^T \\bs 1} $ is the market portfolio's expected return\n",
      "* this is exactly the CAPM."
     ]
    },
    {
     "cell_type": "markdown",
     "metadata": {
      "slideshow": {
       "slide_type": "subslide"
      }
     },
     "source": [
      "## Estimate expected returns\n",
      "\n",
      "Estimate expected return from historical data is difficult\n",
      "* historical return is not a good indicator of future performance\n",
      "* even if we assume it is, it requires very long history, ~500 years\n",
      "\n",
      "The market implied return is a much better return estimate than historical data.\n",
      "* This is the key insight of Black-Litterman"
     ]
    },
    {
     "cell_type": "heading",
     "level": 2,
     "metadata": {
      "slideshow": {
       "slide_type": "subslide"
      }
     },
     "source": [
      "Implied views example"
     ]
    },
    {
     "cell_type": "markdown",
     "metadata": {},
     "source": [
      "Suppose we are given the following portfolio:"
     ]
    },
    {
     "cell_type": "code",
     "collapsed": false,
     "input": [
      "w = np.array([10, 5, 5])\n",
      "vb = w.dot(cv).dot(w)\n",
      "ir = cv.dot(w)/vb\n",
      "\n",
      "df = pd.DataFrame(np.array([w, ir])*100, index=[\"$ Position\", \"Implied Return %\"], \n",
      "                  columns = [\"SPY\", \"GLD\", \"OIL\"])\n",
      "fmt.displayDF(df[:1], \"4g\")"
     ],
     "language": "python",
     "metadata": {},
     "outputs": [
      {
       "html": [
        "<center><font size=2><table border=\"1\" class=\"dataframe\">\n",
        "  <thead>\n",
        "    <tr style=\"text-align: right;\">\n",
        "      <th></th>\n",
        "      <th>SPY</th>\n",
        "      <th>GLD</th>\n",
        "      <th>OIL</th>\n",
        "    </tr>\n",
        "  </thead>\n",
        "  <tbody>\n",
        "    <tr>\n",
        "      <th>$ Position</th>\n",
        "      <td>1,000</td>\n",
        "      <td>500</td>\n",
        "      <td>500</td>\n",
        "    </tr>\n",
        "  </tbody>\n",
        "</table></font></center>"
       ],
       "metadata": {},
       "output_type": "display_data",
       "text": [
        "<IPython.core.display.HTML at 0xb48d208>"
       ]
      }
     ],
     "prompt_number": 23
    },
    {
     "cell_type": "markdown",
     "metadata": {
      "slideshow": {
       "slide_type": "-"
      }
     },
     "source": [
      "We can compute its implied return forecast as:"
     ]
    },
    {
     "cell_type": "code",
     "collapsed": false,
     "input": [
      "fmt.displayDF(df[1:], \"2f\")"
     ],
     "language": "python",
     "metadata": {},
     "outputs": [
      {
       "html": [
        "<center><font size=2><table border=\"1\" class=\"dataframe\">\n",
        "  <thead>\n",
        "    <tr style=\"text-align: right;\">\n",
        "      <th></th>\n",
        "      <th>SPY</th>\n",
        "      <th>GLD</th>\n",
        "      <th>OIL</th>\n",
        "    </tr>\n",
        "  </thead>\n",
        "  <tbody>\n",
        "    <tr>\n",
        "      <th>Implied Return %</th>\n",
        "      <td>4.73</td>\n",
        "      <td>2.50</td>\n",
        "      <td>8.04</td>\n",
        "    </tr>\n",
        "  </tbody>\n",
        "</table></font></center>"
       ],
       "metadata": {},
       "output_type": "display_data",
       "text": [
        "<IPython.core.display.HTML at 0xad1e7f0>"
       ]
      }
     ],
     "prompt_number": 24
    },
    {
     "cell_type": "markdown",
     "metadata": {
      "slideshow": {
       "slide_type": "-"
      }
     },
     "source": [
      "* note that these forecast are only meaningful in a relative sense"
     ]
    },
    {
     "cell_type": "markdown",
     "metadata": {
      "slideshow": {
       "slide_type": "fragment"
      }
     },
     "source": [
      "Does the investor really have so much confidence in OIL?"
     ]
    },
    {
     "cell_type": "markdown",
     "metadata": {
      "slideshow": {
       "slide_type": "slide"
      }
     },
     "source": [
      "# Norm and Condition\n",
      "\n",
      "Robert Heinlein: Throughout history, poverty is the normal condition of man."
     ]
    },
    {
     "cell_type": "markdown",
     "metadata": {
      "slideshow": {
       "slide_type": "subslide"
      }
     },
     "source": [
      "## Ill-conditioned covariance matrix\n",
      "\n",
      "The Mean-variance optimization is very powerful, but there are potential pitfalls in practice:\n",
      "\n",
      "* Suppose we have the following covariance matrix and excess return forecast, then we can compute the optimal portfolio."
     ]
    },
    {
     "cell_type": "code",
     "collapsed": false,
     "input": [
      "nt = 1000\n",
      "es = np.random.normal(size=[2, nt])\n",
      "\n",
      "rho = .999999\n",
      "e4 = rho/np.sqrt(2)*es[0, :] + rho/np.sqrt(2)*es[1,:] + np.sqrt(1-rho*rho)*np.random.normal(size=[1, nt])\n",
      "es = np.vstack([es, e4])\n",
      "\n",
      "cor = np.corrcoef(es)\n",
      "cor1 = np.copy(cor)\n",
      "cor1[0, 1] = cor1[1, 0] = cor[0, 1] + .00002\n",
      " \n",
      "sd = np.eye(3)\n",
      "np.fill_diagonal(sd, np.std(r))\n",
      "cov = sd.dot(cor).dot(sd.T)\n",
      "cov1 = sd.dot(cor1).dot(sd.T)\n",
      "\n",
      "e, v = np.linalg.eig(np.linalg.inv(cov))"
     ],
     "language": "python",
     "metadata": {},
     "outputs": [],
     "prompt_number": 25
    },
    {
     "cell_type": "code",
     "collapsed": false,
     "input": [
      "er = v[:, 2]/10\n",
      "\n",
      "df_cov = pd.DataFrame(cov*1e4, index=f3.columns, columns=f3.columns)\n",
      "df_cov1 = pd.DataFrame(cov1*1e4, index=f3.columns, columns=f3.columns)\n",
      "\n",
      "pf = pd.DataFrame(np.array([er]), columns=f3.columns, index=['Expected Return'])\n",
      "covi = np.linalg.inv(cov)\n",
      "pf.ix['Optimal Portfolio', :] = covi.dot(er.T)/np.sum(covi.dot(er.T))\n",
      "\n",
      "fmt.displayDFs(df_cov, pf, headers=[\"Covariance\", \"Optimized Portfolio\"], fmt=\"4f\")"
     ],
     "language": "python",
     "metadata": {},
     "outputs": [
      {
       "html": [
        "<center><table style=\"border-style:hidden; border-collapse:collapse; text-align:center;\"><tr style=\"border:none\"><th style=\"border:none; text-align:center\">Covariance</th><th style=\"border:none; text-align:center\">Optimized Portfolio</th></tr><tr style=\"border:none\"><td style=\"border:none; padding:20px; text-align:center\"><table border=\"1\" class=\"dataframe\">\n",
        "  <thead>\n",
        "    <tr style=\"text-align: right;\">\n",
        "      <th></th>\n",
        "      <th>SPY</th>\n",
        "      <th>GLD</th>\n",
        "      <th>OIL</th>\n",
        "    </tr>\n",
        "  </thead>\n",
        "  <tbody>\n",
        "    <tr>\n",
        "      <th>SPY</th>\n",
        "      <td>8.0234</td>\n",
        "      <td>0.3145</td>\n",
        "      <td>9.5526</td>\n",
        "    </tr>\n",
        "    <tr>\n",
        "      <th>GLD</th>\n",
        "      <td>0.3145</td>\n",
        "      <td>7.2697</td>\n",
        "      <td>9.2499</td>\n",
        "    </tr>\n",
        "    <tr>\n",
        "      <th>OIL</th>\n",
        "      <td>9.5526</td>\n",
        "      <td>9.2499</td>\n",
        "      <td>22.2275</td>\n",
        "    </tr>\n",
        "  </tbody>\n",
        "</table></td><td style=\"border:none; padding:20px; text-align:center\"><table border=\"1\" class=\"dataframe\">\n",
        "  <thead>\n",
        "    <tr style=\"text-align: right;\">\n",
        "      <th></th>\n",
        "      <th>SPY</th>\n",
        "      <th>GLD</th>\n",
        "      <th>OIL</th>\n",
        "    </tr>\n",
        "  </thead>\n",
        "  <tbody>\n",
        "    <tr>\n",
        "      <th>Expected Return</th>\n",
        "      <td>0.0375</td>\n",
        "      <td>0.0351</td>\n",
        "      <td>0.0858</td>\n",
        "    </tr>\n",
        "    <tr>\n",
        "      <th>Optimal Portfolio</th>\n",
        "      <td>0.2366</td>\n",
        "      <td>0.2218</td>\n",
        "      <td>0.5416</td>\n",
        "    </tr>\n",
        "  </tbody>\n",
        "</table></td></tr></table></center>"
       ],
       "metadata": {},
       "output_type": "display_data",
       "text": [
        "<IPython.core.display.HTML at 0xad55898>"
       ]
      }
     ],
     "prompt_number": 26
    },
    {
     "cell_type": "markdown",
     "metadata": {
      "slideshow": {
       "slide_type": "subslide"
      }
     },
     "source": [
      "A few days later, there is a tiny change in covariance matrix, but"
     ]
    },
    {
     "cell_type": "code",
     "collapsed": false,
     "input": [
      "pf1 = pd.DataFrame(np.array([er]), columns=f3.columns, index=['Expected Return'])\n",
      "covi1 = np.linalg.inv(cov1)\n",
      "pf1.ix['Optimal Portfolio', :] = covi1.dot(er.T)/np.sum(covi1.dot(er.T))\n",
      "\n",
      "fmt.displayDFs(df_cov1, pf1, headers=[\"Covariance\", \"Optimized Portfolio\"], fmt=\"4f\")"
     ],
     "language": "python",
     "metadata": {
      "slideshow": {
       "slide_type": "-"
      }
     },
     "outputs": [
      {
       "html": [
        "<center><table style=\"border-style:hidden; border-collapse:collapse; text-align:center;\"><tr style=\"border:none\"><th style=\"border:none; text-align:center\">Covariance</th><th style=\"border:none; text-align:center\">Optimized Portfolio</th></tr><tr style=\"border:none\"><td style=\"border:none; padding:20px; text-align:center\"><table border=\"1\" class=\"dataframe\">\n",
        "  <thead>\n",
        "    <tr style=\"text-align: right;\">\n",
        "      <th></th>\n",
        "      <th>SPY</th>\n",
        "      <th>GLD</th>\n",
        "      <th>OIL</th>\n",
        "    </tr>\n",
        "  </thead>\n",
        "  <tbody>\n",
        "    <tr>\n",
        "      <th>SPY</th>\n",
        "      <td>8.0234</td>\n",
        "      <td>0.3147</td>\n",
        "      <td>9.5526</td>\n",
        "    </tr>\n",
        "    <tr>\n",
        "      <th>GLD</th>\n",
        "      <td>0.3147</td>\n",
        "      <td>7.2697</td>\n",
        "      <td>9.2499</td>\n",
        "    </tr>\n",
        "    <tr>\n",
        "      <th>OIL</th>\n",
        "      <td>9.5526</td>\n",
        "      <td>9.2499</td>\n",
        "      <td>22.2275</td>\n",
        "    </tr>\n",
        "  </tbody>\n",
        "</table></td><td style=\"border:none; padding:20px; text-align:center\"><table border=\"1\" class=\"dataframe\">\n",
        "  <thead>\n",
        "    <tr style=\"text-align: right;\">\n",
        "      <th></th>\n",
        "      <th>SPY</th>\n",
        "      <th>GLD</th>\n",
        "      <th>OIL</th>\n",
        "    </tr>\n",
        "  </thead>\n",
        "  <tbody>\n",
        "    <tr>\n",
        "      <th>Expected Return</th>\n",
        "      <td>0.0375</td>\n",
        "      <td>0.0351</td>\n",
        "      <td>0.0858</td>\n",
        "    </tr>\n",
        "    <tr>\n",
        "      <th>Optimal Portfolio</th>\n",
        "      <td>0.0446</td>\n",
        "      <td>0.0063</td>\n",
        "      <td>0.9491</td>\n",
        "    </tr>\n",
        "  </tbody>\n",
        "</table></td></tr></table></center>"
       ],
       "metadata": {},
       "output_type": "display_data",
       "text": [
        "<IPython.core.display.HTML at 0xb293f28>"
       ]
      }
     ],
     "prompt_number": 27
    },
    {
     "cell_type": "markdown",
     "metadata": {},
     "source": [
      "the optimal portfolio is totally different, how is it posible?"
     ]
    },
    {
     "cell_type": "markdown",
     "metadata": {
      "slideshow": {
       "slide_type": "subslide"
      }
     },
     "source": [
      "## Ill-conditioned linear system\n",
      "\n",
      "Consider the following linear system $A\\bs x = \\bs y$, and its solution:"
     ]
    },
    {
     "cell_type": "code",
     "collapsed": false,
     "input": [
      "a = np.array([[1, 2], [2, 3.999]])\n",
      "x = sp.MatrixSymbol('x', 2, 1)\n",
      "y = np.array([4, 7.999])\n",
      "fmt.displayMath(fmt.joinMath('=', sp.Matrix(a)*x, sp.Matrix(y)), \n",
      "                fmt.joinMath('=', x, sp.Matrix(np.round(np.linalg.solve(a, y), 4))))"
     ],
     "language": "python",
     "metadata": {},
     "outputs": [
      {
       "latex": [
        "$$ \\left(\\begin{matrix}1.0 & 2.0\\\\2.0 & 3.999\\end{matrix}\\right) x=\\left(\\begin{matrix}4.0\\\\7.999\\end{matrix}\\right)\\;,\\;\\;\\;x=\\left(\\begin{matrix}2.0\\\\1.0\\end{matrix}\\right)$$"
       ],
       "metadata": {},
       "output_type": "display_data",
       "text": [
        "<IPython.core.display.Math at 0x9fb36a0>"
       ]
      }
     ],
     "prompt_number": 28
    },
    {
     "cell_type": "markdown",
     "metadata": {},
     "source": [
      "A small perturbation on vector $\\bs y$:"
     ]
    },
    {
     "cell_type": "code",
     "collapsed": false,
     "input": [
      "z = np.copy(y)\n",
      "z[1] += .002\n",
      "\n",
      "fmt.displayMath(fmt.joinMath('=', sp.Matrix(a)*x, sp.Matrix(z)), \n",
      "                fmt.joinMath('=', x, sp.Matrix(np.round(np.linalg.solve(a, z), 4))))"
     ],
     "language": "python",
     "metadata": {
      "slideshow": {
       "slide_type": "-"
      }
     },
     "outputs": [
      {
       "latex": [
        "$$ \\left(\\begin{matrix}1.0 & 2.0\\\\2.0 & 3.999\\end{matrix}\\right) x=\\left(\\begin{matrix}4.0\\\\8.001\\end{matrix}\\right)\\;,\\;\\;\\;x=\\left(\\begin{matrix}6.0\\\\-1.0\\end{matrix}\\right)$$"
       ],
       "metadata": {},
       "output_type": "display_data",
       "text": [
        "<IPython.core.display.Math at 0xb278c18>"
       ]
      }
     ],
     "prompt_number": 29
    },
    {
     "cell_type": "markdown",
     "metadata": {
      "slideshow": {
       "slide_type": "subslide"
      }
     },
     "source": [
      "A small perturbtion on matrix $A$:"
     ]
    },
    {
     "cell_type": "code",
     "collapsed": false,
     "input": [
      "b = np.copy(a)\n",
      "b[1, 1] += .003\n",
      "\n",
      "fmt.displayMath(fmt.joinMath('=', sp.Matrix(b)*x, sp.Matrix(y)), \n",
      "                fmt.joinMath('=', x, sp.Matrix(np.round(np.linalg.solve(b, y), 4))))"
     ],
     "language": "python",
     "metadata": {
      "slideshow": {
       "slide_type": "-"
      }
     },
     "outputs": [
      {
       "latex": [
        "$$ \\left(\\begin{matrix}1.0 & 2.0\\\\2.0 & 4.002\\end{matrix}\\right) x=\\left(\\begin{matrix}4.0\\\\7.999\\end{matrix}\\right)\\;,\\;\\;\\;x=\\left(\\begin{matrix}5.0\\\\-0.5\\end{matrix}\\right)$$"
       ],
       "metadata": {},
       "output_type": "display_data",
       "text": [
        "<IPython.core.display.Math at 0xb48d630>"
       ]
      }
     ],
     "prompt_number": 30
    },
    {
     "cell_type": "markdown",
     "metadata": {
      "slideshow": {
       "slide_type": "-"
      }
     },
     "source": [
      "* How do we identify ill-conditioned linear system in practice?"
     ]
    },
    {
     "cell_type": "markdown",
     "metadata": {
      "slideshow": {
       "slide_type": "subslide"
      }
     },
     "source": [
      "## Vector norms\n",
      "is a measure of the magnitude of the vector:\n",
      "* Positive: $\\Vert \\bs u\\Vert  \\ge 0$, $\\Vert \\bs u\\Vert  = 0 \\iff \\bs{u = 0}$\n",
      "* Homogeneous: $\\Vert a \\bs u \\Vert  = |a| \\Vert \\bs u\\Vert $\n",
      "* Triangle inequality: $\\Vert \\bs u + \\bs v\\Vert  \\le \\Vert \\bs u\\Vert  + \\Vert \\bs v\\Vert $\n",
      "\n",
      "##Common vector norms\n",
      "* L1: $\\Vert \\bs u\\Vert _1 = \\sum_i | u_i |$\n",
      "* L2 (Euclidean): $\\Vert \\bs u\\Vert _2 = (\\sum u_i^2)^{\\frac{1}{2}} = (\\bs u^T \\bs u)^\\frac{1}{2}$\n",
      "* Lp: $\\Vert \\bs u\\Vert _p = (\\sum u_i^p)^{\\frac{1}{p}}$\n",
      "* L${\\infty}$: $\\Vert \\bs u\\Vert _\\infty = \\max(u_1, u_2, ..., u_n)$"
     ]
    },
    {
     "cell_type": "markdown",
     "metadata": {
      "slideshow": {
       "slide_type": "subslide"
      }
     },
     "source": [
      "## Vector norms comparison\n",
      "\n",
      "<center> <img src=\"img/vectornorms.png\" width=350 height=350> </center>\n",
      "\n",
      "Vectors with unit norms:\n",
      "* Unit L2 norm forms a perfect circle (sphere in high dimension)\n",
      "* Unit L1 and L${\\infty}$ norms are square boxes\n",
      "* The difference between different norms are not significant"
     ]
    },
    {
     "cell_type": "markdown",
     "metadata": {
      "slideshow": {
       "slide_type": "subslide"
      }
     },
     "source": [
      "## Matrix norms\n",
      "Defined to be the largest amount the linear transformation can stretch a vector:\n",
      "\n",
      "$$\\Vert A\\Vert  = \\max_{\\bs u \\ne 0}\\frac{\\Vert A\\bs u\\Vert }{\\Vert \\bs u\\Vert }$$\n",
      "\n",
      "The matrix norm definition depends on the vector norms. Only L1 and L$\\infty$ matrix norm have analytical formula:\n",
      "* L1: $\\Vert A\\Vert _1 = \\max_{j} \\sum_i |a_{ij}|$\n",
      "* L2: $\\Vert A \\Vert_2 =$ the largest singular value of $A$ \n",
      "* L${\\infty}$: $\\Vert A\\Vert _\\infty = \\max_i \\sum_j |a_{ij}|$"
     ]
    },
    {
     "cell_type": "markdown",
     "metadata": {
      "slideshow": {
       "slide_type": "subslide"
      }
     },
     "source": [
      "## Norm inequalities\n",
      "* $\\Vert A \\bs u \\Vert  \\le \\Vert A\\Vert  \\Vert u\\Vert $\n",
      "* $\\Vert b A\\Vert  = |b| \\Vert A\\Vert $ \n",
      "* $\\Vert A + B\\Vert  \\le \\Vert A\\Vert  + \\Vert B\\Vert $\n",
      "* $\\Vert AB\\Vert  \\le \\Vert A\\Vert \\Vert B\\Vert$"
     ]
    },
    {
     "cell_type": "markdown",
     "metadata": {
      "slideshow": {
       "slide_type": "subslide"
      }
     },
     "source": [
      "## Matrix condition\n",
      "\n",
      "The propogation of errors in a linear system $\\bs y = A\\bs x$ with invertable $A$:\n",
      "* Consider a perturbation to $\\bs{ x' = x} + d\\bs x$, and corresponding $d \\bs y = A d\\bs x$:\n",
      "\n",
      "$$\\begin{array}\\\\\n",
      "\\Vert d \\bs y\\Vert &= \\Vert A d \\bs x\\Vert \\le \\Vert A\\Vert\\Vert d \\bs x\\Vert \n",
      "= \\Vert A\\Vert \\Vert \\bs x\\Vert \\frac{\\Vert d \\bs x\\Vert }{\\Vert \\bs x\\Vert } \\\\\n",
      " &= \\Vert A\\Vert \\Vert A^{-1} \\bs y\\Vert \\frac{\\Vert d \\bs x\\Vert }{\\Vert \\bs x\\Vert }\n",
      "\\le \\Vert A\\Vert \\Vert A^{-1} \\Vert \\Vert \\bs y\\Vert \\frac{\\Vert d \\bs x\\Vert }{\\Vert \\bs x\\Vert }\n",
      "\\end{array}$$\n",
      "\n",
      "$$\\frac{\\Vert d \\bs y\\Vert }{\\Vert \\bs y\\Vert } \\le \\Vert A\\Vert\\Vert A^{-1}\\Vert\\frac{\\Vert d \\bs x\\Vert }{\\Vert \\bs x\\Vert}$$\n",
      "\n",
      "* $k(A) = \\Vert A\\Vert\\Vert A^{-1}\\Vert$ is the condition number for the linear system $\\bs y = A\\bs x$, which defines the maximum possible magnification of the relative error."
     ]
    },
    {
     "cell_type": "markdown",
     "metadata": {
      "slideshow": {
       "slide_type": "subslide"
      }
     },
     "source": [
      "## Matrix perturbation\n",
      "\n",
      "What if we change the matrix itself? i.e. given $AB = C$, how would $B$ change under a small change in $A$ while holding $C$ constant?\n",
      "\n",
      "* we can no longer directly compute it via matrix calculus\n",
      "* perturbation is a powerful technique to solve this types of problem"
     ]
    },
    {
     "cell_type": "markdown",
     "metadata": {
      "slideshow": {
       "slide_type": "fragment"
      }
     },
     "source": [
      "We can write any $\\delta A = \\dot{A} \\epsilon$ and the resulting $\\delta B = \\dot{B} \\epsilon$: \n",
      "* $\\dot{A}, \\dot{B}$ are matrices representing the direction of the perturbation\n",
      "* $\\epsilon$ is a first order small scalar\n",
      "\n",
      "$$\\begin{array}\n",
      "\\\\ (A + \\delta A) (B + \\delta B) &= (A + \\dot{A} \\epsilon ) (B + \\dot{B} \\epsilon) = C \\\\\n",
      "AB + (\\dot{A}B + A\\dot{B})\\epsilon + \\dot{A}\\dot{B}\\epsilon^2 &= C \\\\\n",
      "(\\dot{A}B + A\\dot{B})\\epsilon + \\dot{A}\\dot{B}\\epsilon^2 &= 0\n",
      "\\end{array}$$"
     ]
    },
    {
     "cell_type": "markdown",
     "metadata": {
      "slideshow": {
       "slide_type": "subslide"
      }
     },
     "source": [
      "Now we collect the first order terms of $\\epsilon$, $\\dot{A}B + A\\dot{B} = 0$:\n",
      "\n",
      "$$\\begin{array}\n",
      "\\\\ \\dot{B} &= -A^{-1}\\dot{A}B \\\\\n",
      "\\delta B &= -A^{-1}\\delta A B \\\\\n",
      "\\Vert \\delta B \\Vert &= \\Vert A^{-1}\\delta A B \\Vert \\le \\Vert A^{-1} \\Vert \\Vert \\delta A \\Vert \\Vert B \\Vert \\\\\n",
      "\\frac{\\Vert \\delta B \\Vert}{\\Vert B \\Vert} &\\le \\Vert A^{-1} \\Vert \\Vert \\delta A \\Vert \n",
      "= \\Vert A^{-1} \\Vert \\Vert A \\Vert \\frac{\\Vert \\delta A \\Vert}{\\Vert A \\Vert}\n",
      "\\end{array}$$\n",
      "\n",
      "We reach the same conclusion of $k(A) = \\Vert A^{-1} \\Vert \\Vert A \\Vert$ for a small change in $A$ under the linear system $AB = C$.\n",
      "\n",
      "* we will cover the condition number for non-square matrix in the next class."
     ]
    },
    {
     "cell_type": "markdown",
     "metadata": {
      "slideshow": {
       "slide_type": "subslide"
      }
     },
     "source": [
      "## Numerical example\n",
      "\n",
      "Consider the ill-conditioned matrices from previous examples:"
     ]
    },
    {
     "cell_type": "code",
     "collapsed": false,
     "input": [
      "V = sp.MatrixSymbol('V', 3, 3)\n",
      "Vi = sp.MatrixSymbol('V^{-1}', 3, 3)\n",
      "fmt.displayMath(fmt.joinMath('=', V, sp.Matrix(cov*1e4).evalf(4)), \n",
      "                fmt.joinMath('=', Vi, sp.Matrix(cov*1e4).inv().evalf(5)), pre=\"\\\\scriptsize\")"
     ],
     "language": "python",
     "metadata": {},
     "outputs": [
      {
       "latex": [
        "$$\\scriptsize V=\\left(\\begin{matrix}8.023 & 0.3145 & 9.553\\\\0.3145 & 7.27 & 9.25\\\\9.553 & 9.25 & 22.23\\end{matrix}\\right)\\;,\\;\\;\\;V^{{-1}}=\\left(\\begin{matrix}32460.0 & 34740.0 & -28407.0\\\\34740.0 & 37181.0 & -30403.0\\\\-28407.0 & -30403.0 & 24861.0\\end{matrix}\\right)$$"
       ],
       "metadata": {},
       "output_type": "display_data",
       "text": [
        "<IPython.core.display.Math at 0x9fb36a0>"
       ]
      }
     ],
     "prompt_number": 31
    },
    {
     "cell_type": "code",
     "collapsed": false,
     "input": [
      "A = sp.MatrixSymbol('A', 2, 2)\n",
      "Ai = sp.MatrixSymbol('A^{-1}', 2, 2)\n",
      "fmt.displayMath(fmt.joinMath('=', A, sp.Matrix(a)), \n",
      "                fmt.joinMath('=', Ai, sp.Matrix(a).inv().evalf(4)), pre=\"\\\\scriptsize\")"
     ],
     "language": "python",
     "metadata": {
      "slideshow": {
       "slide_type": "-"
      }
     },
     "outputs": [
      {
       "latex": [
        "$$\\scriptsize A=\\left(\\begin{matrix}1.0 & 2.0\\\\2.0 & 3.999\\end{matrix}\\right)\\;,\\;\\;\\;A^{{-1}}=\\left(\\begin{matrix}-3999.0 & 2000.0\\\\2000.0 & -1000.0\\end{matrix}\\right)$$"
       ],
       "metadata": {},
       "output_type": "display_data",
       "text": [
        "<IPython.core.display.Math at 0xad5bb70>"
       ]
      }
     ],
     "prompt_number": 32
    },
    {
     "cell_type": "markdown",
     "metadata": {},
     "source": [
      "their condition numbers are large because of the large elements in the inversion:"
     ]
    },
    {
     "cell_type": "code",
     "collapsed": false,
     "input": [
      "fmt.displayDF(pd.DataFrame([[np.linalg.cond(x, n) for n in (1, 2, inf)] for x in [a, cov*1e4]],\n",
      "             columns = [\"L-1\", \"L-2\", \"L-$\\infty$\"], index=['Condition number $A$', 'Condition number $V$']), \n",
      "              \"4g\")"
     ],
     "language": "python",
     "metadata": {},
     "outputs": [
      {
       "html": [
        "<center><font size=2><table border=\"1\" class=\"dataframe\">\n",
        "  <thead>\n",
        "    <tr style=\"text-align: right;\">\n",
        "      <th></th>\n",
        "      <th>L-1</th>\n",
        "      <th>L-2</th>\n",
        "      <th>L-$\\infty$</th>\n",
        "    </tr>\n",
        "  </thead>\n",
        "  <tbody>\n",
        "    <tr>\n",
        "      <th>Condition number $A$</th>\n",
        "      <td>3.599e+04</td>\n",
        "      <td>2.499e+04</td>\n",
        "      <td>3.599e+04</td>\n",
        "    </tr>\n",
        "    <tr>\n",
        "      <th>Condition number $V$</th>\n",
        "      <td>4.198e+06</td>\n",
        "      <td>2.853e+06</td>\n",
        "      <td>4.198e+06</td>\n",
        "    </tr>\n",
        "  </tbody>\n",
        "</table></font></center>"
       ],
       "metadata": {},
       "output_type": "display_data",
       "text": [
        "<IPython.core.display.HTML at 0xb278c18>"
       ]
      }
     ],
     "prompt_number": 33
    },
    {
     "cell_type": "markdown",
     "metadata": {
      "slideshow": {
       "slide_type": "subslide"
      }
     },
     "source": [
      "## Orthogonal transformation\n",
      "\n",
      "Orthogonal transformation is **unconditionally stable**:\n",
      " \n",
      "$$\\Vert Q \\bs u\\Vert_2^2 = (Q \\bs u)^T(Q \\bs u) \n",
      "= \\bs u^T Q^TQ \\bs u = \\bs u^T \\bs u =  \\Vert \\bs u \\Vert_2^2$$\n",
      " \n",
      "* therefore by definition: $\\Vert Q \\Vert_2 = \\Vert Q^{-1} \\Vert_2 = 1$\n",
      "* $k(Q) = \\Vert Q \\Vert_2 \\Vert Q^{-1} \\Vert_2 = 1$\n",
      "* the relative error does not grow under orthogonal transformation.\n",
      "* Orthogonal transformation is extremely important in numerical linear algebra."
     ]
    },
    {
     "cell_type": "markdown",
     "metadata": {
      "slideshow": {
       "slide_type": "slide"
      }
     },
     "source": [
      "# Assignments\n",
      "\n",
      "Required reading:\n",
      "\n",
      "* Bindel and Goodman: Chapter 4, 5.1-5.4\n",
      "\n",
      "Highly recommended reading:\n",
      "\n",
      "Deflating Sharpe Ratio: http://www.davidhbailey.com/dhbpapers/deflated-sharpe.pdf\n",
      "\n",
      "Homework:\n",
      "\n",
      "* Complete [homework set 2](http://yadongli.github.io/nyumath2048)"
     ]
    }
   ],
   "metadata": {}
  }
 ]
}