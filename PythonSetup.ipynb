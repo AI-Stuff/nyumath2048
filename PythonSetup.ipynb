{
 "metadata": {
  "celltoolbar": "Slideshow",
  "name": "",
  "signature": "sha256:041501923bd6f9dc811b87bcb4776861cb1e24759756bc71b60585fa494f27e6"
 },
 "nbformat": 3,
 "nbformat_minor": 0,
 "worksheets": [
  {
   "cells": [
    {
     "cell_type": "markdown",
     "metadata": {
      "slideshow": {
       "slide_type": "slide"
      }
     },
     "source": [
      "# Python Setup\n",
      "\n",
      "Step by step instruction for setting up the Python environment for the class."
     ]
    },
    {
     "cell_type": "markdown",
     "metadata": {
      "slideshow": {
       "slide_type": "slide"
      }
     },
     "source": [
      "## Class Materials\n",
      "\n",
      "All the class materials are available at:\n",
      "\n",
      "* lecture slides/homework assignments: https://yadongli.github.io/numfin\n",
      "* IPython notebook sources: https://github.com/yadongli/numfin\n",
      "\n",
      "The lecture slides are all generated from the IPython notebooks sources. You can get a copy of the source by:\n",
      "\n",
      "* download the zip package from the source url above, or\n",
      "* (recommended): using the git command line tool: \n",
      "  * install git command line tool from http://git-scm.com/book/en/v2/Getting-Started-Installing-Git\n",
      "  * clone the source code to your local folder by issue the following command, which creates a new folder of numfin, and downloads all the suorces from github:\n",
      "  \n",
      "```git clone http://github.com/yadongli/numfin.git```\n",
      "\n",
      "  * After you git clone the source, you can get the incremental updates by:\n",
      "  \n",
      "```git pull```\n",
      "\n",
      "The git command is recommended because we will be publishing new materials and homeworks througout the class. "
     ]
    },
    {
     "cell_type": "markdown",
     "metadata": {
      "slideshow": {
       "slide_type": "slide"
      }
     },
     "source": [
      "## Python Installation\n",
      "\n",
      "**Python version 2.7.x**\n",
      "* Python 3.x is not backward compatible\n",
      "* either 32bit or 64bit version works \n",
      "\n",
      "Recommend using a Python distribution:\n",
      "\n",
      "* <a href=https://www.enthought.com/products/canopy/>Enthought Canopy</a>: free for students\n",
      "* <a href=http://continuum.io/downloads>Anaconda</a>: another popular free Python distribution\n",
      "\n",
      "Both distributions come with necessary packages like IPython/numpy/pandas etc. \n",
      "\n",
      "* Enthought canopy comes with a graphical package manager\n",
      "* Anaconda comes with command line package manager ```conda```\n",
      "* <a href=https://pypi.python.org/pypi/pip>pip</a> can be used to install Python packages that are not part of Enthought Anaconda distribution (rarely needed)\n",
      "\n",
      "Difficulties of installing Enthought Canopy has been reported on MacOS, Anaconda is recommended for MacOS."
     ]
    },
    {
     "cell_type": "markdown",
     "metadata": {
      "slideshow": {
       "slide_type": "subslide"
      }
     },
     "source": [
      "## Start IPython Notebook\n",
      "\n",
      "\n",
      "IPython notebook is a versatile and productive environment for scientific computing. All the lecture slides are created from IPython notebook.\n",
      "\n",
      "The following link is a quick user guide of IPython notebook:\n",
      "\n",
      "http://ipython.org/ipython-doc/2/notebook/index.html\n",
      "\n",
      "* The required IPython version is 2.3.1 or later\n",
      "\n",
      "If you have installed one of the Python distributions, you can go to the numfin folder from a command line window and start IPython notebook by: \n",
      "\n",
      "```ipython notebook```\n",
      "\n",
      "You should see a browser wndow with a list of notebooks (with extension .ipynb) under your current folder, click the link to open and edit notebook within the browser. \n",
      "\n",
      "* IPython notebook works with new versions of all major browsers. (not IE older than version 10 does not work)\n",
      "\n",
      "Check your IPython installation if you do not see a brower window like below:\n",
      "\n",
      "<img src=ipynb.png height=300, width=600>"
     ]
    },
    {
     "cell_type": "markdown",
     "metadata": {
      "slideshow": {
       "slide_type": "subslide"
      }
     },
     "source": [
      "## Useful IPython tips\n",
      "\n",
      "The combination of #2 and #3 is a very efficient way to debug your python code within IPython notebook.\n",
      "\n",
      "1. ```%pylab inline```: inline placement of figures, ideal for printing and presentation\n",
      "2. ```%qtconsole```: start a separate ipython qtconsole that shares the same states with the IPython notebook\n",
      "3. ```debug```: IPython notebook does not support interactive debugger, however, you can do so from qtconole with the comand ```debug```\n",
      "4. you can mix Latex direct with markdown text by surrounding them with \\$ or \\$\\$\n",
      "5. sympy is a useful symbolic math library, it can create complicated Latex formulae programatically (see Lecture4 as an example)"
     ]
    },
    {
     "cell_type": "markdown",
     "metadata": {
      "slideshow": {
       "slide_type": "slide"
      }
     },
     "source": [
      "## Create slides using IPython\n",
      "\n",
      "IPython notebook is a great tool for creating presentations, it seamlessly integrates markdown, latex, charts, python codes and output.\n",
      "\n",
      "<img src=ip_slide.png>\n",
      "\n",
      "Steps to create slides within IPython notebook:\n",
      "\n",
      "* open an IPython notebook\n",
      "* select slideshow under the \"cell Toolbar\" pull down menu\n",
      "* select the slide type for each cell using the pull down menu:\n",
      "  * Slide: navigated by the left/right arrow, usually used to separate the main sections of the presentation \n",
      "  * Sub-slide: navigated using the upper/down arrow, usually for multiple slides in the same section\n",
      "  * Fragment: fragments within the same slide\n",
      "  * Skip: the cell is not rendered as slides\n",
      "\n",
      "The meaning of slide types will become aparent by playing with the class lecture slides from http://yadongli.github.io/numfin  "
     ]
    },
    {
     "cell_type": "markdown",
     "metadata": {
      "slideshow": {
       "slide_type": "subslide"
      }
     },
     "source": [
      "## Convert notebooks to slides\n",
      "\n",
      "NBConvert is a versatile tool that can convert IPython notebook to other formats, such as latex, html and slides. \n",
      "\n",
      "All the lecture slides are generated using nbconvert from the IPython notebook, the resulting slides are HTML files with extension \".slides.html\". \n",
      "\n",
      "To convert ipython notebook (.ipynb) to slides (.slides.html):\n",
      "\n",
      "* install nodejs from http://nodejs.org/\n",
      "* go to your local folder numfin from command line window\n",
      "* run ```python bs.py```, this converts all the notebooks (those with extension .ipynb) in the folder to slides (with extension .slides.html)\n",
      "* or run ```python bs.py onebook``` to convert a single notebook onebook.ipynb to slides\n",
      "* The following is the underlying conversion command used by bs.py, which can also be directly typed from the command line:\n",
      "\n",
      "```ipython nbconvert --to slides --template hidecode.tpl --reveal-prefix \"//cdn.jsdelivr.net/reveal.js/2.6.2\" yournotebook.ipynb```\n",
      "\n",
      "* the hidecode.tpl hides the python code cells from being displayed in the slides, use the showcode.tpl instead if you want to show them (like Lecture1)\n",
      "* both showcode.tpl and hidecode.tpl are included in the numfin folder\n",
      "* you can edit these .tpl files to change the behaviours of the slides"
     ]
    },
    {
     "cell_type": "markdown",
     "metadata": {
      "slideshow": {
       "slide_type": "subslide"
      }
     },
     "source": [
      "## View the slides\n",
      "\n",
      "The resulting slides (.slides.html) from nbconvert are in HTML format, \n",
      "\n",
      "* it depends on the <a href=http://lab.hakim.se/reveal-js>reveal.js</a> for formatting and navigation\n",
      "* the latex formulae are rendered using the <a href=http://www.mathjax.org/>MathJax</a> engine\n",
      "\n",
      "To view the slides:\n",
      "\n",
      "* start a web server from the command line window: ```python -m SimpleHTTPServer 8000```, the 8000 is the port number \n",
      "* point your browser to http://localhost:8000 , where you can find a list of links to the .slides.html files\n",
      "* you can also serve the resulting .slides.html from a remote web server with a real URL (like github: http://yadongli.github.io/numfin)\n",
      "\n",
      "Note that even if you run a local webserver, the slides requires internet connections to render properly (due to the dependency on the reveal.js and mathjax library).\n",
      "\n",
      "* install reveal.js and mathjax to your local PC if you want to view slides offline (not sure why anyone needs this)"
     ]
    },
    {
     "cell_type": "markdown",
     "metadata": {
      "slideshow": {
       "slide_type": "subslide"
      }
     },
     "source": [
      "## Tips for formating slides\n",
      "\n",
      "The NBConvert and reveal.js unfortunately do not have good documentations yet, the following are some useful tips :\n",
      "\n",
      "* edit the custom.css file to change font size (also under numfin)\n",
      "* there are different pre-configured themes for the slides, to change them, edit the following line in the .tpl files:\n",
      "\n",
      "```theme: 'sky',```\n",
      "* available slides themes and their effects can be found at:\n",
      "\n",
      "http://lab.hakim.se/reveal-js/#/themes\n",
      "\n",
      "* you need to regenerate the slides for the new theme to take effects."
     ]
    },
    {
     "cell_type": "markdown",
     "metadata": {
      "slideshow": {
       "slide_type": "subslide"
      }
     },
     "source": [
      "## Convert Slides to PDF\n",
      "\n",
      "The slides can be converted to PDF using chrome browser:\n",
      "\n",
      "* open the lecture slides using Chrome browser and append \"?print-pdf\" to the end of the URL, e.g.: https://yadongli.github.io/numfin/Lecture1.slides.html?print-pdf\n",
      "* reloading the page with the \"?print-pdf\" in the url, select print from the right click mouse menu in Chrome\n",
      "* In the pop up print window, select \"Save as PDF\" in Destination, and select \"None\" for Margins\n",
      "* click Save and give it a destination file name\n",
      "\n",
      "Similar steps should also work in other browsers, as long as you already have a PDF printer. The latest Chrome browser supports \"Save as PDF\" out of box."
     ]
    },
    {
     "cell_type": "markdown",
     "metadata": {
      "slideshow": {
       "slide_type": "slide"
      }
     },
     "source": [
      "## Online resources\n",
      "\n",
      "The following online Python tutorials are highly recommended.\n",
      "\n",
      "Python language: \n",
      "http://www.diveintopython.net/\n",
      "\n",
      "Numpy: \n",
      "http://scipy.org/Tentative_NumPy_Tutorial\n",
      "\n",
      "IPython: \n",
      "http://www.youtube.com/watch?v=26wgEsg9Mcc\n",
      "\n",
      "Pandas: \n",
      "http://pandas.pydata.org/pandas-docs/dev/10min.html\n"
     ]
    }
   ],
   "metadata": {}
  }
 ]
}