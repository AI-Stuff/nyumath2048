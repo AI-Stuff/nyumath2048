{
 "metadata": {
  "celltoolbar": "Slideshow",
  "name": "",
  "signature": "sha256:17c68d054ce7db8df9fb4927492b88de4f1db5cabfb81ed061d0c6d00af50794"
 },
 "nbformat": 3,
 "nbformat_minor": 0,
 "worksheets": [
  {
   "cells": [
    {
     "cell_type": "markdown",
     "metadata": {
      "slideshow": {
       "slide_type": "slide"
      }
     },
     "source": [
      "#Lecture 3: Linear Algebra II\n",
      "\n",
      "## Topics\n",
      "\n",
      "* Least Square\n",
      "* Eigenvalue and Eigenvector \n",
      "* QR Decomposition\n",
      "* Principal Component Analysis\n",
      "* Singular Value Decomposition"
     ]
    },
    {
     "cell_type": "code",
     "collapsed": false,
     "input": [
      "# initialize the environment\n",
      "%pylab inline\n",
      "import sympy as sp\n",
      "import fmt\n",
      "import pandas as pd\n",
      "\n",
      "sp.init_printing(use_latex = True)\n",
      "from IPython.display import display\n",
      "lecture = 3"
     ],
     "language": "python",
     "metadata": {
      "slideshow": {
       "slide_type": "skip"
      }
     },
     "outputs": [
      {
       "output_type": "stream",
       "stream": "stdout",
       "text": [
        "Populating the interactive namespace from numpy and matplotlib\n"
       ]
      },
      {
       "output_type": "stream",
       "stream": "stderr",
       "text": [
        "WARNING: pylab import has clobbered these variables: ['rc', 'beta', 'cov']\n",
        "`%matplotlib` prevents importing * from pylab and numpy\n"
       ]
      }
     ],
     "prompt_number": 17
    },
    {
     "cell_type": "markdown",
     "metadata": {
      "slideshow": {
       "slide_type": "slide"
      }
     },
     "source": [
      "# Least Square\n",
      "\n",
      "regression: noun, a return to a former or less developed state"
     ]
    },
    {
     "cell_type": "markdown",
     "metadata": {
      "slideshow": {
       "slide_type": "subslide"
      }
     },
     "source": [
      "## Least square problem\n",
      "\n",
      "Given an unknown scalar function $\\renewcommand{bs}{\\boldsymbol} y = y(\\boldsymbol x)$, where the argument $\\bs x$ is a $n$ dimensional vector.\n",
      "\n",
      "* We have $m > n$ observations of the inputs and matching outputs:  $\\bs {x_1, x_2, ..., x_m}$ and $[y_1, ..., y_m]$. \n",
      "* We want to find a factor loading vector $\\bs \\beta$ so that the linear function $\\hat y = \\bs x^T \\bs \\beta$ is the best aproximation to the observed inputs/outputs.\n",
      "\n",
      "We can express this problem as a least square minimization:\n",
      "\n",
      "* We write the observed inputs as a matrix $X = [\\bs{x_1, x_2, ..., x_m}]^T$, and the observed outputs as an vector of $\\bs y = [y_1, ..., y_m]^T$\n",
      "* $X \\bs \\beta = \\bs y$ is over-determined, no vector $\\bs \\beta$ solves the linear system exactly\n",
      "* Instead, we find $\\bs \\beta $ that minimizes $\\Vert X \\bs{\\beta - y}\\Vert_2$."
     ]
    },
    {
     "cell_type": "markdown",
     "metadata": {
      "slideshow": {
       "slide_type": "subslide"
      }
     },
     "source": [
      "## Pseudo inverse:\n",
      "\n",
      "$$ \\min_{\\bs {\\beta}} \\Vert X \\bs{\\beta - y} \\Vert_2$$\n",
      "Which can be easily solved using Matrix calculus:\n",
      "\n",
      "$$\\begin{array}{l}\n",
      "\\Vert X \\bs{\\beta - y} \\Vert_2^2 &= (X \\bs{\\beta - y})^T (X \\bs{\\beta - y}) \\\\\n",
      "&= \\bs{\\beta}^T X^T X \\bs{\\beta} - 2 \\bs{\\beta}^TX^T\\bs y + \\bs y^T\\bs y\\\\\n",
      "\\frac{\\partial}{\\partial \\bs \\beta} \\Vert X \\bs{\\beta - y} \\Vert_2^2 &= 2 \\bs \\beta^T X^TX - 2\\bs y^T X = \\bs 0^T \\\\\n",
      " X^TX \\bs \\beta &=  X^T \\bs y \\\\\n",
      "\\bs \\beta &= (X^TX)^{-1}X^T\\bs y\n",
      "\\end{array}$$\n",
      "\n",
      "* The solution is equivalent to linear regression.\n",
      "* $X^+ = (X^TX)^{-1}X^T$ is also known as the psuedo inverse of $X$ because $X^+X = I$\n",
      "  * note $XX^+$ is not even a valid matrix multiplication. "
     ]
    },
    {
     "cell_type": "markdown",
     "metadata": {
      "slideshow": {
       "slide_type": "subslide"
      }
     },
     "source": [
      "## Condition number of non-square matrix\n",
      "\n",
      "We already learned that an invertable matrix $A$'s condition number is \n",
      "\n",
      "$$k(A) = \\Vert A \\Vert \\Vert A^{-1} \\Vert$$\n",
      "\n",
      "We can extend this to non-square matrix using pseudo-inverse, following the same proof.\n",
      "\n",
      "$$k(A) = \\Vert A \\Vert \\Vert A^{+} \\Vert$$\n"
     ]
    },
    {
     "cell_type": "markdown",
     "metadata": {
      "slideshow": {
       "slide_type": "subslide"
      }
     },
     "source": [
      "## Ridge regression\n",
      "\n",
      "The $\\bs \\beta$ that solves the least square problem may have large magnitude:\n",
      "* often cause problems in practice\n",
      "\n",
      "Ridge regression adds a magnitude penalty to the objective function of least square: \n",
      "\n",
      "$$\\begin{array}{l}  l(\\bs \\beta) &= \\Vert X \\bs{\\beta - y} \\Vert_2^2 + \\lambda \\Vert W \\bs \\beta \\Vert_2^2 \\\\ &=  \\bs{\\beta}^T X^T X \\bs{\\beta} - 2 \\bs{\\beta}^TX^T\\bs y + \\bs y^T \\bs y + \\lambda \\bs \\beta^T W^TW \\bs \\beta \\\\\n",
      "\\frac{\\partial l}{\\partial \\bs \\beta} &= 2\\bs \\beta^T X^TX  - 2\\bs y^T X + 2 \\lambda \\bs \\beta^T W^T W = \\bs 0^T \\\\\n",
      "\\bs \\beta &= (X^TX + \\lambda W^TW)^{-1}X^T\\bs y\n",
      "\\end{array}$$\n",
      "\n",
      "* $W$ is a diagonal weighting for the elements in $\\bs \\beta$, e.g. $W = I$ is often a good start\n",
      "* $\\lambda$ is a scaler penalty rate"
     ]
    },
    {
     "cell_type": "markdown",
     "metadata": {
      "slideshow": {
       "slide_type": "subslide"
      }
     },
     "source": [
      "## Ridge regression example\n",
      "\n",
      "We draw many pairs of $x, y, z$ from the following linear model: \n",
      "\n",
      "$$  y = 2x + 0.1z + 5 + \\epsilon $$\n",
      "\n",
      "* $x, z$ are standard normal, $z$ represent an insignificant feature (or accidental correlation)\n",
      "* $\\epsilon$ is a standard normal noise\n",
      "\n",
      "We regress the vector $\\bs y$ against $X = [\\bs x, \\bs x + .0001 \\bs z, \\bs 1]$:"
     ]
    },
    {
     "cell_type": "code",
     "collapsed": false,
     "input": [
      "import pandas as pd\n",
      "\n",
      "n = 5000\n",
      "x = np.random.normal(size=n)\n",
      "z = np.random.normal(size=n)\n",
      "y = 2*x + 5 + 0.1*z + np.random.normal(size=n)\n",
      "\n",
      "xs = np.array([x, x + 0.0001*z, np.ones(len(x))]).T\n",
      "\n",
      "q = np.eye(len(xs.T))\n",
      "lbd = .1\n",
      "b_ols = np.linalg.inv(xs.T.dot(xs)).dot(xs.T).dot(y)\n",
      "e_ols = np.linalg.norm(y - xs.dot(b_ols), 2)\n",
      "\n",
      "b_rr = np.linalg.inv(xs.T.dot(xs) + lbd*q.T.dot(q)).dot(xs.T).dot(y)\n",
      "e_rr = np.linalg.norm(y - xs.dot(b_rr), 2)\n",
      "\n",
      "df = pd.DataFrame(np.array([b_ols, b_rr]), index=['Least square', 'Ridge regression $\\\\lambda=%2g$' % lbd], \n",
      "                  columns=['$\\\\bs x$', '$\\\\bs x+.0001\\\\bs z$', '$\\\\bs 1$'])\n",
      "df['$\\Vert X\\\\bs \\\\beta - \\\\bs y \\\\Vert_2$'] = [e_ols, e_rr]\n",
      "fmt.displayDF(df, \"4g\")"
     ],
     "language": "python",
     "metadata": {},
     "outputs": [
      {
       "html": [
        "<center><font size=2><table border=\"1\" class=\"dataframe\">\n",
        "  <thead>\n",
        "    <tr style=\"text-align: right;\">\n",
        "      <th></th>\n",
        "      <th>$\\bs x$</th>\n",
        "      <th>$\\bs x+.0001\\bs z$</th>\n",
        "      <th>$\\bs 1$</th>\n",
        "      <th>$\\Vert X\\bs \\beta - \\bs y \\Vert_2$</th>\n",
        "    </tr>\n",
        "  </thead>\n",
        "  <tbody>\n",
        "    <tr>\n",
        "      <th>Least square</th>\n",
        "      <td>-842.3</td>\n",
        "      <td>844.2</td>\n",
        "      <td>5.008</td>\n",
        "      <td>70.38</td>\n",
        "    </tr>\n",
        "    <tr>\n",
        "      <th>Ridge regression $\\lambda=0.1$</th>\n",
        "      <td>0.7935</td>\n",
        "      <td>1.203</td>\n",
        "      <td>5.008</td>\n",
        "      <td>70.62</td>\n",
        "    </tr>\n",
        "  </tbody>\n",
        "</table></font></center>"
       ],
       "metadata": {},
       "output_type": "display_data",
       "text": [
        "<IPython.core.display.HTML at 0xcbf6940>"
       ]
      }
     ],
     "prompt_number": 18
    },
    {
     "cell_type": "markdown",
     "metadata": {
      "slideshow": {
       "slide_type": "fragment"
      }
     },
     "source": [
      "* ridge regression is more robust, it works even if $X$ is not fully ranked (colinearity)\n",
      "* useful for constructing hedging portfolios"
     ]
    },
    {
     "cell_type": "markdown",
     "metadata": {
      "slideshow": {
       "slide_type": "slide"
      }
     },
     "source": [
      "# Eigenvalues and Eigenvectors\n",
      "\n",
      "eigen-: characteristic, origin: German"
     ]
    },
    {
     "cell_type": "markdown",
     "metadata": {
      "slideshow": {
       "slide_type": "subslide"
      }
     },
     "source": [
      "##Definitions\n",
      "\n",
      "For a square matrix $A$ of size $n \\times n$, if there exists a vector $\\bs {v \\ne 0}$ and a scalar $\\lambda \\ne 0$ so that:\n",
      "\n",
      "$$ A \\bs v = \\lambda \\bs v $$\n",
      "\n",
      "* $\\bs v$ is an eigenvector,  $\\lambda$ is the corresponding eigenvalue\n",
      "* $A$ only changes $\\bs v$'s magnitude, but not direction\n",
      "* $\\lambda$ can be complex even for real $A$\n",
      "\n",
      "Eigen vector/value naming conventions:\n",
      "* eigenvectors are usually specified as unit L2 vectors of $\\Vert \\bs v \\Vert_2^2 = \\bs v^T \\bs v = 1$. \n",
      "  * there are still ambuiguity between  $\\bs v$ and $- \\bs v$ \n",
      "* eigenvalues are named in descending order: $\\lambda_1 \\ge \\lambda_2 \\ge ... \\ge \\lambda_n $, their corresponding eigen vectors are $\\bs {v_1, v_2, ..., v_n}$ \n",
      "  * can eigenvalues be negative?"
     ]
    },
    {
     "cell_type": "markdown",
     "metadata": {
      "slideshow": {
       "slide_type": "subslide"
      }
     },
     "source": [
      "##Characteristic equation\n",
      "Rewrite the equation as:\n",
      "\n",
      "$$ (A - \\lambda I) \\bs {v = 0}$$\n",
      "\n",
      "It has non-zero solution if and only if:\n",
      "\n",
      "$$ \\det(A - \\lambda I) = 0$$ \n",
      "\n",
      "characteristic equation is a polynomial of degree $n$:\n",
      "* there can be $n$ distinct eigenvalues at most\n",
      "* $\\prod_{i}\\lambda_i = \\det( A )$\n",
      "* $\\sum_i\\lambda_i = \\text{tr}(A)$\n",
      "\n",
      "It is difficult to directly solve the characteristic function for $\\lambda_i$, especially for large $n$."
     ]
    },
    {
     "cell_type": "markdown",
     "metadata": {
      "slideshow": {
       "slide_type": "subslide"
      }
     },
     "source": [
      "## Independence of eigenvectors\n",
      "\n",
      "Eigen vectors of distinct eigen values are linearly independent.\n",
      "\n",
      "* proof: suppose the first k-1 eigen vectors are independent, but not the k-th:\n",
      "  \n",
      "$$\\begin{array} \\\\\n",
      "   \\bs{v_k} &= \\sum_{i=1}^{k-1}c_i\\bs{v_i} \\\\\n",
      "   \\lambda_k \\bs{v_k} &= \\sum_{i=1}^{k-1}c_i\\lambda_i\\bs{v_i} =  \\lambda_k \\sum_{i=1}^{k-1}c_i\\bs{v_i} \\\\\n",
      "\\bs 0  &= \\sum_{i=1}^{k-1}c_i(\\lambda_i - \\lambda_k) \\bs{v_i} \n",
      "   \\end{array}\n",
      "   $$\n",
      "   \n",
      "   this leads to contradiction.\n",
      "* If $A$ has $n$ distinct eigenvalues, then all the eigen vectors form a basis for the vector space."
     ]
    },
    {
     "cell_type": "markdown",
     "metadata": {
      "slideshow": {
       "slide_type": "subslide"
      }
     },
     "source": [
      "##Properties of eigenvectors\n",
      "\n",
      "If $A$ has $n$ distinct eigen values, we can write:\n",
      "\n",
      "$$ A R = R \\Lambda$$\n",
      "\n",
      "* where each column of $R$ is a eigenvector, and $\\Lambda$ is a diagnoal matrix of eigenvalues\n",
      "\n",
      "\n",
      "$R$ is invertable because eigen vectors are all independent:\n",
      "\n",
      "$$\\begin{array} \\\\\n",
      "R^{-1} A &= \\Lambda R^{-1} \\\\\n",
      " A^*(R^{-1})^* &= (R^{-1})^* \\Lambda^* \\\\\n",
      "\\end{array}$$\n",
      "\n",
      "If $A$ is real and symmetric: $A^* = A$:\n",
      "\n",
      "* $\\Lambda^* = \\Lambda$: all eigenvalues are real\n",
      "* we can consider real eigen vectors only without losing generality (why?)\n",
      "* $R$ is orthogonal: $(R^{-1})^* = (R^{-1})^T = R \\iff RR^T = I$\n",
      "* $A =  R\\Lambda R^T$, this diagonalization is called the eigenvalue decomposition (EVD)\n",
      "* all eigenvalues are positive if and only if $A$ is symmetric positive definite"
     ]
    },
    {
     "cell_type": "markdown",
     "metadata": {
      "slideshow": {
       "slide_type": "subslide"
      }
     },
     "source": [
      "## Eigenvectors and maximization\n",
      "\n",
      "If $A$ is real and symmetric: \n",
      "\n",
      "* $\\bs v_1$ maximizes the $\\bs u^T A \\bs u$ among all L-2 unit vectors, i.e., $\\bs u^T \\bs u = 1$\n",
      "\n",
      "Apply Lagrange multiplier:\n",
      "\n",
      "$$\\begin{array}\n",
      "\\\\ l &= \\bs u^T A \\bs u - \\gamma (\\bs u^T \\bs u - 1) \\\\\n",
      "\\frac{\\partial l}{\\partial \\bs u} &= 2 \\bs u^T A^T - 2\\gamma \\bs u^T = \\bs 0^T \\iff A \\bs u = \\gamma \\bs u\n",
      "\\end{array}$$\n",
      "\n",
      "* the solution must be an eigenvector \n",
      "* note that $\\bs v_i^T A \\bs v_i = \\lambda_i$, therefore $\\bs v_1$ is the solution because $\\lambda_1$ is the largest\n",
      "\n",
      "This process can be repeated to find all eigenvalues and vectors:\n",
      "\n",
      "* $\\bs v_2$ maximizes $\\bs u^T A \\bs u$ for all unit $\\bs u$ that is orthogonal to $\\bs v_1$, i.e, $\\bs u^T \\bs v_1 = 0$.\n",
      "* $\\bs v_i$ maximizes amongst those unit $\\bs u$ that are orthogonal to $\\bs v_1, ..., \\bs v_{i-1}$"
     ]
    },
    {
     "cell_type": "markdown",
     "metadata": {
      "slideshow": {
       "slide_type": "subslide"
      }
     },
     "source": [
      "## Matrix similarity\n",
      "\n",
      "Square matrix $B$ and $A$ are similar if $B = P^{-1}AP$: \n",
      "* similar matrix have identical eigenvalues:\n",
      "\n",
      "$$ AR = PBP^{-1} R = R \\Lambda \\iff B (P^{-1}R) = (P^{-1} R) \\Lambda $$ \n",
      "\n",
      "* they represents the same linear function in different basis\n",
      "* $B$ is also called a similarity transformation of $A$\n",
      "\n",
      "The basic idea of computing eigen values for $A$:\n",
      "* Find a similarity transformation $B = P^{-1}AP$ so that $B$ is a triangular matrix\n",
      "* $A$ and $B$ has identical eigenvalues\n",
      "* Eigen values of a triangular matrix $B$ is just its diagonal elements."
     ]
    },
    {
     "cell_type": "markdown",
     "metadata": {
      "slideshow": {
       "slide_type": "slide"
      }
     },
     "source": [
      "# QR Decomposition\n",
      "\n",
      "orthogonal: adjective, at right angles"
     ]
    },
    {
     "cell_type": "markdown",
     "metadata": {
      "slideshow": {
       "slide_type": "subslide"
      }
     },
     "source": [
      "## QR decomposition\n",
      "\n",
      "Any real matrix $A$ can be decomposed into $A = QR$:\n",
      "* $Q$ is orthogonal ($QQ^T = I$)\n",
      "* $R$ is upper triangular, with the same dimension as $A$\n",
      "\n",
      "QR decomposition is numerically stable\n",
      "* making EVD analysis of large matrices a routine practice\n",
      "\n",
      "What if $A$ is not fully ranked?\n",
      "* $Q$ remains full rank (as all orthogonal matrices)\n",
      "* $R$ have more 0 rows "
     ]
    },
    {
     "cell_type": "markdown",
     "metadata": {
      "slideshow": {
       "slide_type": "subslide"
      }
     },
     "source": [
      "## QR algorithm for solving eigenvalues\n",
      "\n",
      "\n",
      "QA algorithm is one of the most important numerical methods of the 20th century <a href=https://www.siam.org/pdf/news/637.pdf>link</a>\n",
      "\n",
      "Start with $A_0 = A$, then iterate:\n",
      "\n",
      "* run a QR decomposition of $A_k$: $A_k = Q_kR_k$\n",
      "* set $A_{k+1} = R_kQ_k = Q_k^{-1}A_kQ_k$, $A_{k+1}$ therefore has the same eigen values as $A_k$\n",
      "* stop if $A_k$ is adequately upper triangular\n",
      "* the eigven values are the diagonal elements of $A_k$\n",
      "\n",
      "This algorithm is unconditionally stable because only orthogonal transformtions are used.\n",
      "\n",
      "* $A$ is often transformed using a similarity transformation to a near upper triangle before applying the QR algorithm. "
     ]
    },
    {
     "cell_type": "markdown",
     "metadata": {
      "slideshow": {
       "slide_type": "subslide"
      }
     },
     "source": [
      "## Example of QR algorithm\n",
      "\n",
      "Find the eigenvalues of the following matrix:"
     ]
    },
    {
     "cell_type": "code",
     "collapsed": false,
     "input": [
      "def qr_next(a) :\n",
      "    q, r = np.linalg.qr(a)\n",
      "    return r.dot(q)\n",
      "\n",
      "a = np.array([[5, 4, -3, 2], [4, 4, 2, -1], [-3, 2, 3, 0], [2, -1, 0, -2]])\n",
      "A = sp.MatrixSymbol('A', 4, 4)\n",
      "A1 = sp.MatrixSymbol('A_1', 4, 4)\n",
      "Q = sp.MatrixSymbol('Q_0', 4, 4)\n",
      "R = sp.MatrixSymbol('R_0', 4, 4)\n",
      "\n",
      "fmt.displayMath(fmt.joinMath('=', A, sp.Matrix(a)), pre=\"\\small \")"
     ],
     "language": "python",
     "metadata": {
      "slideshow": {
       "slide_type": "-"
      }
     },
     "outputs": [
      {
       "latex": [
        "$$\\small A=\\left(\\begin{matrix}5 & 4 & -3 & 2\\\\4 & 4 & 2 & -1\\\\-3 & 2 & 3 & 0\\\\2 & -1 & 0 & -2\\end{matrix}\\right)$$"
       ],
       "metadata": {},
       "output_type": "display_data",
       "text": [
        "<IPython.core.display.Math at 0xcbf80f0>"
       ]
      }
     ],
     "prompt_number": 19
    },
    {
     "cell_type": "markdown",
     "metadata": {},
     "source": [
      "QR decomposition of $A_0 = A$:"
     ]
    },
    {
     "cell_type": "code",
     "collapsed": false,
     "input": [
      "q, r = np.linalg.qr(a)\n",
      "fmt.displayMath(fmt.joinMath('=', Q, sp.Matrix(q).evalf(3)), fmt.joinMath('=', R, sp.Matrix(r).evalf(3)), pre=\"\\small \")"
     ],
     "language": "python",
     "metadata": {
      "slideshow": {
       "slide_type": "-"
      }
     },
     "outputs": [
      {
       "latex": [
        "$$\\small Q_{0}=\\left(\\begin{matrix}-0.68 & -0.297 & -0.611 & 0.276\\\\-0.544 & -0.406 & 0.65 & -0.34\\\\0.408 & -0.75 & 0.136 & 0.502\\\\-0.272 & 0.43 & 0.431 & 0.745\\end{matrix}\\right)\\;,\\;\\;\\;R_{0}=\\left(\\begin{matrix}-7.35 & -3.81 & 2.18 & -0.272\\\\0 & -4.74 & -2.17 & -1.05\\\\0 & 0 & 3.54 & -2.73\\\\0 & 0 & 0 & -0.6\\end{matrix}\\right)$$"
       ],
       "metadata": {},
       "output_type": "display_data",
       "text": [
        "<IPython.core.display.Math at 0xcbf7358>"
       ]
      }
     ],
     "prompt_number": 20
    },
    {
     "cell_type": "markdown",
     "metadata": {
      "slideshow": {
       "slide_type": "fragment"
      }
     },
     "source": [
      "$A$ at the start of the next iteration, and after 20 iterations:"
     ]
    },
    {
     "cell_type": "code",
     "collapsed": false,
     "input": [
      "ii = 20\n",
      "d = np.copy(a)\n",
      "for i in range(ii) :\n",
      "    d = qr_next(d)\n",
      "    \n",
      "An = sp.MatrixSymbol('A_%d' % ii, 4, 4)\n",
      "fmt.displayMath(fmt.joinMath('=', A1, sp.Matrix(r.dot(q)).evalf(3)), fmt.joinMath('=', An, sp.Matrix(np.round(d, 3))), pre=\"\\small \")"
     ],
     "language": "python",
     "metadata": {
      "slideshow": {
       "slide_type": "fragment"
      }
     },
     "outputs": [
      {
       "latex": [
        "$$\\small A_{1}=\\left(\\begin{matrix}8.04 & 1.98 & 2.19 & 0.163\\\\1.98 & 3.1 & -3.83 & -0.258\\\\2.19 & -3.83 & -0.695 & -0.258\\\\0.163 & -0.258 & -0.258 & -0.447\\end{matrix}\\right)\\;,\\;\\;\\;A_{20}=\\left(\\begin{matrix}8.829 & 0.0 & 0.0 & 0.0\\\\0.0 & 5.405 & 0.009 & 0.0\\\\0.0 & 0.009 & -3.829 & 0.0\\\\0.0 & 0.0 & 0.0 & -0.405\\end{matrix}\\right)$$"
       ],
       "metadata": {},
       "output_type": "display_data",
       "text": [
        "<IPython.core.display.Math at 0xa9468d0>"
       ]
      }
     ],
     "prompt_number": 21
    },
    {
     "cell_type": "markdown",
     "metadata": {
      "slideshow": {
       "slide_type": "subslide"
      }
     },
     "source": [
      "## Householder transformation\n",
      "\n",
      "* an orthogonal transformation representing reflection over a hyper plane, with a normal vector $\\bs u$:\n",
      "\n",
      "$$ H = I - \\frac{2\\bs{uu}^T}{\\bs {(u^T u)^2}}$$\n",
      "\n",
      "* Household transformation can reflect an arbitrary vector $\\bs x$ to $ \\Vert \\bs x \\Vert_2 \\hat{\\bs e}_1$, where $\\hat{\\bs e}_1$ can be any unit vector. \n",
      "\n",
      "<center><img src = \"img/householder.png\" height=300 width=300></center>\n",
      "\n",
      "* It is obvious from the figure that: $\\bs u = \\bs x - \\Vert \\bs x \\Vert_2 \\hat{\\bs e}_1$."
     ]
    },
    {
     "cell_type": "markdown",
     "metadata": {
      "slideshow": {
       "slide_type": "subslide"
      }
     },
     "source": [
      "## QR decomposition using Householder\n",
      "\n",
      "We show how to use Householder transformation to perform QR decomposition of the $A$ in previous example.\n",
      "\n",
      "* The first step, zero out the lower triangle of the first column by a Householder transformation"
     ]
    },
    {
     "cell_type": "code",
     "collapsed": false,
     "input": [
      "def householder(x0, e=0) :\n",
      "    n = len(x0)\n",
      "    e1 = np.zeros(n-e)\n",
      "    x = x0[e:]\n",
      "    e1[0] = np.linalg.norm(x, 2)\n",
      "    u = x - e1\n",
      "    v = np.matrix(u/np.linalg.norm(u, 2))\n",
      "    hs = np.eye(n-e) - 2*v.T*v\n",
      "    h = np.eye(n)\n",
      "    h[e:,e:] = hs\n",
      "    return h\n",
      "\n",
      "x, u, e1, Q, R = sp.symbols(\"x, u, e_1, Q, R\")\n",
      "xn = sp.symbols(\"\\Vert{x}\\Vert_2\")\n",
      "b = a[:, 0]\n",
      "c = np.zeros(len(b))\n",
      "c[0] = np.linalg.norm(b, 2)\n",
      "\n",
      "fmt.displayMath(fmt.joinMath('=', A, sp.Matrix(np.round(a))), fmt.joinMath('=', x, sp.Matrix(a[:,0])), \n",
      "                fmt.joinMath('=', xn, np.round(np.linalg.norm(b, 2), 3)),\n",
      "                fmt.joinMath('=', e1, sp.Matrix([1, 0, 0, 0])),\n",
      "                fmt.joinMath('=', u, sp.Matrix(a[:,0]-c).evalf(3)), pre=\"\\small \")\n",
      "\n",
      "fmt.displayMath(\"\\;\")\n",
      "    \n",
      "h1 = householder(a[:, 0], 0)\n",
      "H1 = sp.MatrixSymbol('H_1', 4, 4)\n",
      "a1 = h1.dot(a)\n",
      "fmt.displayMath(fmt.joinMath('=', H1, sp.Matrix(np.round(h1, 3))), \n",
      "                fmt.joinMath('=', H1*A, sp.Matrix(np.round(a1, 3))), pre=\"\\small \")"
     ],
     "language": "python",
     "metadata": {},
     "outputs": [
      {
       "latex": [
        "$$\\small A=\\left(\\begin{matrix}5 & 4 & -3 & 2\\\\4 & 4 & 2 & -1\\\\-3 & 2 & 3 & 0\\\\2 & -1 & 0 & -2\\end{matrix}\\right)\\;,\\;\\;\\;x=\\left(\\begin{matrix}5\\\\4\\\\-3\\\\2\\end{matrix}\\right)\\;,\\;\\;\\;\\Vert{x}\\Vert_{2}=7.348\\;,\\;\\;\\;e_{1}=\\left(\\begin{matrix}1\\\\0\\\\0\\\\0\\end{matrix}\\right)\\;,\\;\\;\\;u=\\left(\\begin{matrix}-2.35\\\\4.0\\\\-3.0\\\\2.0\\end{matrix}\\right)$$"
       ],
       "metadata": {},
       "output_type": "display_data",
       "text": [
        "<IPython.core.display.Math at 0xa11bb70>"
       ]
      },
      {
       "latex": [
        "$$\\;$$"
       ],
       "metadata": {},
       "output_type": "display_data",
       "text": [
        "<IPython.core.display.Math at 0xa141780>"
       ]
      },
      {
       "latex": [
        "$$\\small H_{1}=\\left(\\begin{matrix}0.68 & 0.544 & -0.408 & 0.272\\\\0.544 & 0.073 & 0.695 & -0.464\\\\-0.408 & 0.695 & 0.478 & 0.348\\\\0.272 & -0.464 & 0.348 & 0.768\\end{matrix}\\right)\\;,\\;\\;\\;H_{1} A=\\left(\\begin{matrix}7.348 & 3.81 & -2.177 & 0.272\\\\0.0 & 4.323 & 0.599 & 1.943\\\\0.0 & 1.758 & 4.051 & -2.207\\\\0.0 & -0.838 & -0.701 & -0.529\\end{matrix}\\right)$$"
       ],
       "metadata": {},
       "output_type": "display_data",
       "text": [
        "<IPython.core.display.Math at 0xa11b208>"
       ]
      }
     ],
     "prompt_number": 34
    },
    {
     "cell_type": "markdown",
     "metadata": {
      "slideshow": {
       "slide_type": "subslide"
      }
     },
     "source": [
      "continue to zero out the lower triangle"
     ]
    },
    {
     "cell_type": "code",
     "collapsed": false,
     "input": [
      "h2 = householder(a1[:, 1], 1)\n",
      "H2 = sp.MatrixSymbol('H_2', 4, 4)\n",
      "a2 = h2.dot(a1)\n",
      "fmt.displayMath(fmt.joinMath('=', H2, sp.Matrix(np.round(h2, 3))), \n",
      "                fmt.joinMath('=', H2*H1*A, sp.Matrix(np.round(a2, 3))), pre=\"\\small \")\n",
      "fmt.displayMath(\"\\;\")\n",
      "\n",
      "h3 = householder(a2[:, 2], 2)\n",
      "H3 = sp.MatrixSymbol('H_3', 4, 4)\n",
      "a3 = h3.dot(a2)\n",
      "fmt.displayMath(fmt.joinMath('=', H3, sp.Matrix(np.round(h3, 3))), \n",
      "                fmt.joinMath('=', H3*H2*H1*A, sp.Matrix(np.round(a3, 3))), pre=\"\\small \")"
     ],
     "language": "python",
     "metadata": {},
     "outputs": [
      {
       "latex": [
        "$$\\small H_{2}=\\left(\\begin{matrix}1.0 & 0.0 & 0.0 & 0.0\\\\0.0 & 0.912 & 0.371 & -0.177\\\\0.0 & 0.371 & -0.557 & 0.743\\\\0.0 & -0.177 & 0.743 & 0.646\\end{matrix}\\right)\\;,\\;\\;\\;H_{2} H_{1} A=\\left(\\begin{matrix}7.348 & 3.81 & -2.177 & 0.272\\\\0.0 & 4.741 & 2.172 & 1.047\\\\0.0 & 0.0 & -2.556 & 1.558\\\\0.0 & 0.0 & 2.451 & -2.325\\end{matrix}\\right)$$"
       ],
       "metadata": {},
       "output_type": "display_data",
       "text": [
        "<IPython.core.display.Math at 0xcbf6e80>"
       ]
      },
      {
       "latex": [
        "$$\\;$$"
       ],
       "metadata": {},
       "output_type": "display_data",
       "text": [
        "<IPython.core.display.Math at 0xa43e390>"
       ]
      },
      {
       "latex": [
        "$$\\small H_{3}=\\left(\\begin{matrix}1.0 & 0.0 & 0.0 & 0.0\\\\0.0 & 1.0 & 0.0 & 0.0\\\\0.0 & 0.0 & -0.722 & 0.692\\\\0.0 & 0.0 & 0.692 & 0.722\\end{matrix}\\right)\\;,\\;\\;\\;H_{3} H_{2} H_{1} A=\\left(\\begin{matrix}7.348 & 3.81 & -2.177 & 0.272\\\\0.0 & 4.741 & 2.172 & 1.047\\\\0.0 & 0.0 & 3.542 & -2.733\\\\0.0 & 0.0 & 0.0 & -0.6\\end{matrix}\\right)$$"
       ],
       "metadata": {},
       "output_type": "display_data",
       "text": [
        "<IPython.core.display.Math at 0xa5eae48>"
       ]
      }
     ],
     "prompt_number": 23
    },
    {
     "cell_type": "markdown",
     "metadata": {},
     "source": [
      "the final results are therefore $Q = (H_3H_2H_1)^T, R = Q^T A$:"
     ]
    },
    {
     "cell_type": "code",
     "collapsed": false,
     "input": [
      "q = (h3.dot(h2).dot(h1)).T\n",
      "r = q.T.dot(a)\n",
      "np.round(q.dot(r), 4)\n",
      "\n",
      "fmt.displayMath(fmt.joinMath('=', Q, sp.Matrix(np.round(q, 3))), fmt.joinMath('=', R, sp.Matrix(np.round(r, 3))), pre=\"\\small \")"
     ],
     "language": "python",
     "metadata": {},
     "outputs": [
      {
       "latex": [
        "$$\\small Q=\\left(\\begin{matrix}0.68 & 0.297 & -0.611 & 0.276\\\\0.544 & 0.406 & 0.65 & -0.34\\\\-0.408 & 0.75 & 0.136 & 0.502\\\\0.272 & -0.43 & 0.431 & 0.746\\end{matrix}\\right)\\;,\\;\\;\\;R=\\left(\\begin{matrix}7.348 & 3.81 & -2.177 & 0.272\\\\0.0 & 4.741 & 2.172 & 1.047\\\\0.0 & 0.0 & 3.542 & -2.733\\\\0.0 & 0.0 & 0.0 & -0.6\\end{matrix}\\right)$$"
       ],
       "metadata": {},
       "output_type": "display_data",
       "text": [
        "<IPython.core.display.Math at 0xcbfc400>"
       ]
      }
     ],
     "prompt_number": 24
    },
    {
     "cell_type": "markdown",
     "metadata": {
      "slideshow": {
       "slide_type": "subslide"
      }
     },
     "source": [
      "## QR decomposition for least square\n",
      "\n",
      "$$ \\min_{\\bs {\\beta}} \\Vert X \\bs{\\beta - y} \\Vert_2$$\n",
      "\n",
      "given the QR decomposition of $X = QR$:\n",
      "\n",
      "$$ \\min_{\\bs {\\beta}} \\Vert X \\bs{\\beta - y} \\Vert_2 = \\min_{\\bs {\\beta}} \\Vert Q^T X \\bs \\beta - Q^T \\bs y \\Vert_2 = \\min_{\\bs {\\beta}} \\Vert R \\bs \\beta - \\bs y'\\Vert_2$$\n",
      "\n",
      "note that $R$ is right trangular, the vector whose norm is to be minimized looks like:\n",
      "\n",
      "$$\\begin{pmatrix}\n",
      "r_{11} & r_{12} & \\cdots & r_{1n} \\\\\n",
      "0 & r_{22} & \\cdots & r_{2n} \\\\\n",
      "\\vdots & \\ddots & \\ddots & \\vdots \\\\\n",
      "0  & \\cdots\\ & 0 & r_{nn} \\\\\n",
      "\\hline\n",
      "0 & 0 & \\cdots & 0 \\\\\n",
      "\\vdots & \\vdots & \\ddots & \\vdots \\\\\n",
      "0 & 0 & \\cdots & 0 \n",
      "\\end{pmatrix} \n",
      "\\begin{pmatrix}\n",
      "\\beta_1 \\\\ \\beta_2 \\\\ \\vdots \\\\ \\beta_n\n",
      "\\end{pmatrix}\n",
      "- \\begin{pmatrix}\n",
      "y'_1 \\\\ y'_2 \\\\ \\vdots \\\\ y'_n \\\\ \\hline y'_{n+1} \\\\ \\vdots \\\\ y'_m\n",
      "\\end{pmatrix}\n",
      "$$\n",
      "\n",
      "therefore, the solution is the $\\bs \\beta$ that zero out the first $n$ elements of the vector."
     ]
    },
    {
     "cell_type": "markdown",
     "metadata": {
      "slideshow": {
       "slide_type": "subslide"
      }
     },
     "source": [
      "## Top 10 numerical algorithm in the 20th century\n",
      "\n",
      "By [SIAM](https://www.siam.org/pdf/news/637.pdf):\n",
      "1. 1946, Monte Carlo\n",
      "2. 1947, Simplex method for linear programming\n",
      "3. 1950, Subspace iteration for solving $A\\bs x = \\bs y$\n",
      "4. 1951, LU decomposition\n",
      "5. 1957, Fortran optimized compiler\n",
      "6. 1959-1961, QR decomposition/QR algorithm\n",
      "7. 1963, quicksort\n",
      "8. 1965, fast fourier transform\n",
      "9. 1977, integer relation detection algoirthm\n",
      "10. 1987, fast multipole algorithm"
     ]
    },
    {
     "cell_type": "markdown",
     "metadata": {},
     "source": [
      "Why single out the 20th century?"
     ]
    },
    {
     "cell_type": "markdown",
     "metadata": {
      "slideshow": {
       "slide_type": "subslide"
      }
     },
     "source": [
      "## Original mobile computing devices\n",
      "\n",
      "\n",
      "Slide rule:\n",
      "\n",
      "<img src=https://encrypted-tbn3.gstatic.com/images?q=tbn:ANd9GcS6XOdwLqDUf2PYIaP09qAMNH5RL0RAh9mA7PxPoGgKke2X6s4UAw width=400>\n",
      "\n",
      "Abacus:\n",
      "\n",
      "<img src=https://sites.google.com/site/southmath/abacus02.JPG width=400>\n"
     ]
    },
    {
     "cell_type": "markdown",
     "metadata": {
      "slideshow": {
       "slide_type": "slide"
      }
     },
     "source": [
      "# Principal Component Analysis\n",
      "\n",
      "Mahatma Gandhi: action expresses priorities. "
     ]
    },
    {
     "cell_type": "markdown",
     "metadata": {
      "slideshow": {
       "slide_type": "subslide"
      }
     },
     "source": [
      "## Principal component\n",
      "\n",
      "The principal component (PC):\n",
      "\n",
      "* Suppose $\\bs r$ is a random vector, with expectation $\\bar{\\bs r} = \\mathbb{E}[\\bs r]$ and covariance matrix $ V = \\mathbb{E}[(\\bs r - \\bar{\\bs r})(\\bs r - \\bar{\\bs r})^T] $\n",
      "  * daily returns of a set of equities is an example of random vectors\n",
      "\n",
      "* PC is defined to be the direction $\\hat{\\bs u}$ onto which the projection $\\bs r^T \\hat{\\bs u}$ has the maximimum variance, \n",
      "  * $\\hat{\\bs u}$ is a unit vector, i.e., $\\Vert \\hat{\\bs u} \\Vert_2 = \\hat{\\bs u}^T\\hat{\\bs u} = 1$"
     ]
    },
    {
     "cell_type": "code",
     "collapsed": false,
     "input": [
      "es = np.random.normal(size=[3, 300])\n",
      "x = (1.5*es[0,:] + .25*es[1,:])*.3 + 1\n",
      "y = es[0,:]*.4 + es[2,:]*.2\n",
      "\n",
      "figure(figsize=[6, 4])\n",
      "plot(x, y, '.')\n",
      "xlim(-2, 4)\n",
      "ylim(-2, 2);\n",
      "xlabel('x')\n",
      "ylabel('y');\n",
      "\n",
      "cov = np.cov([x, y])\n",
      "ev, evec = np.linalg.eig(cov)\n",
      "\n",
      "ux = mean(x)\n",
      "uy = mean(y)\n",
      "arrow(ux, uy, -3*sqrt(ev[1])*evec[0, 1], -3*sqrt(ev[1])*evec[1, 1], width=.01, color='r')\n",
      "arrow(ux, uy, 3*sqrt(ev[0])*evec[0, 0], 3*sqrt(ev[0])*evec[1, 0], width=.01, color='r');\n",
      "title('Principal Components of 2-D Data');"
     ],
     "language": "python",
     "metadata": {},
     "outputs": [
      {
       "metadata": {},
       "output_type": "display_data",
       "png": "[encoded data removed]",
       "text": [
        "<matplotlib.figure.Figure at 0xca4f390>"
       ]
      }
     ],
     "prompt_number": 25
    },
    {
     "cell_type": "markdown",
     "metadata": {
      "slideshow": {
       "slide_type": "subslide"
      }
     },
     "source": [
      "## Link to eigenvectors\n",
      "\n",
      "The projection of the random vector in the direction of $\\hat{\\bs u}$ is a random scalar $\\hat{\\bs u}^T \\bs r$\n",
      "\n",
      "* the variance of the projection is $\\text{var}[\\hat{\\bs u}^T \\bs r] = \\hat{\\bs u}^T V \\hat{\\bs u}$.\n",
      "* the first eigen vector $\\bs v_1$ of $V$ is therefore the principal component\n",
      "\n",
      "If we limit ourselves to all $\\bs u$ that is perpendicular to $\\bs v_1$, then: \n",
      "\n",
      "* the second eigen vector $\\bs v_2$ of $V$ is the principal component amongst all $\\bs u$ with $\\bs v_1^T \\bs u = 0$\n",
      "* this process can continue for all the eigen vectors"
     ]
    },
    {
     "cell_type": "markdown",
     "metadata": {
      "slideshow": {
       "slide_type": "subslide"
      }
     },
     "source": [
      "## Percentage of variance explained\n",
      "\n",
      "The total variance of is sum of variance of in all $n$ elements of the random vector, which equals:\n",
      "\n",
      "1. trace of $V$\n",
      "2. sum of all eigen values of $V$\n",
      "\n",
      "Therefore, the percentage of variance explained by the first $k$ eigenvectors is $\\frac{\\sum_i^k \\lambda_i}{\\sum_i^n \\lambda_i}$. "
     ]
    },
    {
     "cell_type": "markdown",
     "metadata": {
      "slideshow": {
       "slide_type": "subslide"
      }
     },
     "source": [
      "## PCA vs. least square\n",
      "\n",
      "The PCA analysis has some similarity to the least square problem, both of them can be viewed as minimizing the L2 norm of residual errors. "
     ]
    },
    {
     "cell_type": "code",
     "collapsed": false,
     "input": [
      "xs = np.array([x, np.ones(len(x))]).T\n",
      "beta = np.linalg.inv(xs.T.dot(xs)).dot(xs.T).dot(y)\n",
      "\n",
      "s_x, s_y = sp.symbols('x, y')\n",
      "br = np.round(beta, 4)\n",
      "\n",
      "figure(figsize=[13, 4])\n",
      "subplot(1, 2, 1)\n",
      "plot(x, y, '.')\n",
      "xlim(-2, 4)\n",
      "ylim(-2, 2);\n",
      "xlabel('x')\n",
      "ylabel('y');\n",
      "\n",
      "dx = 4*sqrt(ev[0])*evec[0, 0]\n",
      "dy = 4*sqrt(ev[0])*evec[1, 0]\n",
      "\n",
      "arrow(ux-dx, uy-dy, 2*dx, 2*dy, width=.01, color='k');\n",
      "\n",
      "ex = 3*sqrt(ev[1])*evec[0, 1]\n",
      "ey = 3*sqrt(ev[1])*evec[1, 1]\n",
      "plot([ux, ux+ex], [uy, uy+ey], 'r-o', lw=3)\n",
      "legend(['data', 'residual error'], loc='best')\n",
      "\n",
      "title('PCA');\n",
      "\n",
      "subplot(1, 2, 2)\n",
      "plot(x, y, '.')\n",
      "xlim(-2, 4)\n",
      "ylim(-2, 2);\n",
      "xlabel('x')\n",
      "ylabel('y');\n",
      "arrow(-1, -1*beta[0]+beta[1], 4, 4*beta[0], width=.01, color='k');\n",
      "y0 = (ux+ex)*beta[0] + beta[1]\n",
      "plot([ux+ex, ux+ex], [y0, uy+ey], 'r-o', lw=3)\n",
      "legend(['data', 'residual error'], loc='best')\n",
      "title('Least Square');"
     ],
     "language": "python",
     "metadata": {
      "slideshow": {
       "slide_type": "-"
      }
     },
     "outputs": [
      {
       "metadata": {},
       "output_type": "display_data",
       "png": "[encoded data removed]",
       "text": [
        "<matplotlib.figure.Figure at 0xa94bc88>"
       ]
      }
     ],
     "prompt_number": 26
    },
    {
     "cell_type": "markdown",
     "metadata": {
      "slideshow": {
       "slide_type": "subslide"
      }
     },
     "source": [
      "## Which one to use\n",
      "\n",
      "The main differences between PCA and least square (regression):\n",
      "\n",
      "|  | PCA | Least Square/Regression |\n",
      "| :-----: | :----: | :----: |\n",
      "| Scale Invariant | No | Yes |\n",
      "| Symmetry in Dimension | Yes | No |\n",
      "\n",
      "To choose between the two:\n",
      "* Use least square/regression when there are clear explanatary variables\n",
      "* Use PCA when there is a set of related variables but no clear drivers\n",
      "* PCA requires a natural unit for all dimensions"
     ]
    },
    {
     "cell_type": "markdown",
     "metadata": {
      "slideshow": {
       "slide_type": "subslide"
      }
     },
     "source": [
      "## Application in interest rates\n",
      "\n",
      "CMT rates are constant maturity treasury bond yield that are published daily by <a href=http://www.treasury.gov/resource-center/data-chart-center/interest-rates/Pages/TextView.aspx?data=yield>U. S. Treasury</a>.\n"
     ]
    },
    {
     "cell_type": "code",
     "collapsed": false,
     "input": [
      "cmt_rates = pd.read_csv(\"data/cmt.csv\", parse_dates=[0], index_col=[0])\n",
      "\n",
      "cmt_rates.plot(legend=False, title='Historical CMT yield');"
     ],
     "language": "python",
     "metadata": {
      "slideshow": {
       "slide_type": "-"
      }
     },
     "outputs": [
      {
       "metadata": {},
       "output_type": "display_data",
       "png": "[encoded data removed]",
       "text": [
        "<matplotlib.figure.Figure at 0xcbfc908>"
       ]
      }
     ],
     "prompt_number": 27
    },
    {
     "cell_type": "markdown",
     "metadata": {
      "slideshow": {
       "slide_type": "subslide"
      }
     },
     "source": [
      "## Correlation matrix\n",
      "\n",
      "* Correlation matrix between CMT rates at different maturities"
     ]
    },
    {
     "cell_type": "code",
     "collapsed": false,
     "input": [
      "tenors = cmt_rates.columns.map(float)\n",
      "c = cmt_rates.cov()\n",
      "fmt.displayDF(cmt_rates.corr(), \"4g\")"
     ],
     "language": "python",
     "metadata": {
      "slideshow": {
       "slide_type": "-"
      }
     },
     "outputs": [
      {
       "html": [
        "<center><font size=2><table border=\"1\" class=\"dataframe\">\n",
        "  <thead>\n",
        "    <tr style=\"text-align: right;\">\n",
        "      <th></th>\n",
        "      <th>0.25</th>\n",
        "      <th>0.5</th>\n",
        "      <th>1</th>\n",
        "      <th>2</th>\n",
        "      <th>3</th>\n",
        "      <th>5</th>\n",
        "      <th>7</th>\n",
        "      <th>10</th>\n",
        "      <th>20</th>\n",
        "    </tr>\n",
        "  </thead>\n",
        "  <tbody>\n",
        "    <tr>\n",
        "      <th>0.25</th>\n",
        "      <td>     1</td>\n",
        "      <td>0.9981</td>\n",
        "      <td>0.9923</td>\n",
        "      <td>0.9765</td>\n",
        "      <td>0.9612</td>\n",
        "      <td>0.9284</td>\n",
        "      <td>0.9017</td>\n",
        "      <td>0.8696</td>\n",
        "      <td>0.8146</td>\n",
        "    </tr>\n",
        "    <tr>\n",
        "      <th>0.5</th>\n",
        "      <td>0.9981</td>\n",
        "      <td>     1</td>\n",
        "      <td>0.9971</td>\n",
        "      <td>0.9841</td>\n",
        "      <td>  0.97</td>\n",
        "      <td>0.9388</td>\n",
        "      <td>0.9126</td>\n",
        "      <td>0.8822</td>\n",
        "      <td>0.8272</td>\n",
        "    </tr>\n",
        "    <tr>\n",
        "      <th>1</th>\n",
        "      <td>0.9923</td>\n",
        "      <td>0.9971</td>\n",
        "      <td>     1</td>\n",
        "      <td>0.9938</td>\n",
        "      <td>0.9838</td>\n",
        "      <td>0.9582</td>\n",
        "      <td>0.9351</td>\n",
        "      <td>0.9086</td>\n",
        "      <td>0.8577</td>\n",
        "    </tr>\n",
        "    <tr>\n",
        "      <th>2</th>\n",
        "      <td>0.9765</td>\n",
        "      <td>0.9841</td>\n",
        "      <td>0.9938</td>\n",
        "      <td>     1</td>\n",
        "      <td>0.9972</td>\n",
        "      <td>0.9816</td>\n",
        "      <td>0.9648</td>\n",
        "      <td> 0.943</td>\n",
        "      <td>0.8995</td>\n",
        "    </tr>\n",
        "    <tr>\n",
        "      <th>3</th>\n",
        "      <td>0.9612</td>\n",
        "      <td>  0.97</td>\n",
        "      <td>0.9838</td>\n",
        "      <td>0.9972</td>\n",
        "      <td>     1</td>\n",
        "      <td>0.9927</td>\n",
        "      <td>0.9807</td>\n",
        "      <td> 0.963</td>\n",
        "      <td>0.9254</td>\n",
        "    </tr>\n",
        "    <tr>\n",
        "      <th>5</th>\n",
        "      <td>0.9284</td>\n",
        "      <td>0.9388</td>\n",
        "      <td>0.9582</td>\n",
        "      <td>0.9816</td>\n",
        "      <td>0.9927</td>\n",
        "      <td>     1</td>\n",
        "      <td>0.9966</td>\n",
        "      <td>0.9871</td>\n",
        "      <td>0.9604</td>\n",
        "    </tr>\n",
        "    <tr>\n",
        "      <th>7</th>\n",
        "      <td>0.9017</td>\n",
        "      <td>0.9126</td>\n",
        "      <td>0.9351</td>\n",
        "      <td>0.9648</td>\n",
        "      <td>0.9807</td>\n",
        "      <td>0.9966</td>\n",
        "      <td>     1</td>\n",
        "      <td>0.9957</td>\n",
        "      <td>0.9779</td>\n",
        "    </tr>\n",
        "    <tr>\n",
        "      <th>10</th>\n",
        "      <td>0.8696</td>\n",
        "      <td>0.8822</td>\n",
        "      <td>0.9086</td>\n",
        "      <td> 0.943</td>\n",
        "      <td> 0.963</td>\n",
        "      <td>0.9871</td>\n",
        "      <td>0.9957</td>\n",
        "      <td>     1</td>\n",
        "      <td>0.9903</td>\n",
        "    </tr>\n",
        "    <tr>\n",
        "      <th>20</th>\n",
        "      <td>0.8146</td>\n",
        "      <td>0.8272</td>\n",
        "      <td>0.8577</td>\n",
        "      <td>0.8995</td>\n",
        "      <td>0.9254</td>\n",
        "      <td>0.9604</td>\n",
        "      <td>0.9779</td>\n",
        "      <td>0.9903</td>\n",
        "      <td>     1</td>\n",
        "    </tr>\n",
        "  </tbody>\n",
        "</table></font></center>"
       ],
       "metadata": {},
       "output_type": "display_data",
       "text": [
        "<IPython.core.display.HTML at 0xa41f550>"
       ]
      }
     ],
     "prompt_number": 28
    },
    {
     "cell_type": "markdown",
     "metadata": {
      "slideshow": {
       "slide_type": "subslide"
      }
     },
     "source": [
      "## IR PCA components\n",
      "\n",
      "The eigenvectors and percentage explained, \n",
      "\n",
      "* the first principal component explains more than 95% of the variance in CMT rates.\n",
      "* the first 3 principal components can be interpreted as level, slope and curvature of the curve\n",
      "* note that the sign of the PC is insignificant"
     ]
    },
    {
     "cell_type": "code",
     "collapsed": false,
     "input": [
      "x, v = np.linalg.eig(c)\n",
      "\n",
      "pct_v = np.cumsum(x)/sum(x)*100\n",
      "\n",
      "import pandas as pd\n",
      "pd.set_option('display.precision', 3)\n",
      "fmt.displayDF(pd.DataFrame({'P/C':range(1, len(x)+1), 'Eigenvalues':x, 'Cumulative Var(%)': pct_v}).set_index(['P/C']).T, \"2f\")"
     ],
     "language": "python",
     "metadata": {},
     "outputs": [
      {
       "html": [
        "<center><font size=2><table border=\"1\" class=\"dataframe\">\n",
        "  <thead>\n",
        "    <tr style=\"text-align: right;\">\n",
        "      <th>P/C</th>\n",
        "      <th>1</th>\n",
        "      <th>2</th>\n",
        "      <th>3</th>\n",
        "      <th>4</th>\n",
        "      <th>5</th>\n",
        "      <th>6</th>\n",
        "      <th>7</th>\n",
        "      <th>8</th>\n",
        "      <th>9</th>\n",
        "    </tr>\n",
        "  </thead>\n",
        "  <tbody>\n",
        "    <tr>\n",
        "      <th>Cumulative Var(%)</th>\n",
        "      <td>96.27</td>\n",
        "      <td>99.74</td>\n",
        "      <td>99.92</td>\n",
        "      <td>99.96</td>\n",
        "      <td>99.99</td>\n",
        "      <td>99.99</td>\n",
        "      <td>99.99</td>\n",
        "      <td>100.00</td>\n",
        "      <td>100.00</td>\n",
        "    </tr>\n",
        "    <tr>\n",
        "      <th>Eigenvalues</th>\n",
        "      <td>34.33</td>\n",
        "      <td> 1.24</td>\n",
        "      <td> 0.06</td>\n",
        "      <td> 0.02</td>\n",
        "      <td> 0.01</td>\n",
        "      <td> 0.00</td>\n",
        "      <td> 0.00</td>\n",
        "      <td>  0.00</td>\n",
        "      <td>  0.00</td>\n",
        "    </tr>\n",
        "  </tbody>\n",
        "</table></font></center>"
       ],
       "metadata": {},
       "output_type": "display_data",
       "text": [
        "<IPython.core.display.HTML at 0xa42ee80>"
       ]
      }
     ],
     "prompt_number": 29
    },
    {
     "cell_type": "code",
     "collapsed": false,
     "input": [
      "flab = ['factor %d' % i for i in range(1, 4)]\n",
      "\n",
      "fig = figure(figsize=[12, 4])\n",
      "ax1 = fig.add_subplot(121)\n",
      "plot(tenors, v[:, :3], '.-');\n",
      "xlabel('Tenors(Y)')\n",
      "legend(flab, loc='best')\n",
      "title('First 3 principal components');\n",
      "\n",
      "fs = cmt_rates.dot(v).iloc[:, :3]\n",
      "\n",
      "ax2 = fig.add_subplot(122)\n",
      "fs.plot(ax=ax2, title='First 3 PCA factors')\n",
      "legend(flab, loc='best');"
     ],
     "language": "python",
     "metadata": {
      "slideshow": {
       "slide_type": "-"
      }
     },
     "outputs": [
      {
       "metadata": {},
       "output_type": "display_data",
       "png": "[encoded data removed]",
       "text": [
        "<matplotlib.figure.Figure at 0xa443cf8>"
       ]
      }
     ],
     "prompt_number": 30
    },
    {
     "cell_type": "markdown",
     "metadata": {
      "slideshow": {
       "slide_type": "subslide"
      }
     },
     "source": [
      "## Before applying PCA \n",
      "\n",
      "PCA is a powerful technique, however, beware of its limitations:\n",
      "\n",
      "* PCA factors are not real market risk factors\n",
      " * It does not lead to tradable hedging strategies\n",
      "* PCA is not scale (or unit) invariant\n",
      " * it requires all the dimensions to have the same natural unit\n",
      " * mixing factors of different magnitude can lead to trouble: eg, mixing interest rates with equities\n",
      " * PCA results are different when applied to co-variance matrix and correlation matrix\n",
      " \n",
      "PCA is usually applied to different data points of the same type\n",
      "\n",
      "* different tenors/strikes of interest rates, volatiilty etc.\n",
      "* price movements of the same sector/asset class"
     ]
    },
    {
     "cell_type": "markdown",
     "metadata": {
      "slideshow": {
       "slide_type": "subslide"
      }
     },
     "source": [
      "## What variable to apply PCA\n",
      "\n",
      "It is important to choose the right variable to apply PCA. The main considerations are:\n",
      "\n",
      "* Values or changes\n",
      " * Equity prices or returns?\n",
      " * IR levels or changes?\n",
      " * Key consideration: stationarity and mean reversion, horizon of your model prediction\n",
      " \n",
      "* Spot or forward\n",
      " * Forward is usually a better choice than spot because of spurious correlaitons\n",
      " \n",
      "Since the PCA is commonly applied to a correlation/covariance matrix, it is equivalent to ask what variables' correlation/covariance matrix we should model."
     ]
    },
    {
     "cell_type": "markdown",
     "metadata": {
      "slideshow": {
       "slide_type": "subslide"
      }
     },
     "source": [
      "## Spurious correlation - equity price\n",
      "\n",
      "Spurious correlation: variables can appear to be significantly correlated, but it is just an illusion:"
     ]
    },
    {
     "cell_type": "code",
     "collapsed": false,
     "input": [
      "f3 = pd.read_csv('data/f3.csv', parse_dates=[0]).set_index('Date').sort()\n",
      "r = np.log(f3).diff()\n",
      "\n",
      "fmt.displayDFs(f3.corr(), r.corr(), headers=['Price Correlation', 'Return Correlation'], fmt=\"4g\")"
     ],
     "language": "python",
     "metadata": {},
     "outputs": [
      {
       "html": [
        "<center><table style=\"border-style:hidden; border-collapse:collapse; text-align:center;\"><tr style=\"border:none\"><th style=\"border:none; text-align:center\">Price Correlation</th><th style=\"border:none; text-align:center\">Return Correlation</th></tr><tr style=\"border:none\"><td style=\"border:none; padding:20px; text-align:center\"><table border=\"1\" class=\"dataframe\">\n",
        "  <thead>\n",
        "    <tr style=\"text-align: right;\">\n",
        "      <th></th>\n",
        "      <th>SPY</th>\n",
        "      <th>GLD</th>\n",
        "      <th>OIL</th>\n",
        "    </tr>\n",
        "  </thead>\n",
        "  <tbody>\n",
        "    <tr>\n",
        "      <th>SPY</th>\n",
        "      <td>      1</td>\n",
        "      <td>  0.178</td>\n",
        "      <td>0.01086</td>\n",
        "    </tr>\n",
        "    <tr>\n",
        "      <th>GLD</th>\n",
        "      <td>  0.178</td>\n",
        "      <td>      1</td>\n",
        "      <td>-0.5238</td>\n",
        "    </tr>\n",
        "    <tr>\n",
        "      <th>OIL</th>\n",
        "      <td>0.01086</td>\n",
        "      <td>-0.5238</td>\n",
        "      <td>      1</td>\n",
        "    </tr>\n",
        "  </tbody>\n",
        "</table></td><td style=\"border:none; padding:20px; text-align:center\"><table border=\"1\" class=\"dataframe\">\n",
        "  <thead>\n",
        "    <tr style=\"text-align: right;\">\n",
        "      <th></th>\n",
        "      <th>SPY</th>\n",
        "      <th>GLD</th>\n",
        "      <th>OIL</th>\n",
        "    </tr>\n",
        "  </thead>\n",
        "  <tbody>\n",
        "    <tr>\n",
        "      <th>SPY</th>\n",
        "      <td>      1</td>\n",
        "      <td>0.03215</td>\n",
        "      <td>0.4191</td>\n",
        "    </tr>\n",
        "    <tr>\n",
        "      <th>GLD</th>\n",
        "      <td>0.03215</td>\n",
        "      <td>      1</td>\n",
        "      <td>0.3011</td>\n",
        "    </tr>\n",
        "    <tr>\n",
        "      <th>OIL</th>\n",
        "      <td> 0.4191</td>\n",
        "      <td> 0.3011</td>\n",
        "      <td>     1</td>\n",
        "    </tr>\n",
        "  </tbody>\n",
        "</table></td></tr></table></center>"
       ],
       "metadata": {},
       "output_type": "display_data",
       "text": [
        "<IPython.core.display.HTML at 0xcbe7198>"
       ]
      }
     ],
     "prompt_number": 31
    },
    {
     "cell_type": "markdown",
     "metadata": {
      "slideshow": {
       "slide_type": "subslide"
      }
     },
     "source": [
      "## Spurious correlation - spot rates\n",
      "\n",
      "The correlation between 9Y and 10Y spot rates and forward rates:"
     ]
    },
    {
     "cell_type": "code",
     "collapsed": false,
     "input": [
      "es = np.random.normal(size=[2, 500])\n",
      "r0 = es[0,:]*.015 + .05\n",
      "f1 = es[1,:]*.015 + .05\n",
      "\n",
      "r1 = -np.log(np.exp(-9*r0-f1))/10\n",
      "\n",
      "\n",
      "rc = np.corrcoef(np.array([r0, r1]))[0, 1]\n",
      "fc = np.corrcoef(np.array([r0, f1]))[0, 1]\n",
      "\n",
      "figure(figsize=[12, 4])\n",
      "subplot(1, 2, 1)\n",
      "plot(r0, r1, '.')\n",
      "xlabel('9Y rate')\n",
      "ylabel('10Y spot')\n",
      "title('Corr(9Y Spot, 10Y Spot) = %.4f'% rc)\n",
      "\n",
      "subplot(1, 2, 2)\n",
      "plot(r0, f1, '.')\n",
      "xlabel('9Y rate')\n",
      "ylabel('9-10Y forward')\n",
      "title('Corr(9Y Spot, 9-10Y Forward) = %.4f'% fc);"
     ],
     "language": "python",
     "metadata": {
      "slideshow": {
       "slide_type": "-"
      }
     },
     "outputs": [
      {
       "metadata": {},
       "output_type": "display_data",
       "png": "[encoded data removed]",
       "text": [
        "<matplotlib.figure.Figure at 0xa93b128>"
       ]
      }
     ],
     "prompt_number": 32
    },
    {
     "cell_type": "markdown",
     "metadata": {},
     "source": [
      "* The correlation between spot rates are spurious because 10Y spot rate is largely determined by the 9Y spot rates.\n",
      "\n",
      "$$\\exp(-9 r_9)\\exp(-(10-9) f_9^{10} ) = \\exp(-10 r_{10}) \\iff r_{10} = 0.9r_9 + 0.1f_9^{10} $$\n",
      "\n",
      "* it makes no difference if we have unlimited precision, but we usually only keep few eigen vectors in PCA\n",
      "* it's better to model the correlation/covariance matrix of forward rates"
     ]
    },
    {
     "cell_type": "markdown",
     "metadata": {
      "slideshow": {
       "slide_type": "slide"
      }
     },
     "source": [
      "# Singular Value Decomposition\n",
      "\n",
      "rotate, stretch and rotate, then you get back to square one, that's pretty much the life in a bank."
     ]
    },
    {
     "cell_type": "markdown",
     "metadata": {
      "slideshow": {
       "slide_type": "subslide"
      }
     },
     "source": [
      "## Definition\n",
      "\n",
      "For any real matrix $M$, $\\sigma > 0$ is a singular value if there exists two vectors $\\bs {u, v}$ such that:\n",
      "\n",
      "1. $M \\bs v = \\sigma \\bs u$ \n",
      "2. $M^T \\bs u = \\sigma \\bs v$\n",
      "\n",
      "$\\bs {u, v}$ are called left and right singular vector of $M$.\n",
      "* unlike eigenvalues, singular values are always positive.\n",
      "\n",
      "By convention, \n",
      "* we represent singular vectors as unit L-2 vectors, i.e., $\\bs u^T\\bs u = \\bs v^T \\bs v = 1$,\n",
      "* we name the singular values in descending order as $\\sigma_1, \\sigma_2, ..., \\sigma_n$, and refer corresponding singular vector pairs as $\\bs{ (u_1, v_1), (u_2, v_2), ..., (u_n, v_n) }$."
     ]
    },
    {
     "cell_type": "markdown",
     "metadata": {
      "slideshow": {
       "slide_type": "subslide"
      }
     },
     "source": [
      "## Singular vectors and maximization\n",
      "\n",
      "Consider $\\bs u^T M \\bs v$ for real matrix $M$:\n",
      "\n",
      "* $\\bs {u_1, v_1}$ maximize $\\bs u^T M \\bs v$ amongst all unit $\\bs {u, v}$ vectors. \n",
      "\n",
      "Apply the Lagrange multiplier, with constraints $\\bs u^T  \\bs u = \\bs v^T  \\bs v = 1$:\n",
      "\n",
      "$$\\small \\begin{array} \n",
      "\\\\l &= \\bs u^T M \\bs v - \\lambda_1 (\\bs u^T  \\bs u - 1) - \\lambda_2 (\\bs v^T  \\bs v - 1) \\\\\n",
      "\\frac{\\partial l}{\\partial{\\bs u}} &= \\bs v^T M^T - 2 \\lambda_1 \\bs u^T = \\bs 0^T \\iff \\bs u^T M \\bs v - 2 \\lambda_1 = 0\\\\\n",
      "\\frac{\\partial l}{\\partial{\\bs v}} &= \\bs u^T M - 2\\lambda_2 \\bs v^T = \\bs 0^T \\iff \\bs u^T M \\bs v- 2\\lambda_2 = 0\n",
      "\\end{array}$$\n",
      "\n",
      "Therefore,\n",
      "$$\\small \\bs u^T M \\bs v = 2\\lambda_1 = 2\\lambda_2 \\iff M \\bs v = \\sigma \\bs u \\;,\\; M^T\\bs u = \\sigma \\bs v $$"
     ]
    },
    {
     "cell_type": "markdown",
     "metadata": {
      "slideshow": {
       "slide_type": "subslide"
      }
     },
     "source": [
      "## Orthogonality of Singular Vectors\n",
      "\n",
      "Given $\\bs{u_1, v_1}$ are the first singular vectors of $M$:\n",
      "\n",
      "* $\\bs x^T \\bs v_1 = 0  \\iff (M \\bs x)^T \\bs u_1 = 0$ \n",
      "\n",
      "because:\n",
      "\n",
      "$$ (M \\bs x)^T \\bs u_1 = \\bs x^T M^T \\bs u_1 = \\bs x^T \\sigma_1 \\bs v_1  = 0 $$\n",
      "\n",
      "Therefore, among those unit $\\bs u, \\bs v$ that are orthogonal to $\\bs{u_1, v_1}$ :\n",
      "\n",
      "* $\\bs {u_2, v_2}$ maximizes $\\bs u^T M \\bs v$  \n",
      "* this process can repeat for all singular vectors"
     ]
    },
    {
     "cell_type": "markdown",
     "metadata": {
      "slideshow": {
       "slide_type": "subslide"
      }
     },
     "source": [
      "## Singular value decmposition\n",
      "\n",
      "We can write all singular vectors and singular values in matrix format, which is the singular value decomposition (SVD):\n",
      "\n",
      "$$\n",
      "U^T M V = \\Sigma \\iff M = U \\Sigma V^T\n",
      "$$\n",
      "\n",
      "| | $M$ | $U$ | $\\Sigma$ | $V$ |\n",
      "| :---: | :---: | :----: | :----: | :---: |\n",
      "| Name | Original Matrix | Left singular vector | Singular value | Right singular vector |\n",
      "| Type |  Real | Orthogonal, real | Diagonal, positive | Orthogonal, real |\n",
      "| Size | $m \\times n$ | $m\\times m$ | $m\\times n$ | $n \\times n$ |\n",
      "\n",
      "* For matrix $M$, there can only be $\\min(m, n)$ singular values at most\n",
      "* The left/right singular vectors form a basis for the vector space of $\\bs {u}$ and $\\bs v$ respectively"
     ]
    },
    {
     "cell_type": "markdown",
     "metadata": {
      "slideshow": {
       "slide_type": "subslide"
      }
     },
     "source": [
      "## Graphical representation of SVD\n",
      "\n",
      "Illustration from wikipedia:\n",
      "\n",
      "<center> <img src=\"img/svd.png\" width=500 height=500></center>"
     ]
    },
    {
     "cell_type": "markdown",
     "metadata": {
      "slideshow": {
       "slide_type": "subslide"
      }
     },
     "source": [
      "## Link between SVD and EVD\n",
      "\n",
      "\n",
      "$$\n",
      "M = U \\Sigma V^T\n",
      "$$\n",
      "\n",
      "SVD and eigenvalue decomposition (EVD) are closely related to each other:\n",
      "\n",
      "* SVD reduces to EVD if $M$ is SPD matrix\n",
      "* $MM^T = U \\Sigma V^T V \\Sigma^T U^T = U \\Sigma \\Sigma^T U^T$:\n",
      "  * the column vectors of $U$ are the eigen vectors of $MM^T$\n",
      "* $M^TM = V\\Sigma^TU^TU\\Sigma V^T = V \\Sigma\\Sigma^T V^T$: \n",
      "  * the column vectors of $V$ are the eigen vectors of $M^TM$\n",
      "* The singular values are the positive square roots of eigen values of $MM^T$ or $M^TM$"
     ]
    },
    {
     "cell_type": "markdown",
     "metadata": {
      "slideshow": {
       "slide_type": "subslide"
      }
     },
     "source": [
      "## SVD of pseudo inverse\n",
      "\n",
      "Given the SVD decomposition $X = U\\Sigma V^T$, the SVD of $X$'s pseudo inverse is:\n",
      "\n",
      "$$X^+ = (X^TX)^{-1}X^T = V \\Sigma^+ U^T$$\n",
      "\n",
      "where $\\Sigma^+$ is the pseudo inverse of $\\Sigma$, whose diagonal elements are the reciprocals of those in $\\Sigma$.\n",
      "\n",
      "It is easy to prove by direct computation, the last equation is obviously true, and every step is reversible:\n",
      "\n",
      "$$\\begin{array}&(X^TX)^{-1}X^T &= V\\Sigma^+ U^T \\\\\n",
      "(V \\Sigma^T \\Sigma V^T)^{-1} V\\Sigma^TU^T &= V\\Sigma^+ U^T \\\\\n",
      "(V \\Sigma^T \\Sigma V^T)^{-1} V\\Sigma^T\\Sigma &= V \\Sigma^+\\Sigma \\\\\n",
      "(V \\Sigma^T \\Sigma V^T)^{-1} V\\Sigma^T\\Sigma &= V \\\\\n",
      "(V \\Sigma^T \\Sigma V^T)^{-1} (V\\Sigma^T\\Sigma V^T) &= I \n",
      "\\end{array}$$\n",
      "\n",
      "SVD is another way to solve the least square problem."
     ]
    },
    {
     "cell_type": "markdown",
     "metadata": {
      "slideshow": {
       "slide_type": "subslide"
      }
     },
     "source": [
      "## L2 norm and condition number\n",
      "\n",
      "Consider a real matrix $A$, its L2 norm is defined as the maximum of $\\frac{\\Vert A \\bs x \\Vert_2}{\\Vert \\bs x \\Vert_2}$:\n",
      "\n",
      "$$\n",
      "\\Vert A \\Vert_2^2 = \\max_{\\bs x} \\frac{\\Vert A \\bs x \\Vert_2^2}{\\Vert \\bs x \\Vert_2^2} \n",
      "= \\max_{\\bs x} \\frac{\\bs x^T A^T A \\bs x}{\\bs x^T \\bs x} \n",
      "= \\max_{\\hat{\\bs x}} \\hat{\\bs x}^T A^T A \\hat{\\bs x} = \\sigma_1(A)^2$$\n",
      "\n",
      "where $\\hat{\\bs x} = \\frac{\\bs x}{\\Vert \\bs x \\Vert_2}$ is a unit vector, and $\\sigma_1(A)$ is the largest singular value of $A$.\n",
      "\n",
      "For a generic non-square matrix $A$:\n",
      "* the L-2 norm of a matrix is its largest singular value: $\\Vert A \\Vert_2 = \\sigma_1(A)$\n",
      "* the L-2 norm of the pseudo inverse $A^+$: $\\Vert A^+ \\Vert_2 = \\frac{1}{\\sigma_n(A)}$\n",
      "  * $\\sigma_n(A)$ is the smallest singular value of $A$.\n",
      "* the L-2 condition number of a matrix $A$ is therefore: $k(A) = \\Vert A \\Vert_2 \\Vert A^+ \\Vert_2 = \\frac{\\sigma_1(A)}{\\sigma_n(A)}$"
     ]
    },
    {
     "cell_type": "markdown",
     "metadata": {
      "slideshow": {
       "slide_type": "subslide"
      }
     },
     "source": [
      "## SVD and condition number\n",
      "\n",
      "SVD offers clear intuitions in understanding the L-2 condition number of a Matrix $A$.\n",
      "\n",
      "For a linear system $\\bs y = A \\bs x$, consider a perturbation $\\delta \\bs x$ to the input $\\bs x$:\n",
      "\n",
      "* if $\\delta \\bs x$ is stretched by a larger factor than $\\bs x$, then the reltative error grows.\n",
      "* the worst case occurs when $\\bs x$ is stretched by $\\sigma_n(A)$, while $\\delta \\bs x$ is stretched by $\\sigma_1(A)$\n",
      "  * the relative error grows by a factor of $\\frac{\\sigma_1(A)}{\\sigma_n(A)}$.\n",
      "* Orthogonal matrix represents a pure rotation\n",
      "  * all singular values are 1, no stretches, thus the relative error does not grow"
     ]
    },
    {
     "cell_type": "markdown",
     "metadata": {
      "slideshow": {
       "slide_type": "subslide"
      }
     },
     "source": [
      "## Spot the trouble\n",
      "\n",
      "When working with near singular matrix,  SVD can identify ill-conditioned area:\n",
      "\n",
      "* real world covariance and correlation matrix are often near singular\n",
      "* numerical stability arises when inputs are very close to signular vectors with small singular values \n",
      "  * e.g, when return forecast is in the same direction as the last singular vector ..."
     ]
    },
    {
     "cell_type": "markdown",
     "metadata": {
      "slideshow": {
       "slide_type": "subslide"
      }
     },
     "source": [
      "## Condition number for EVD\n",
      "\n",
      "What is the change in $\\lambda_i$ if we perturb the symmetric matrix $A$? \n",
      "\n",
      "$$ A \\bs v_i = \\lambda_i \\bs v_i$$\n",
      "\n",
      "Apply the perturbation analysis: $\\delta A = \\dot{A} \\epsilon, \\delta \\lambda_i = \\dot{\\lambda_i} \\epsilon, \n",
      "\\delta \\bs v_i = \\dot{\\bs v_i} \\epsilon$, the first order terms of $\\epsilon$:\n",
      "\n",
      "$$\\begin{array} \n",
      "\\\\ (A + \\dot{A}\\epsilon )(\\bs v_i + \\dot{\\bs v_i}\\epsilon) &= (\\lambda_i + \\dot{\\lambda_i}\\epsilon) (\\bs v_i + \\dot{\\bs v_i} \\epsilon) \\\\\n",
      "\\dot{A}\\bs v_i + A \\dot{\\bs v_i} &= \\lambda_i \\dot{\\bs v_i} + \\dot{\\lambda_i}\\bs v_i \\\\\n",
      "\\bs v_i^T\\dot{A}\\bs v_i + \\bs v_i^T A \\dot{\\bs v_i} &= \\bs v_i^T \\lambda_i \\dot{\\bs v_i} + \\bs v_i^T \\dot{\\lambda_i}\\bs v_i \\\\\n",
      "\\bs v_i^T\\dot{A}\\bs v_i &= \\dot{\\lambda_i}\n",
      "\\end{array}$$"
     ]
    },
    {
     "cell_type": "markdown",
     "metadata": {
      "slideshow": {
       "slide_type": "subslide"
      }
     },
     "source": [
      "Therefore:\n",
      "$$\\begin{array}\n",
      "\\\\ \\frac{ | \\delta \\lambda_i |}{| \\lambda_i |} &= \\frac{\\Vert \\bs v_i^T\\delta A \\bs v_i\\Vert_2}{|\\lambda_i|}\n",
      "\\le \\frac{\\Vert \\delta A \\Vert_2}{|\\lambda_i|} = \\frac{\\Vert A\\Vert_2}{|\\lambda_i|} \\frac{\\Vert \\delta A \\Vert_2}{\\Vert A \\Vert_2}\n",
      " = \\left\\vert \\frac{\\lambda_1}{\\lambda_i}\\right\\vert \\frac{\\Vert \\delta A \\Vert_2}{\\Vert A \\Vert_2} \n",
      " \\end{array}$$\n",
      " \n",
      "* The eigenvalue's conditional number for a symmetric matrix $A$ is therefore the ratio from the largest eigen value: $k(A) = \\left\\vert \\frac{\\lambda_1}{\\lambda_i} \\right\\vert$.\n",
      "* The smaller eigenvalues are less accurate, we should ignore them."
     ]
    },
    {
     "cell_type": "markdown",
     "metadata": {
      "slideshow": {
       "slide_type": "subslide"
      }
     },
     "source": [
      "## Decomposition summary\n",
      " \n",
      "For real matrix $A$:\n",
      " \n",
      "| Decomposition | Applicability | Formula | Results | Applications |\n",
      "| :---: | :---: | :---: | :---: | \n",
      "| LU | square, full rank | $A = LU$ | lower, upper triangluar | matrix inversion |\n",
      "| Cholesky | symmetric positive definite | $A = LL^T$ | lower triangular | simulate correlated factors |\n",
      "| QR | any | $A = Q R$ | orthogonal, upper triangular | solve eigen values, least square|\n",
      "| EVD | symmetric | $A = R\\Lambda R^T$ | orthogonal, real diagonal | PCA |\n",
      "| SVD | any | $A = U\\Sigma V^T$ | orthogonal, positive diagonal, orthogonal | error analysis |\n"
     ]
    },
    {
     "cell_type": "markdown",
     "metadata": {
      "slideshow": {
       "slide_type": "slide"
      }
     },
     "source": [
      "# Assignment\n",
      "\n",
      "Requried reading:\n",
      "\n",
      "* Bindel and Goodman: Chapter 4\n",
      "\n",
      "Recommended reading:\n",
      "\n",
      "* Andersen and Piterbarg: 4.1\n",
      "\n",
      "Homework: \n",
      "\n",
      "* [Homework set 3](http://yadongli.github.io/nyumath2048/)"
     ]
    },
    {
     "cell_type": "code",
     "collapsed": false,
     "input": [],
     "language": "python",
     "metadata": {},
     "outputs": [],
     "prompt_number": 32
    }
   ],
   "metadata": {}
  }
 ]
}