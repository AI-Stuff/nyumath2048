{
 "metadata": {
  "name": "",
  "signature": "sha256:6c3c1b2ed455d27e4a7e8088f2cfe55d5122f6df1c92e36f1a4c2ab3d4056282"
 },
 "nbformat": 3,
 "nbformat_minor": 0,
 "worksheets": [
  {
   "cells": [
    {
     "cell_type": "code",
     "collapsed": false,
     "input": [
      "%pylab inline\n",
      "\n",
      "import sympy as sp\n",
      "import fmt"
     ],
     "language": "python",
     "metadata": {},
     "outputs": [
      {
       "output_type": "stream",
       "stream": "stdout",
       "text": [
        "Populating the interactive namespace from numpy and matplotlib\n"
       ]
      }
     ],
     "prompt_number": 2
    },
    {
     "cell_type": "markdown",
     "metadata": {
      "slideshow": {
       "slide_type": "slide"
      }
     },
     "source": [
      "# Homework Set 1"
     ]
    },
    {
     "cell_type": "markdown",
     "metadata": {},
     "source": [
      "## Problem 1:\n",
      "\n",
      "For the exponetial function $f(x) = e^x$:\n",
      "\n",
      "1. derive the condition number\n",
      "2. comment on whether this function is numerically stable, and/or the range of stability if it is not unconditionally stable\n",
      "3. improve the naive numerical algorithm discussed in the lecture, so that the $e^{-5}$ can be computed accurately; compare the relative error of the naive and the improved algorithm.  "
     ]
    },
    {
     "cell_type": "markdown",
     "metadata": {},
     "source": [
      "## Problem 2:\n",
      "\n",
      "For the first term of the conditional variance expression of the CIR process discused in the class:\n",
      "\n",
      "$$f(\\kappa) = \\frac{r_0\\sigma^2}{\\kappa}(e^{-\\kappa t} - e^{-2\\kappa t})$$\n",
      "\n",
      "1. compute its condition number, assuming $\\kappa$ is the only variable, comment on whether the computation should be stable around $\\kappa = 0$\n",
      "2. implement a function to compute the above expression, which is numerically stable around $\\kappa = 0$. \n",
      "\n",
      "Hint: to get the full credit, you need to explain your choice of any thresholds in #2."
     ]
    },
    {
     "cell_type": "markdown",
     "metadata": {},
     "source": [
      "## Problem 3:\n",
      "\n",
      "Implement a matrix product function using hand coded loops in python, \n",
      "\n",
      "1. compare the speed of your implementation to the numpy matrix product version, plot the difference in computational time with the size of the matrix.\n",
      "2. how does the computation time increase with the size of matrix? \n",
      "3. [open question] can you guess at what matrix size, do the cache misses start affecting the computation speed? explain your conclusion\n",
      "\n",
      "Hint: \n",
      "\n",
      "* %timeit is a useful timing tool in IPython, or you can use time.clock() function\n",
      "* numpy has two ways of representing matrix, one is array of arrays, another is matrix type. It is better to only use one representation to avoid confusions. For array types, the matrix production is ```a.dot(b)```, for matrix type, the matrix production is ```a*b```. We recommend you to stick with array type to avoid any potential confusions. The ```a*b``` on array type is element wise multiplication. A common mistake is use ```a*b``` for matrix production on array type. Please see the following code section as an example.\n"
     ]
    },
    {
     "cell_type": "code",
     "collapsed": false,
     "input": [
      "a = np.array([[1, 2, 3], [4, 5, 6], [7, 8, 9]])\n",
      "b = a + 1 # elment wise add\n",
      "print \"a=\\n\", a \n",
      "print \"\\nb=a+1\\n\", b\n",
      "c = a.dot(b) # matrix product\n",
      "d = a*b #elment wise multiplication\n",
      "\n",
      "print \"\\nc=a.dot(b)\\n\", c\n",
      "print \"\\nd=a*b\\n\", d"
     ],
     "language": "python",
     "metadata": {},
     "outputs": [
      {
       "output_type": "stream",
       "stream": "stdout",
       "text": [
        "a=\n",
        "[[1 2 3]\n",
        " [4 5 6]\n",
        " [7 8 9]]\n",
        "\n",
        "b=a+1\n",
        "[[ 2  3  4]\n",
        " [ 5  6  7]\n",
        " [ 8  9 10]]\n",
        "\n",
        "c=a.dot(b)\n",
        "[[ 36  42  48]\n",
        " [ 81  96 111]\n",
        " [126 150 174]]\n",
        "\n",
        "d=a*b\n",
        "[[ 2  6 12]\n",
        " [20 30 42]\n",
        " [56 72 90]]\n"
       ]
      }
     ],
     "prompt_number": 3
    }
   ],
   "metadata": {}
  }
 ]
}