{
 "metadata": {
  "name": "",
  "signature": "sha256:c246dd2fd6a33c1c0a984ff345138730bf486ff4ca25a5e30f5442a27707bf87"
 },
 "nbformat": 3,
 "nbformat_minor": 0,
 "worksheets": [
  {
   "cells": [
    {
     "cell_type": "code",
     "collapsed": false,
     "input": [
      "%pylab inline\n",
      "\n",
      "import sympy as sp\n",
      "import fmt"
     ],
     "language": "python",
     "metadata": {},
     "outputs": [
      {
       "output_type": "stream",
       "stream": "stdout",
       "text": [
        "Populating the interactive namespace from numpy and matplotlib\n"
       ]
      }
     ],
     "prompt_number": 1
    },
    {
     "cell_type": "markdown",
     "metadata": {
      "slideshow": {
       "slide_type": "slide"
      }
     },
     "source": [
      "# Homework Set 1"
     ]
    },
    {
     "cell_type": "markdown",
     "metadata": {},
     "source": [
      "## Problem 1:\n",
      "\n",
      "For the exponetial function $f(x) = e^x$:\n",
      "\n",
      "1. derive the condition number\n",
      "2. comment on whether this function is numerically stable, and/or the range of stability if it is not unconditionally stable\n",
      "3. improve the naive numerical algorithm discussed in the lecture, so that the $e^{-5}$ can be computed accurately; compare the relative error of the naive and the improved algorithm.  "
     ]
    },
    {
     "cell_type": "markdown",
     "metadata": {},
     "source": [
      "## Problem 2:\n",
      "\n",
      "For the first term of the conditional variance expression of the CIR process discused in the class:\n",
      "\n",
      "$$f(\\kappa) = \\frac{r_0\\sigma^2}{\\kappa}(e^{-\\kappa t} - e^{-2\\kappa t})$$\n",
      "\n",
      "1. compute its condition number, assuming $\\kappa$ is the only variable, comment on whether the computation should is stable around $\\kappa = 0$\n",
      "2. implement a function to compute the above expression, which is numerically stable around $\\kappa = 0$. \n",
      "\n",
      "Hint: to get the full credit, you need to explain your choice of any thresholds in #2."
     ]
    },
    {
     "cell_type": "markdown",
     "metadata": {},
     "source": [
      "## Problem 3:\n",
      "\n",
      "Implement a matrix product function using hand coded loops in python, \n",
      "\n",
      "1. compare the speed of your implementation to the numpy matrix product version, plot the difference in computational time with the size of the matrix.\n",
      "2. how does the computation time increase with the size of matrix? \n",
      "3. [open question] can you guess at what matrix size, do the cache misses start affecting the computation speed? explain your conclusion\n",
      "\n",
      "Hint: %timeit is a useful timing tool in IPython"
     ]
    }
   ],
   "metadata": {}
  }
 ]
}