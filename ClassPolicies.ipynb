{
 "cells": [
  {
   "cell_type": "markdown",
   "metadata": {
    "slideshow": {
     "slide_type": "slide"
    }
   },
   "source": [
    "# Class Policies for NYU MATH-GA2048\n",
    "\n",
    "* Homework\n",
    "* Cheating policy\n",
    "* Project"
   ]
  },
  {
   "cell_type": "markdown",
   "metadata": {
    "slideshow": {
     "slide_type": "slide"
    }
   },
   "source": [
    "## Homework\n",
    "\n",
    "Homework is assigned weekly at the end of the lecture\n",
    "* Due before the start of the next lecture\n",
    "* You should complete your homework on your own, homework is not a team exercise\n",
    "* In general, late homework won't be accepted. Exceptions will only be made if certain event affects multiple students (e.g., a super-day interview, or a firm event).\n",
    "* One lowest scored homework won't count towards your final homework score\n",
    "\n",
    "Homework submission requirement:\n",
    "* All programming problems have to be done in Python and submitted in IPython notebook\n",
    "  * no other format will be accepted\n",
    "  * it is recommended to build up your own python library, but the answers and related figures should all be in IPython notebook format. \n",
    "  * you should submit the notebook .ipynb and all dependent python codes\n",
    "* Derivation or text book problems should also be answered in IPython notebook using latex\n",
    "* paper submission will **not** be accepted\n",
    "  \n",
    "Homework grading critera:\n",
    "* correctness and completeness\n",
    "* conciseness, do not waste time by writing verbosely\n",
    "* cleanness and robustness of your code"
   ]
  },
  {
   "cell_type": "markdown",
   "metadata": {
    "slideshow": {
     "slide_type": "slide"
    }
   },
   "source": [
    "## Cheating\n",
    "\n",
    "Cheating will not be tolerated.\n",
    "\n",
    "* It is okay to discuss general theories and technical issues with your classmate\n",
    "* It is not okay to discuss specific problems and solutions of the homework with others\n",
    "* Copying other people's homework solutions will not be tolerated\n",
    "  * both parties will be punished(we can't and don't want to distinguish who copied whom)\n",
    "* Copying from previous' year's homework solution is also considered cheating. \n",
    " \n",
    "We will actively police cheating:\n",
    "* First time cheating in homework: receive 0 for the homework, which will count towards your final score\n",
    "* Second time cheating in homework: fail the class"
   ]
  }
 ],
 "metadata": {
  "celltoolbar": "Slideshow",
  "kernelspec": {
   "display_name": "Python 2",
   "language": "python",
   "name": "python2"
  },
  "language_info": {
   "codemirror_mode": {
    "name": "ipython",
    "version": 2
   },
   "file_extension": ".py",
   "mimetype": "text/x-python",
   "name": "python",
   "nbconvert_exporter": "python",
   "pygments_lexer": "ipython2",
   "version": "2.7.6"
  }
 },
 "nbformat": 4,
 "nbformat_minor": 0
}
