{
 "cells": [
  {
   "cell_type": "markdown",
   "metadata": {
    "slideshow": {
     "slide_type": "slide"
    }
   },
   "source": [
    "# Class Policies for NYU MATH-GA2048"
   ]
  },
  {
   "cell_type": "markdown",
   "metadata": {
    "slideshow": {
     "slide_type": "slide"
    }
   },
   "source": [
    "## Homework\n",
    "\n",
    "Homework is assigned weekly at the end of the lecture\n",
    "* Homework can be completed by groups of two, you can form your own groups. However, you are strongly encouraged to complete homework on your own without a partner.\n",
    "* Homework should be treated as open book exams, you are required to complete your homework independently without discussing anyone out of your group, or receiving or giving any help from/to anyone out of your group. \n",
    "* In general, late homework won't be accepted. Exceptions will only be made if certain event affects multiple students (e.g., a super-day interview, or a firm event).\n",
    "* One lowest scored homework won't count towards your final homework score\n",
    "\n",
    "Homework submission requirement:\n",
    "* All programming problems have to be done in Python and submitted in IPython notebook\n",
    "  * no other format will be accepted\n",
    "  * it is recommended to build up your own python library, but the answers and related figures should all be in IPython notebook format. \n",
    "  * you should submit the notebook .ipynb and all dependent python codes\n",
    "* Derivation or text book problems should also be answered in IPython notebook using latex\n",
    "* paper submission will **not** be accepted\n",
    "  \n",
    "Homework grading critera:\n",
    "* correctness and completeness\n",
    "* conciseness, do not waste time by writing verbosely\n",
    "* cleanness and robustness of your code"
   ]
  },
  {
   "cell_type": "markdown",
   "metadata": {
    "slideshow": {
     "slide_type": "slide"
    }
   },
   "source": [
    "## Cheating\n",
    "\n",
    "Cheating will not be tolerated, any incidents of cheating will be severely punished and reported to the leadership of the Math Finance program. The minimum punishment is a full letter grade reduction in your final grade of the class, and we reserve the right to impose more severe punishment. \n",
    "\n",
    "* Discuss homework probems with anyone out of your group is a form of cheating. \n",
    "  * If you have any questions on the homework problem, post your question on the class forum instead of discussing with other students.\n",
    "* Using other people's code, solutions or ideas on your own homework is cheating. \n",
    "* All parties involved in cheating will be punished the same way. eg., disclosing and letting others to use your homework solution or ideas will be punished.\n",
    "* All parties in the same group are punished the same way, if one of them is caught cheating.\n",
    "* Copying or using previous' year's homework solution is a serious form of cheating.\n",
    "* Disclosing homework solutions of either your own or those from the professor is cheating.\n",
    "* Memorizing and disclosing final exam questions to others is cheating."
   ]
  }
 ],
 "metadata": {
  "celltoolbar": "Slideshow",
  "kernelspec": {
   "display_name": "Python 2",
   "language": "python",
   "name": "python2"
  },
  "language_info": {
   "codemirror_mode": {
    "name": "ipython",
    "version": 2
   },
   "file_extension": ".py",
   "mimetype": "text/x-python",
   "name": "python",
   "nbconvert_exporter": "python",
   "pygments_lexer": "ipython2",
   "version": "2.7.15rc1"
  }
 },
 "nbformat": 4,
 "nbformat_minor": 1
}
