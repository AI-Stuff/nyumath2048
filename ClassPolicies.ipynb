{
 "metadata": {
  "celltoolbar": "Slideshow",
  "name": "",
  "signature": "sha256:9401c8dda979702277613b841d9492fa6004655f71a21401c5ad2ad229c5f32e"
 },
 "nbformat": 3,
 "nbformat_minor": 0,
 "worksheets": [
  {
   "cells": [
    {
     "cell_type": "markdown",
     "metadata": {
      "slideshow": {
       "slide_type": "slide"
      }
     },
     "source": [
      "# Class Policies for NYU MATH-GA2048\n",
      "\n",
      "* Homework\n",
      "* Cheating policy\n",
      "* Project"
     ]
    },
    {
     "cell_type": "markdown",
     "metadata": {
      "slideshow": {
       "slide_type": "slide"
      }
     },
     "source": [
      "## Homework\n",
      "\n",
      "Homework is assigned weekly at the end of the lecture\n",
      "* Due before the start of the next lecture\n",
      "* You should complete your homework on your own, homework is not a team exercise\n",
      "* Late homework won't be accepted, (no excuses)\n",
      "* One lowest scored homework won't count towards your final homework score\n",
      "\n",
      "Homework submission requirement:\n",
      "* All programming problems have to be done in Python and submitted in IPython notebook\n",
      "  * no other format will be accepted\n",
      "  * it is recommended to build up your own python library, but the answers and related figures should all be in IPython notebook format.\n",
      "  * you should submit the notebook .ipynb and all related python codes, .py files\n",
      "* We strongly encourage you to also complete the textbook problems in IPython notebook too\n",
      "  * but PDF format is also acceptible\n",
      "  * paper submission will **not** be accepted\n",
      "  \n",
      "Homework grading critera:\n",
      "* correctness and completeness\n",
      "* conciseness, do not waste time by writing verbosely\n",
      "* cleanness and robustness of your code"
     ]
    },
    {
     "cell_type": "markdown",
     "metadata": {
      "slideshow": {
       "slide_type": "slide"
      }
     },
     "source": [
      "## Cheating Policy\n",
      "\n",
      "Cheating will not be tolerated.\n",
      "\n",
      "* It is okay to discuss general theories and technical issues\n",
      "* It is not okay to discuss specific problems and solutions of the homework with others\n",
      "* Copying other people's homework solutions will not be tolerated\n",
      "  * both parties will be punished(we can't and don't want to distinguish who copied whom)\n",
      " \n",
      "We will actively police cheating:\n",
      "* First time cheating in homework: receive 0 for the homework, which will count towards your final score\n",
      "* Second time cheating in homework: fail the class"
     ]
    },
    {
     "cell_type": "markdown",
     "metadata": {
      "slideshow": {
       "slide_type": "slide"
      }
     },
     "source": [
      "## Project\n",
      "\n",
      "To be completed in groups of four.\n",
      "* You form the groups on your own\n",
      "* The last couple groups may have 3 or 5 people, if the class cannot be evenly divided by 4\n",
      "* The project will be distributed in the middle of the semester\n",
      "\n",
      "Project grades:\n",
      "* Each team will take 10 minutes to present their project during the last lecture\n",
      "* The project will be graded by tecnical merits **and** presentation skills and clarity, this is the base grade \n",
      "* All team memebers receive the same base grade, \n",
      "* A bonus credit of +40% of your base grade will be given to the team conditioned on that:\n",
      "  1. all four team members unanimously agree on every individuals' contributions to this project\n",
      "  2. they acknowledge that contribution in the final presentation. \n",
      "* the bonus credit will be ditributed according to the unanimous percentage:\n",
      "  * eg, if you received a score of 50 for your project, and you agreed that the four members' contributions are [50%, 30%, 10%, 10%], then the bonus credits will 20, and team members receives [10, 6, 2, 2] bonus credit, and the final score will be [60, 56, 52, 52] for the four members. \n",
      "  * if the team is made up with more or less people, it only affects the distribution but not the team's total bonus\n",
      "* if team members cannot unanimously agree on the contribution percentages, then no one receives any bonus credit.\n",
      "* this rule is designed to encourage participation, and reward those who do more work in the project\n",
      "  * it is suggested to divide the project into smaller pieces and agree on the contribution of each parts, then if a team member failed to deliver his/her part, then he/she has to relinquish the contribution to whoever picks up the work."
     ]
    }
   ],
   "metadata": {}
  }
 ]
}