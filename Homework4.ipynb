{
 "metadata": {
  "name": "",
  "signature": "sha256:3cae151b947e9bdcbbb928c42b4c9f5fd29cfd863524e73cd1dc7b6248226e6c"
 },
 "nbformat": 3,
 "nbformat_minor": 0,
 "worksheets": [
  {
   "cells": [
    {
     "cell_type": "markdown",
     "metadata": {},
     "source": [
      "# Homework Set 4"
     ]
    },
    {
     "cell_type": "markdown",
     "metadata": {},
     "source": [
      "The problem 1 can be challenging in programming, so we suggest you to work on Problem 2 first, using the tension spline interpolation as part of the lin package in the class library.\n",
      "\n",
      "## Problem 1:\n",
      "\n",
      "use the following data set:"
     ]
    },
    {
     "cell_type": "code",
     "collapsed": false,
     "input": [
      "%pylab inline \n",
      "import pandas as pd"
     ],
     "language": "python",
     "metadata": {},
     "outputs": [
      {
       "output_type": "stream",
       "stream": "stdout",
       "text": [
        "Populating the interactive namespace from numpy and matplotlib\n"
       ]
      }
     ],
     "prompt_number": 2
    },
    {
     "cell_type": "code",
     "collapsed": false,
     "input": [
      "import fmt\n",
      "\n",
      "x = np.array([.01, .03, .07, .1, .6])\n",
      "y = np.array([.0095, .023, .035, .040, .042])\n",
      "dx = .01\n",
      "xd = arange(.01, .65, dx) # dense grid to be valued\n",
      "\n",
      "df = pd.DataFrame(np.array([x, y]), index=['x', 'y'])\n",
      "fmt.displayDF(df)"
     ],
     "language": "python",
     "metadata": {},
     "outputs": [
      {
       "html": [
        "<center><font size=2><table border=\"1\" class=\"dataframe\">\n",
        "  <thead>\n",
        "    <tr style=\"text-align: right;\">\n",
        "      <th></th>\n",
        "      <th>0</th>\n",
        "      <th>1</th>\n",
        "      <th>2</th>\n",
        "      <th>3</th>\n",
        "      <th>4</th>\n",
        "    </tr>\n",
        "  </thead>\n",
        "  <tbody>\n",
        "    <tr>\n",
        "      <th>x</th>\n",
        "      <td>0.0100</td>\n",
        "      <td>0.0300</td>\n",
        "      <td>0.0700</td>\n",
        "      <td>0.1000</td>\n",
        "      <td>0.6000</td>\n",
        "    </tr>\n",
        "    <tr>\n",
        "      <th>y</th>\n",
        "      <td>0.0095</td>\n",
        "      <td>0.0230</td>\n",
        "      <td>0.0350</td>\n",
        "      <td>0.0400</td>\n",
        "      <td>0.0420</td>\n",
        "    </tr>\n",
        "  </tbody>\n",
        "</table></font></center>"
       ],
       "metadata": {},
       "output_type": "display_data",
       "text": [
        "<IPython.core.display.HTML at 0x8fb7748>"
       ]
      }
     ],
     "prompt_number": 3
    },
    {
     "cell_type": "markdown",
     "metadata": {},
     "source": [
      "Implement the rational tension spline using the fast triagular thomas algorithm:\n",
      "\n",
      "1. do your own reading and research on <a href=http://en.wikipedia.org/wiki/Tridiagonal_matrix_algorithm>Thomas algorithm</a> for solving the tri-diagonal matrix, and implement and test it in python.\n",
      "2. implement the tension spline interpolation method using your own tridiagonal solver, test your tension spline interpolation by reproducing the figures in the lecture slides 2-14, titled \"Tension spline examples\", using the data given above.\n",
      "3. (Optional) write a python function to compute the length of curve $y=y(x)$ from $x=a$ to $x=b$ for the tension spline. Intuitively, the stronger the tension, the shorter the curve length. Use your function to verify if your intuition is correct. You can use the simple rectangular rule to compute the numerical integral, or use existing python functions like ```scipy.integrate.simps```"
     ]
    },
    {
     "cell_type": "markdown",
     "metadata": {},
     "source": [
      "## Problem 2\n",
      "\n",
      "Given the following benchmark swap quotes for USD, suppose all swap coupons are paid semi-annually:"
     ]
    },
    {
     "cell_type": "code",
     "collapsed": false,
     "input": [
      "mats = np.array([1, 2, 3, 5, 7, 10, 12, 15, 20, 25])*1.\n",
      "par = np.array([.042, .043, .047, .054, .057, .06, .061, .059, .056, .0555])\n",
      "\n",
      "df_swap = pd.DataFrame(np.array([par]).T*100, columns=[\"Par Spread (%)\"], \n",
      "                       index=map(lambda m: '%dY' % m, mats))\n",
      "fmt.displayDF(df_swap.T, 2, 2)"
     ],
     "language": "python",
     "metadata": {},
     "outputs": [
      {
       "html": [
        "<center><font size=2><table border=\"1\" class=\"dataframe\">\n",
        "  <thead>\n",
        "    <tr style=\"text-align: right;\">\n",
        "      <th></th>\n",
        "      <th>1Y</th>\n",
        "      <th>2Y</th>\n",
        "      <th>3Y</th>\n",
        "      <th>5Y</th>\n",
        "      <th>7Y</th>\n",
        "      <th>10Y</th>\n",
        "      <th>12Y</th>\n",
        "      <th>15Y</th>\n",
        "      <th>20Y</th>\n",
        "      <th>25Y</th>\n",
        "    </tr>\n",
        "  </thead>\n",
        "  <tbody>\n",
        "    <tr>\n",
        "      <th>Par Spread (%)</th>\n",
        "      <td>4.2</td>\n",
        "      <td>4.3</td>\n",
        "      <td>4.7</td>\n",
        "      <td>5.4</td>\n",
        "      <td>5.7</td>\n",
        "      <td>6.0</td>\n",
        "      <td>6.1</td>\n",
        "      <td>5.9</td>\n",
        "      <td>5.6</td>\n",
        "      <td>5.5</td>\n",
        "    </tr>\n",
        "  </tbody>\n",
        "</table></font></center>"
       ],
       "metadata": {},
       "output_type": "display_data",
       "text": [
        "<IPython.core.display.HTML at 0xa1e8908>"
       ]
      }
     ],
     "prompt_number": 7
    },
    {
     "cell_type": "markdown",
     "metadata": {},
     "source": [
      "you can use the class ```Swap``` and the pricing function ```priceSwap``` defined in <a href=https://raw.githubusercontent.com/yadongli/nyumath2048/master/lib/swap.py>swap.py</a>, which prices a receiver swap. Note this is a simplified pricing function that ignores all the details like day count conventions.\n",
      "\n",
      "The following are some sample codes of how to use the swap pricers:"
     ]
    },
    {
     "cell_type": "code",
     "collapsed": false,
     "input": [
      "from swap import Swap, priceSwap\n",
      "import lin\n",
      "\n",
      "# the pricing function if curve(t) is the cumulative yield, ie, -log(b(t))\n",
      "def y2pv(swap, curve) :\n",
      "    discf = lambda ts: np.exp(-curve(ts))\n",
      "    return priceSwap(swap, discf)\n",
      "\n",
      "# create the benchmark instruments\n",
      "bm_swaps = {Swap(m, c, 2) : 0 for m, c in zip (mats, par)}\n",
      "\n",
      "# price a single swap with a straight curve in y(t)\n",
      "flat = lin.RationalTension(lbd = 5.)\n",
      "flat.build(mats, mats*.04) # create a dummy curve\n",
      "\n",
      "pvs = {swap.maturity : y2pv(swap, flat) for swap in bm_swaps.keys()}\n",
      "print \"PV by maturity\"\n",
      "print \"\\n\".join([\"%.2g Y : %.4g\" % (m, v) for m, v in pvs.items()])"
     ],
     "language": "python",
     "metadata": {},
     "outputs": [
      {
       "output_type": "stream",
       "stream": "stdout",
       "text": [
        "PV by maturity\n",
        "1 Y : 0.00155\n",
        "2 Y : 0.004943\n",
        "3 Y : 0.01846\n",
        "5 Y : 0.06101\n",
        "7 Y : 0.1003\n",
        "10 Y : 0.1599\n",
        "12 Y : 0.1943\n",
        "15 Y : 0.2077\n",
        "20 Y : 0.2126\n",
        "25 Y : 0.2362\n"
       ]
      }
     ],
     "prompt_number": 8
    },
    {
     "cell_type": "markdown",
     "metadata": {},
     "source": [
      "1. Explain what is the purpose of the +1e-6 in the first line of the priceSwap function\n",
      "2. Write a generic function that can bootstrap the above IR swap quotes using tension spline. Design your function in a way that you can easily change the variables to be interpolated. If you have difficulties in writing your own, please feel free to reference or use the inst.bootstrap function in the class slides and library. Use the market data above to boostrap the IR curve by interpolating the cumulative yield $y(t) = -\\log(b(t))$ with tension spline, where $b(t)$ is the discount factor (i.e., the price of risk free zero coupon bonds). After bootstraping the curve, re-price the benchmark instruments using the bootstrapped curve, and compute the L-2 norm of the absolute pricing errors. Show how the pricing error of the bootstraped curve depend on the tension parameter $\\lambda$.\n",
      "3. Using the iteration technique to reduce the L-2 norm of the error below 1bps, how many iteration is needed for the error to go below 1bps?\n",
      "4. From the curve built in the previous step, compute both the $y(t)$ and the instantaneous forward rate $f(t) = -\\frac{1}{b(t)}\\frac{d b(t)}{d t} = \\frac{d y(t)}{dt}$, and show how their shapes change with the tension parameter $\\lambda$. In addition, compare the changes in the instantaneous forward rates with 1bps change in the 5Y par swap rate. You can use the deriv() method in the Tension spline class. \n",
      "5. Build the curve by interpolating the zero rate with tension spline instead, i.e, $r(t) = \\frac{y(t)}{t}$, compare how the forward rates shape and perturbations differ from those obtained in step 4, and comment on the pro and cons between interpolating $r(t)$ and $y(t)$.\n",
      "6. Repeat the previous step, but directly interpolating the forward rates $f(t)$, and comment on whether it is suitable in practice.\n",
      "\n",
      "Hint: \n",
      "* write your code in a modular and reusable way; you can re-use the code provided as part of the class lecture, but you get extra credit if you can write your own bootstraping.\n",
      "* be careful with the choice of boundary for the root search, allow negative rates often helps stablizing the bootstraping, even though it does not make economic sense\n",
      "* in the last step, you may have to mix the old and new results to stablize the iteration, (e.g., use mixf=0.5 in the inst.iterboot function, or your own)"
     ]
    }
   ],
   "metadata": {}
  }
 ]
}