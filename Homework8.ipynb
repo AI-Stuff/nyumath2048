{
 "cells": [
  {
   "cell_type": "markdown",
   "metadata": {},
   "source": [
    "# Homework Set 8"
   ]
  },
  {
   "cell_type": "code",
   "execution_count": 1,
   "metadata": {},
   "outputs": [
    {
     "name": "stdout",
     "output_type": "stream",
     "text": [
      "Populating the interactive namespace from numpy and matplotlib\n"
     ]
    }
   ],
   "source": [
    "%pylab inline"
   ]
  },
  {
   "cell_type": "markdown",
   "metadata": {},
   "source": [
    "## Problem 1:\n",
    "\n",
    "Prove the statement:\n",
    "\n",
    "* If $\\mathbf{x}^*$ is a solution to the original optimization problem (**Primal Problem**), then for $\\forall \\mathbf{\\lambda} \\succeq 0$ and any $\\mathbf{\\mu}$,\n",
    "\n",
    "$$\n",
    "\\hat{f}(\\mathbf{\\mu}, \\mathbf{\\lambda}) \\leq f(\\mathbf{x}^*).\n",
    "$$\n",
    "     \n",
    "   "
   ]
  },
  {
   "cell_type": "markdown",
   "metadata": {},
   "source": [
    "## Problem 2\n",
    "\n",
    "Derive the dual problem for the portfolio optimization problem:\n",
    "\n",
    "\n",
    "\\begin{aligned}\n",
    "\\min_{\\mathbf{x}} \\;\\; \\frac{1}{2} \\lambda\\; \\mathbf{x}^T \\Sigma \\mathbf{x} &- \\mu^T \\mathbf{x}\n",
    "\\\\\n",
    "s.t. \\;\\;\\sum_i x_i &= 1\n",
    "\\end{aligned}\n",
    "\n",
    "where $\\lambda$ is the risk-aversion coefficient, $\\mu$ is the expected asset return vector and $\\Sigma$ is the covariance matrix. \n",
    "\n"
   ]
  },
  {
   "cell_type": "markdown",
   "metadata": {},
   "source": [
    "## Problem 3\n",
    "\n",
    "Prove the statement that for convex problems, any local minimum is also a global minimum.\n",
    "\n",
    "Hint: use contradiction, define the circle of the local mimimum region, if there is a lower global minimum, find a point within the local circle that its function value is less than the local minimum value.\n"
   ]
  }
 ],
 "metadata": {
  "kernelspec": {
   "display_name": "Python 3",
   "language": "python",
   "name": "python3"
  },
  "language_info": {
   "codemirror_mode": {
    "name": "ipython",
    "version": 3
   },
   "file_extension": ".py",
   "mimetype": "text/x-python",
   "name": "python",
   "nbconvert_exporter": "python",
   "pygments_lexer": "ipython3",
   "version": "3.6.5"
  }
 },
 "nbformat": 4,
 "nbformat_minor": 1
}
