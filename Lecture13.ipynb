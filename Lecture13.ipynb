{
 "cells": [
  {
   "cell_type": "code",
   "execution_count": 69,
   "metadata": {
    "slideshow": {
     "slide_type": "skip"
    }
   },
   "outputs": [
    {
     "name": "stdout",
     "output_type": "stream",
     "text": [
      "Populating the interactive namespace from numpy and matplotlib\n"
     ]
    }
   ],
   "source": [
    "%pylab inline\n",
    "lecture = 13\n",
    "import warnings\n",
    "warnings.filterwarnings(\"ignore\")"
   ]
  },
  {
   "cell_type": "markdown",
   "metadata": {
    "slideshow": {
     "slide_type": "slide"
    }
   },
   "source": [
    "#Lecture 13: Numerical Methods for Partial Differential Equations\n",
    "\n",
    "## Topics\n",
    "\n",
    "* I. More on the stability of FDM for Black-Scholes\n",
    "* II. Multi spatial variables: ADI method\n",
    "* III. Numerical examples"
   ]
  },
  {
   "cell_type": "markdown",
   "metadata": {
    "slideshow": {
     "slide_type": "slide"
    }
   },
   "source": [
    "# I. More on the stability of FDM for Black-Scholes:\n",
    "\n",
    "* When $r \\neq 0$:\n",
    "\n",
    "\\begin{aligned}\n",
    "e^{a\\triangle t} & = \\left\\{ \\frac{1}{2}\\sigma^2 x_j^2 \\frac{\\triangle t}{\\triangle x^2} - r x_j \\frac{\\triangle t}{2\\triangle x} \\right\\} e^{-il_m\\triangle x}\n",
    "\\\\\n",
    "& + \\left\\{ 1 - \\sigma^2 x_j^2 \\frac{\\triangle t}{\\triangle x^2}  -r \\triangle t \\right\\}\n",
    "\\\\\n",
    "& + \\left\\{ \\frac{1}{2}\\sigma^2 x_j^2 \\frac{\\triangle t}{\\triangle x^2} + r x_j \\frac{\\triangle t}{2\\triangle x} \\right\\} e^{il_m\\triangle x}\n",
    "\\end{aligned}\n",
    "\n",
    "* which is\n",
    "\n",
    "$$\n",
    "e^{a\\triangle t}  = 1 - r\\triangle t + \\sigma^2 x_j^2 \\frac{\\triangle t}{\\triangle x^2} \\cdot 2\\sin^2(l_m\\triangle x/2) + i\\; r x_j \\frac{\\triangle t}{\\triangle x} \\sin(l_m\\triangle x)\n",
    "$$\n",
    "\n"
   ]
  },
  {
   "cell_type": "markdown",
   "metadata": {
    "slideshow": {
     "slide_type": "subslide"
    }
   },
   "source": [
    "* To satisfy $ |e^{a\\triangle t}| < 1 $, we require\n",
    "\n",
    "\\begin{aligned}\n",
    "\\renewcommand{PDut}{\\frac{\\partial u}{\\partial t}}\n",
    "\\renewcommand{PDux}{\\frac{\\partial u}{\\partial x}}\n",
    "\\renewcommand{PDutt}{\\frac{\\partial ^2u}{\\partial t^2}}\n",
    "\\renewcommand{PDuxx}{\\frac{\\partial ^2u}{\\partial x^2}}\n",
    "\\renewcommand{FDut}{\\frac{u_{i,k+1}-u_{i,k}}{\\triangle t}}\n",
    "\\renewcommand{FDutb}{\\frac{u_{i,k}-u_{i,k-1}}{\\triangle t}}\n",
    "\\renewcommand{FDutc}{\\frac{u_{i,k+1}-u_{i,k-1}}{2\\triangle t}}\n",
    "\\renewcommand{FDutt}{\\frac{u_{i,k+1}-2u_{i,k}+u_{i,k-1}}{\\triangle t^2}}\n",
    "\\renewcommand{FDux}{\\frac{u_{i+1,k}-u_{i,k}}{\\triangle x}}\n",
    "\\renewcommand{FDuxb}{\\frac{u_{i,k}-u_{i-1,k}}{\\triangle x}}\n",
    "\\renewcommand{FDuxc}{\\frac{u_{i+1,k}-u_{i-1,k}}{2\\triangle x}}\n",
    "\\renewcommand{FDuxx}{\\frac{u_{i+1,k}-2u_{i,k}+u_{i-1,k}}{\\triangle x^2}}\n",
    "& r >0,\n",
    "\\\\\n",
    "& \\triangle t < \\frac{\\triangle x^2}{ \\sigma^2 x_{max}^2 },\n",
    "\\\\\n",
    "& \\triangle t < \\frac{ \\sigma^2 }{r^2 }.\n",
    "\\end{aligned}\n",
    "\n",
    "\n",
    "* The first condition is trivial (until the FED decrees all rates to be negative!)\n",
    "\n",
    "* The last condition does not have much impact in practice unless the volatility is very small.\n",
    "\n",
    "* So the important one is the second condition, which is what we went through last lecture.\n",
    "\n"
   ]
  },
  {
   "cell_type": "markdown",
   "metadata": {
    "slideshow": {
     "slide_type": "slide"
    }
   },
   "source": [
    "# II. The Case of more than one spatial variables\n",
    "\n",
    "\n",
    "* Most numerical methods, FDM included, suffer the \"dimentionality\" curse, i.e. the size, complexity of the problem grow exponentially with the dimension.\n",
    "\n",
    "\n",
    "* Usually, Monte Carlo method is the only practical option in dimension $\\geq 3$.\n",
    "\n",
    "\n",
    "* But for two dimensional problems, it is worthwhile to explore the FDM further.\n",
    "\n",
    "\n",
    "* Finance examples that you will need many sptial variables: stochastic vol model, convertible bonds, credit risky bonds, variable annuities, etc.\n",
    "\n"
   ]
  },
  {
   "cell_type": "markdown",
   "metadata": {
    "slideshow": {
     "slide_type": "subslide"
    }
   },
   "source": [
    "## Heston Stochastic Volatility Model\n",
    "\n",
    "* ** Heston Stochastic Vol Model  **\n",
    "\n",
    "\n",
    "\\begin{aligned}\n",
    "& dS_t = rS_t dt + \\sqrt{\\nu_t}S_t dW_t^1\n",
    "\\\\\n",
    "& d\\nu_t = \\kappa(\\theta - \\nu_t) + \\xi\\sqrt{\\nu_t}  dW_t^2\n",
    "\\\\\n",
    "& \\hspace{0.2in} \\left< dW_t^1, dW_t^2 \\right> = \\rho dt\n",
    "\\end{aligned}\n",
    "\n",
    "\n",
    "\n"
   ]
  },
  {
   "cell_type": "markdown",
   "metadata": {
    "slideshow": {
     "slide_type": "subslide"
    }
   },
   "source": [
    "### PDE for Heston Stochastic Vol Model:\n",
    "\n",
    "\n",
    "\\begin{aligned}\n",
    "\\renewcommand{PDuS}{\\frac{\\partial u}{\\partial S}}\n",
    "\\renewcommand{PDuSS}{\\frac{\\partial ^2u}{\\partial S^2}}\n",
    "\\PDut &+ rS\\PDuS+ (\\kappa(\\theta - \\nu)-\\lambda \\nu )\\frac{\\partial u}{\\partial \\nu} \n",
    "\\\\\n",
    "& + \\frac{1}{2}\\nu S^2\\PDuSS + \\rho\\xi\\nu S\\frac{\\partial^2 u}{\\partial S\\partial \\nu} + \\frac{1}{2}\\xi^2\\nu\\frac{\\partial^2 u}{\\partial \\nu^2} - ru = 0\n",
    "\\end{aligned}\n",
    "\n",
    "\n"
   ]
  },
  {
   "cell_type": "markdown",
   "metadata": {
    "slideshow": {
     "slide_type": "subslide"
    }
   },
   "source": [
    "## Alternating Direction Implicit Method\n",
    "\n",
    "* Write the Crank-Nicolson method as\n",
    "\n",
    "\\begin{aligned}\n",
    "\\small\n",
    "\\renewcommand{fD}{\\mathfrak{D}}\n",
    "\\FDut  = & \\frac{1}{4}  \\sigma^2 x_i^2 \\left\\{ \\FDuxx + \\frac{u_{i+1,k+1}-2u_{i,k+1}+u_{i-1,k+1}}{\\triangle x^2} \\right\\}\n",
    "\\\\ \n",
    "    & + \\frac{1}{2} r x_i \\left\\{ \\FDuxc + \\frac{u_{i+1,k+1}-u_{i-1,k+1}}{2\\triangle x} \\right\\} \n",
    "\\\\\n",
    "    & - \\frac{1}{2} r \\left\\{  u_{i,k} +  u_{i,k+1} \\right\\} \n",
    "\\\\\n",
    "    = & - \\frac{1}{2} \\mathfrak{D}\\cdot (  u_{i,k} +  u_{i,k+1} )\n",
    "\\end{aligned}\n",
    "\n",
    "\n",
    "where $ \\mathfrak{D}\\cdot  u_{i,k} $ can be considered as the Crank-Nicolson finite difference operator on $u_{i,k}$.\n"
   ]
  },
  {
   "cell_type": "markdown",
   "metadata": {
    "slideshow": {
     "slide_type": "subslide"
    }
   },
   "source": [
    "### Crank-Nicolson in operator format\n",
    "\n",
    "\n",
    "* The Crank-Nicolson scheme can be denoted as\n",
    "\n",
    "$$\n",
    "(1 + \\frac{1}{2}\\triangle t\\fD)\\cdot u_{i,k+1} = (1 - \\frac{1}{2}\\triangle t\\fD)\\cdot u_{i,k}\n",
    "$$\n",
    "\n",
    "* This is also applicable when the spatial variable $x_i$ is a vector.\n",
    "\n",
    "* For the one spatial variable case, the operator $\\fD$ involves three points in one time slice.\n",
    "\n",
    "* For two dimension case (the Heston model above), the operator will involve five points in one time slice.\n",
    "\n",
    "* So instead of solving a tridiagonal system, now the linear system has five nonzero diagonals, which is much more costly  to solve.\n",
    "\n",
    "\n"
   ]
  },
  {
   "cell_type": "markdown",
   "metadata": {
    "slideshow": {
     "slide_type": "subslide"
    }
   },
   "source": [
    "### Operator split \n",
    "\n",
    "\n",
    "* For the general $n$ spatial variables case, the way to ease the linear system solving (still can't get rid of the problem of the number of discretization points exploded!) is **splitting** the operator $\\fD$:\n",
    "\n",
    "\\begin{aligned}\n",
    "(1 + \\frac{1}{2}\\triangle t\\fD^1)\\cdot \\tilde{u}^1_{i,k+1} &= (1-\\frac{1}{2}\\triangle t\\fD^1)\\cdot u_{i,k}\n",
    "\\\\\n",
    "(1 + \\frac{1}{2}\\triangle t\\fD^2)\\cdot \\tilde{u}^2_{i,k+1} &= (1-\\frac{1}{2}\\triangle t\\fD^2)\\cdot \\tilde{u}^1_{i,k}\n",
    "\\\\\n",
    "\\vdots\n",
    "\\\\\n",
    "(1 + \\frac{1}{2}\\triangle t\\fD^n)\\cdot \\tilde{u}^n_{i,k+1} &= (1-\\frac{1}{2}\\triangle t\\fD^n)\\cdot \\tilde{u}^{n-1}_{i,k}\n",
    "\\end{aligned}\n",
    "\n",
    "and set\n",
    "\n",
    "$$\n",
    "u_{i+1,k} = \\tilde{u}^n_{i,k}\n",
    "$$\n",
    "\n"
   ]
  },
  {
   "cell_type": "markdown",
   "metadata": {
    "slideshow": {
     "slide_type": "subslide"
    }
   },
   "source": [
    "\n",
    "\n",
    "* Essentially, this says trying to solve the problem in a multistep aproach: each step is equivalent to the one dimensional Crank-Nicolson method.\n",
    "\n",
    "\n",
    "* This is  merely the basic form, the strategy can be customized to further improve the efficiency (not all steps are implicit) or accuracy (high order)\n"
   ]
  },
  {
   "cell_type": "markdown",
   "metadata": {
    "slideshow": {
     "slide_type": "slide"
    }
   },
   "source": [
    "# III. Numerical Examples \n",
    "\n",
    "* Black Scholes formulae and FDM methods for vanilla European call and up-and-out Barrier Call.\n",
    "\n",
    "\n",
    "\n"
   ]
  },
  {
   "cell_type": "markdown",
   "metadata": {
    "slideshow": {
     "slide_type": "subslide"
    }
   },
   "source": [
    "## Vanilla European Option:\n",
    "* Strike = 100\n",
    "* Risk Free Rate = 5%\n",
    "* Constant Volatility = 35%\n",
    "* Option Maturity = 1 year\n",
    "* Option Type = Call"
   ]
  },
  {
   "cell_type": "code",
   "execution_count": 70,
   "metadata": {
    "slideshow": {
     "slide_type": "subslide"
    }
   },
   "outputs": [
    {
     "data": {
      "image/png": "[encoded data removed]",
      "text/plain": [
       "<Figure size 720x288 with 2 Axes>"
      ]
     },
     "metadata": {},
     "output_type": "display_data"
    }
   ],
   "source": [
    "import numpy as np\n",
    "from scipy.stats import norm\n",
    "import time \n",
    "\n",
    "#Black and Scholes\n",
    "def BlackScholesFormula(type, S0, K, r, sigma, T):\n",
    "    dtmp1 = np.log(S0 / K)\n",
    "    dtmp2 = 1.0/(sigma * np.sqrt(T))\n",
    "    sigsq = 0.5 * sigma * sigma\n",
    "    d1 =  dtmp2 * (dtmp1 + T * (r + sigsq))\n",
    "    d2 =  dtmp2 * (dtmp1 + T * (r - sigsq))\n",
    "    if type==\"C\":\n",
    "        return S0 * norm.cdf(d1) - K * np.exp(-r * T) * norm.cdf(d2)\n",
    "    else:\n",
    "        return K * np.exp(-r * T) * stats.cdf(-d2) - S0 * norm.cdf(-d1)\n",
    "\n",
    "K = 100.0\n",
    "r = 0.05\n",
    "sigma = 0.35\n",
    "T = 1\n",
    "putCall ='C'\n",
    "\n",
    "Smin = 0.0\n",
    "Smax = 200.0\n",
    "ns = 201\n",
    "Ss = np.linspace(Smin, Smax, ns, endpoint=True)\n",
    "Ss = Ss[1:-1]\n",
    "#print Ss\n",
    "\n",
    "t=time.time()\n",
    "px = BlackScholesFormula(putCall, Ss, K, r, sigma, T)\n",
    "elapsed=time.time()-t\n",
    "#print(px)\n",
    "#print(\"Elapsed Time:\", elapsed)\n",
    "#idx = 200-1\n",
    "#print Ss[idx]\n",
    "#print px[idx]\n",
    "\n",
    "payoff = clip(Ss-K, 0.0, 1e600)\n",
    "#print \"payoff = \", payoff\n",
    "\n",
    "figure(figsize=[10, 4])\n",
    "subplot(1, 2, 1)\n",
    "plot(Ss, payoff)\n",
    "xlabel('Stock', fontsize=14);\n",
    "title('Payoff' , fontsize=16);\n",
    "\n",
    "subplot(1, 2, 2)\n",
    "plot(Ss, px)\n",
    "xlabel('Stock', fontsize=14);\n",
    "title('Analytical Solution' , fontsize=16);"
   ]
  },
  {
   "cell_type": "markdown",
   "metadata": {
    "slideshow": {
     "slide_type": "subslide"
    }
   },
   "source": [
    "## Discretization parameters and results for the forward scheme"
   ]
  },
  {
   "cell_type": "code",
   "execution_count": 71,
   "metadata": {
    "slideshow": {
     "slide_type": "fragment"
    }
   },
   "outputs": [
    {
     "name": "stdout",
     "output_type": "stream",
     "text": [
      "Smin =  0.0\n",
      "Smax =  200.0\n",
      "ns = 201\n",
      "dx = 1.0\n",
      "sigma = 0.35\n",
      "by CFL, dt < 0.0002\n",
      "which requires in time domain the number of steps ~=  4900\n"
     ]
    }
   ],
   "source": [
    "from scipy import sparse\n",
    "import scipy.sparse.linalg.dsolve as linsolve\n",
    "\n",
    "class BS_FDM_explicit:\n",
    "  def __init__(self, \n",
    "               r, \n",
    "               sigma, \n",
    "               maturity, \n",
    "               Smin, \n",
    "               Smax, \n",
    "               Fl, \n",
    "               Fu, \n",
    "               payoff, \n",
    "               nt, \n",
    "               ns):\n",
    "    self.r  = r \n",
    "    self.sigma = sigma \n",
    "    self.maturity  = maturity\n",
    "\n",
    "    self.Smin = Smin     \n",
    "    self.Smax = Smax\n",
    "    self.Fl = Fl        \n",
    "    self.Fu = Fu\n",
    "\n",
    "    self.nt  = nt\n",
    "    self.ns  = ns\n",
    "    \n",
    "    self.dt = float(maturity)/nt\n",
    "    self.dx = float(Smax-Smin)/(ns+1)\n",
    "    self.xs = Smin/self.dx\n",
    "\n",
    "    self.u = empty((nt + 1, ns))\n",
    "    self.u[0,:] = payoff\n",
    "\n",
    "    ## Building Coefficient matrix:        \n",
    "    A = sparse.lil_matrix((self.ns, self.ns))\n",
    "\n",
    "    for j in range(0, self.ns):\n",
    "      xd = j + 1 + self.xs\n",
    "      sx = self.sigma * xd\n",
    "      sxsq = sx * sx\n",
    "      \n",
    "      dtmp1 = self.dt * sxsq\n",
    "      dtmp2 = self.dt * self.r\n",
    "      A[j,j] = 1.0 - dtmp1 - dtmp2\n",
    "      dtmp1 = 0.5 * dtmp1\n",
    "      dtmp2 = 0.5 * dtmp2 * xd\n",
    "      if j > 0:\n",
    "        A[j,j-1] = dtmp1 - dtmp2\n",
    "      if j < self.ns - 1:\n",
    "        A[j,j+1] = dtmp1 + dtmp2\n",
    "\n",
    "    self.A = A.tocsr()\n",
    "\n",
    "    ### Building bc_coef:\n",
    "    nxl = 1 + self.xs\n",
    "    sxl = self.sigma * nxl\n",
    "    nxu = self.ns + self.xs\n",
    "    sxu = self.sigma * nxu\n",
    "    \n",
    "    self.blcoef = 0.5 * self.dt * (sxl * sxl - self.r * nxl)\n",
    "    self.bucoef = 0.5 * self.dt * (sxu * sxu + self.r * nxu)\n",
    "    \n",
    "  def solve(self):\n",
    "    for i in range(0, m):\n",
    "        self.u[i+1,:]          = self.A * self.u[i,:]\n",
    "        self.u[i+1,0]         += self.blcoef * self.Fl[i]\n",
    "        self.u[i+1,self.ns-1] += self.bucoef * self.Fu[i]\n",
    "\n",
    "    return self.u\n",
    "\n",
    "dx = (Smax - Smin)/(ns-1)\n",
    "print(\"Smin = \", Smin)\n",
    "print(\"Smax = \", Smax)\n",
    "print(\"ns =\", ns)\n",
    "print(\"dx =\", dx)\n",
    "print(\"sigma =\", sigma)\n",
    "dt_max = dx*dx/(sigma*sigma*Smax*Smax)\n",
    "print(\"by CFL, dt <\", \"%.4f\"%dt_max)\n",
    "mt_min = int(T/dt_max)+1\n",
    "print(\"which requires in time domain the number of steps ~= \", mt_min)\n",
    "\n"
   ]
  },
  {
   "cell_type": "code",
   "execution_count": 72,
   "metadata": {
    "slideshow": {
     "slide_type": "subslide"
    }
   },
   "outputs": [
    {
     "name": "stdout",
     "output_type": "stream",
     "text": [
      "Elapsed Time1: 0.11122798919677734\n",
      "Elapsed Time2: 0.10223126411437988\n",
      "Elapsed Time3: 0.09488534927368164\n"
     ]
    },
    {
     "data": {
      "image/png": "[encoded data removed]",
      "text/plain": [
       "<Figure size 1080x288 with 3 Axes>"
      ]
     },
     "metadata": {},
     "output_type": "display_data"
    }
   ],
   "source": [
    "n = ns-2\n",
    "X = linspace(0.0, Smax, n+2)\n",
    "X = X[1:-1]\n",
    "\n",
    "payoff = clip(X-K, 0.0, 1e600)\n",
    "#print \"payoff = \", payoff\n",
    "  \n",
    "m = 4555 \n",
    "Fl = zeros((m+1,))\n",
    "Fu = Smax - K*exp(-r * linspace(0.0, T, m+1))\n",
    "    \n",
    "t = time.time()\n",
    "bs1 = BS_FDM_explicit(r, sigma, T, Smin, Smax, Fl, Fu, payoff, m, n)\n",
    "px_fd_mat = bs1.solve()\n",
    "elapsed=time.time()-t\n",
    "print(\"Elapsed Time1:\", elapsed)\n",
    "\n",
    "##print  px_fd_mat.shape\n",
    "nrow = len(px_fd_mat[:,1])\n",
    "#print(px_fd_mat[nrow-1,:])\n",
    "\n",
    "figure(figsize=[15, 4]);\n",
    "subplot(1, 3, 1)\n",
    "plot(X, px_fd_mat[nrow-1,:])\n",
    "xlabel('Stock', fontsize=14);\n",
    "title('nt = %.f'%m, fontsize=16);\n",
    "\n",
    "m = 4560\n",
    "Fl = zeros((m+1,))\n",
    "Fu = Smax - K*exp(-r * linspace(0.0, T, m+1))\n",
    "\n",
    "t = time.time()\n",
    "bs2 = BS_FDM_explicit(r, sigma, T, Smin, Smax, Fl, Fu, payoff, m, n)\n",
    "px_fd_mat = bs2.solve()\n",
    "elapsed=time.time()-t\n",
    "print(\"Elapsed Time2:\", elapsed)\n",
    "\n",
    "subplot(1, 3, 2)\n",
    "nrow = len(px_fd_mat[:,1])\n",
    "plot(X, px_fd_mat[nrow-1,:])\n",
    "xlabel('Stock', fontsize=14);\n",
    "title('nt = %.f'%m, fontsize=16);\n",
    "\n",
    "m = 4565\n",
    "Fl = zeros((m+1,))\n",
    "Fu = Smax - K*exp(-r * linspace(0.0, T, m+1))\n",
    "    \n",
    "t = time.time()\n",
    "bs3 = BS_FDM_explicit(r, sigma, T, Smin, Smax, Fl, Fu, payoff, m, n)\n",
    "px_fd_mat = bs3.solve()\n",
    "elapsed=time.time()-t\n",
    "print(\"Elapsed Time3:\", elapsed)\n",
    "\n",
    "subplot(1, 3, 3)\n",
    "nrow = len(px_fd_mat[:,1])\n",
    "plot(X, px_fd_mat[nrow-1,:])\n",
    "xlabel('Stock', fontsize=14);\n",
    "title('nt = %.f' % m, fontsize=16);"
   ]
  },
  {
   "cell_type": "markdown",
   "metadata": {
    "slideshow": {
     "slide_type": "subslide"
    }
   },
   "source": [
    "## Similar results for the up-and-out Barrier Option: with barrier set at S = 120"
   ]
  },
  {
   "cell_type": "code",
   "execution_count": 73,
   "metadata": {
    "slideshow": {
     "slide_type": "fragment"
    }
   },
   "outputs": [
    {
     "name": "stdout",
     "output_type": "stream",
     "text": [
      "Elapsed Time1: 0.09915733337402344\n",
      "Elapsed Time2: 0.08566570281982422\n",
      "Elapsed Time3: 0.09280514717102051\n"
     ]
    },
    {
     "data": {
      "image/png": "[encoded data removed]",
      "text/plain": [
       "<Figure size 1080x288 with 3 Axes>"
      ]
     },
     "metadata": {},
     "output_type": "display_data"
    }
   ],
   "source": [
    "Smax = 120\n",
    "n = ns-2\n",
    "X = linspace(0.0, Smax, n+2)\n",
    "X = X[1:-1]\n",
    "\n",
    "payoff = clip(X-K, 0.0, 1e600)\n",
    "#print \"payoff = \", payoff\n",
    "  \n",
    "m = 4570\n",
    "Fl = zeros((m+1,))\n",
    "Fu = zeros((m+1,))\n",
    "    \n",
    "t = time.time()\n",
    "bs1 = BS_FDM_explicit(r, sigma, T, Smin, Smax, Fl, Fu, payoff, m, n)\n",
    "px_fd_mat = bs1.solve()\n",
    "elapsed=time.time()-t\n",
    "print(\"Elapsed Time1:\", elapsed)\n",
    "\n",
    "##print  px_fd_mat.shape\n",
    "nrow = len(px_fd_mat[:,1])\n",
    "#print(px_fd_mat[nrow-1,:])\n",
    "\n",
    "figure(figsize=[15, 4]);\n",
    "subplot(1, 3, 1)\n",
    "plot(X, px_fd_mat[nrow-1,:])\n",
    "xlabel('Stock', fontsize=14);\n",
    "title('nt = %.f'%m, fontsize=16);\n",
    "\n",
    "m = 4573\n",
    "Fl = zeros((m+1,))\n",
    "Fu = zeros((m+1,))\n",
    "\n",
    "t = time.time()\n",
    "bs2 = BS_FDM_explicit(r, sigma, T, Smin, Smax, Fl, Fu, payoff, m, n)\n",
    "px_fd_mat = bs2.solve()\n",
    "elapsed=time.time()-t\n",
    "print(\"Elapsed Time2:\", elapsed)\n",
    "\n",
    "subplot(1, 3, 2)\n",
    "nrow = len(px_fd_mat[:,1])\n",
    "plot(X, px_fd_mat[nrow-1,:])\n",
    "xlabel('Stock', fontsize=14);\n",
    "title('nt = %.f'%m, fontsize=16);\n",
    "\n",
    "m = 4580\n",
    "Fl = zeros((m+1,))\n",
    "Fu = zeros((m+1,))\n",
    "    \n",
    "t = time.time()\n",
    "bs3 = BS_FDM_explicit(r, sigma, T, Smin, Smax, Fl, Fu, payoff, m, n)\n",
    "px_fd_mat = bs3.solve()\n",
    "elapsed=time.time()-t\n",
    "print(\"Elapsed Time3:\", elapsed)\n",
    "\n",
    "subplot(1, 3, 3)\n",
    "nrow = len(px_fd_mat[:,1])\n",
    "plot(X, px_fd_mat[nrow-1,:])\n",
    "xlabel('Stock', fontsize=14);\n",
    "title('nt = %.f' % m, fontsize=16);"
   ]
  },
  {
   "cell_type": "markdown",
   "metadata": {
    "slideshow": {
     "slide_type": "subslide"
    }
   },
   "source": [
    "## Now look at the behavior of the implicit scheme"
   ]
  },
  {
   "cell_type": "code",
   "execution_count": 74,
   "metadata": {
    "slideshow": {
     "slide_type": "fragment"
    }
   },
   "outputs": [],
   "source": [
    "from scipy import sparse\n",
    "import scipy.sparse.linalg.dsolve as linsolve\n",
    "\n",
    "class BS_FDM_implicit:\n",
    "  def __init__(self, \n",
    "               r, \n",
    "               sigma, \n",
    "               maturity, \n",
    "               Smin, \n",
    "               Smax, \n",
    "               Fl, \n",
    "               Fu, \n",
    "               payoff, \n",
    "               nt, \n",
    "               ns):\n",
    "    self.r  = r \n",
    "    self.sigma = sigma \n",
    "    self.maturity  = maturity\n",
    "\n",
    "    self.Smin = Smin     \n",
    "    self.Smax = Smax\n",
    "    self.Fl = Fl        \n",
    "    self.Fu = Fu\n",
    "\n",
    "    self.nt  = nt\n",
    "    self.ns  = ns\n",
    "    \n",
    "    self.dt = float(maturity)/nt\n",
    "    self.dx = float(Smax-Smin)/(ns+1)\n",
    "    self.xs = Smin/self.dx\n",
    "\n",
    "    self.u = empty((nt + 1, ns))\n",
    "    self.u[0,:] = payoff\n",
    "\n",
    "    ## Building Coefficient matrix:        \n",
    "    A = sparse.lil_matrix((self.ns, self.ns))\n",
    "\n",
    "    for j in range(0, self.ns):\n",
    "      xd = j + 1 + self.xs\n",
    "      sx = self.sigma * xd\n",
    "      sxsq = sx * sx\n",
    "      \n",
    "      dtmp1 = self.dt * sxsq\n",
    "      dtmp2 = self.dt * self.r\n",
    "      A[j,j] = 1.0 + dtmp1 + dtmp2\n",
    "        \n",
    "      dtmp1 = -0.5 * dtmp1\n",
    "      dtmp2 = -0.5 * dtmp2 * xd\n",
    "      if j > 0:\n",
    "        A[j,j-1] = dtmp1 - dtmp2\n",
    "      if j < self.ns - 1:\n",
    "        A[j,j+1] = dtmp1 + dtmp2\n",
    "\n",
    "    self.A = linsolve.splu(A)\n",
    "    self.rhs = empty((self.ns, ))\n",
    "    \n",
    "    ### Building bc_coef:\n",
    "    nxl = 1 + self.xs\n",
    "    sxl = self.sigma * nxl\n",
    "    nxu = self.ns + self.xs\n",
    "    sxu = self.sigma * nxu\n",
    "    \n",
    "    self.blcoef = 0.5 * self.dt * (- sxl * sxl + self.r * nxl)\n",
    "    self.bucoef = 0.5 * self.dt * (- sxu * sxu - self.r * nxu)    \n",
    "    \n",
    "  def solve(self):\n",
    "    for i in range(0, m):\n",
    "        self.rhs[:] = self.u[i,:]\n",
    "        self.rhs[0]         -= self.blcoef * self.Fl[i]\n",
    "        self.rhs[self.ns-1] -= self.bucoef * self.Fu[i]\n",
    "        self.u[i+1,:] = self.A.solve(self.rhs)\n",
    "\n",
    "    return self.u\n",
    "\n"
   ]
  },
  {
   "cell_type": "code",
   "execution_count": 75,
   "metadata": {
    "slideshow": {
     "slide_type": "subslide"
    }
   },
   "outputs": [
    {
     "name": "stdout",
     "output_type": "stream",
     "text": [
      "Elapsed Time1: 0.13730168342590332\n",
      "Elapsed Time2: 0.03946208953857422\n",
      "Elapsed Time3: 0.010237455368041992\n"
     ]
    },
    {
     "data": {
      "image/png": "[encoded data removed]",
      "text/plain": [
       "<Figure size 1080x288 with 3 Axes>"
      ]
     },
     "metadata": {},
     "output_type": "display_data"
    }
   ],
   "source": [
    "Smax = 200\n",
    "n = ns-2\n",
    "X = linspace(0.0, Smax, n+2)\n",
    "X = X[1:-1]\n",
    "\n",
    "payoff = clip(X-K, 0.0, 1e600)\n",
    "  \n",
    "m = 4555 \n",
    "Fl = zeros((m+1,))\n",
    "Fu = Smax - K*exp(-r * linspace(0.0, T, m+1))\n",
    "    \n",
    "t = time.time()\n",
    "bs1 = BS_FDM_implicit(r, sigma, T, Smin, Smax, Fl, Fu, payoff, m, n)\n",
    "px_fd_mat = bs1.solve()\n",
    "elapsed=time.time()-t\n",
    "print(\"Elapsed Time1:\", elapsed)\n",
    "\n",
    "#print  px_fd_mat.shape\n",
    "\n",
    "figure(figsize=[15, 4]);\n",
    "subplot(1, 3, 1)\n",
    "nrow = len(px_fd_mat[:,1])\n",
    "plot(X, px_fd_mat[nrow-1,:])\n",
    "xlabel('Stock', fontsize=14);\n",
    "title('nt = %.f'%m,  fontsize=16);\n",
    "\n",
    "m = 1000\n",
    "Fl = zeros((m+1,))\n",
    "Fu = Smax - K*exp(-r * linspace(0.0, T, m+1))\n",
    "\n",
    "t = time.time()\n",
    "bs2 = BS_FDM_implicit(r, sigma, T, Smin, Smax, Fl, Fu, payoff, m, n)\n",
    "px_fd_mat = bs2.solve()\n",
    "elapsed=time.time()-t\n",
    "print(\"Elapsed Time2:\", elapsed)\n",
    "\n",
    "subplot(1, 3, 2)\n",
    "nrow = len(px_fd_mat[:,1])\n",
    "plot(X, px_fd_mat[nrow-1,:])\n",
    "xlabel('Stock', fontsize=14);\n",
    "title('nt = %.f'%m, fontsize=16);\n",
    "\n",
    "m = 100\n",
    "Fl = zeros((m+1,))\n",
    "Fu = Smax - K*exp(-r * linspace(0.0, T, m+1))\n",
    "    \n",
    "t = time.time()\n",
    "bs3 = BS_FDM_implicit(r, sigma, T, Smin, Smax, Fl, Fu, payoff, m, n)\n",
    "px_fd_mat = bs3.solve()\n",
    "elapsed=time.time()-t\n",
    "print(\"Elapsed Time3:\", elapsed)\n",
    "\n",
    "subplot(1, 3, 3)\n",
    "nrow = len(px_fd_mat[:,1])\n",
    "plot(X, px_fd_mat[nrow-1,:])\n",
    "xlabel('Stock', fontsize=14);\n",
    "title('nt = %.f'%m, fontsize=16);\n",
    "\n",
    "\n",
    "#print(px_fd_mat[nrow-1,:])\n"
   ]
  },
  {
   "cell_type": "code",
   "execution_count": 76,
   "metadata": {
    "slideshow": {
     "slide_type": "subslide"
    }
   },
   "outputs": [
    {
     "name": "stdout",
     "output_type": "stream",
     "text": [
      "Elapsed Time1: 0.2161719799041748\n",
      "Elapsed Time2: 0.04758620262145996\n",
      "Elapsed Time3: 0.012785196304321289\n"
     ]
    },
    {
     "data": {
      "image/png": "[encoded data removed]",
      "text/plain": [
       "<Figure size 1080x288 with 3 Axes>"
      ]
     },
     "metadata": {},
     "output_type": "display_data"
    }
   ],
   "source": [
    "Smax = 120\n",
    "\n",
    "n = ns-2\n",
    "X = linspace(0.0, Smax, n+2)\n",
    "X = X[1:-1]\n",
    "\n",
    "payoff = clip(X-K, 0.0, 1e600)\n",
    "  \n",
    "m = 4555 \n",
    "Fl = zeros((m+1,))\n",
    "Fu = zeros((m+1,))\n",
    "    \n",
    "t = time.time()\n",
    "bs1 = BS_FDM_implicit(r, sigma, T, Smin, Smax, Fl, Fu, payoff, m, n)\n",
    "px_fd_mat = bs1.solve()\n",
    "elapsed=time.time()-t\n",
    "print(\"Elapsed Time1:\", elapsed)\n",
    "\n",
    "#print  px_fd_mat.shape\n",
    "\n",
    "figure(figsize=[15, 4]);\n",
    "subplot(1, 3, 1)\n",
    "nrow = len(px_fd_mat[:,1])\n",
    "plot(X, px_fd_mat[nrow-1,:])\n",
    "xlabel('Stock', fontsize=14);\n",
    "title('nt = %.f'%m,  fontsize=16);\n",
    "\n",
    "m = 1000\n",
    "Fl = zeros((m+1,))\n",
    "Fu = zeros((m+1,))\n",
    "\n",
    "t = time.time()\n",
    "bs2 = BS_FDM_implicit(r, sigma, T, Smin, Smax, Fl, Fu, payoff, m, n)\n",
    "px_fd_mat = bs2.solve()\n",
    "elapsed=time.time()-t\n",
    "print(\"Elapsed Time2:\", elapsed)\n",
    "\n",
    "subplot(1, 3, 2)\n",
    "nrow = len(px_fd_mat[:,1])\n",
    "plot(X, px_fd_mat[nrow-1,:])\n",
    "xlabel('Stock', fontsize=14);\n",
    "title('nt = %.f'%m, fontsize=16);\n",
    "\n",
    "m = 100\n",
    "Fl = zeros((m+1,))\n",
    "Fu = zeros((m+1,))\n",
    "    \n",
    "t = time.time()\n",
    "bs3 = BS_FDM_implicit(r, sigma, T, Smin, Smax, Fl, Fu, payoff, m, n)\n",
    "px_fd_mat = bs3.solve()\n",
    "elapsed=time.time()-t\n",
    "print(\"Elapsed Time3:\", elapsed)\n",
    "\n",
    "subplot(1, 3, 3)\n",
    "nrow = len(px_fd_mat[:,1])\n",
    "plot(X, px_fd_mat[nrow-1,:])\n",
    "xlabel('Stock', fontsize=14);\n",
    "title('nt = %.f'%m, fontsize=16);\n",
    "\n",
    "\n",
    "#print(px_fd_mat[nrow-1,:])\n"
   ]
  },
  {
   "cell_type": "markdown",
   "metadata": {
    "slideshow": {
     "slide_type": "slide"
    }
   },
   "source": [
    "# Homework \n",
    "\n",
    "* Implement the FDM for Black-Scholes PDE using the Crank-Nicolson Scheme and test your code using the same example here for both the vanilla European Call and the Up-and-out Barrier Call.\n",
    "\n",
    "\n",
    "\n"
   ]
  }
 ],
 "metadata": {
  "celltoolbar": "Slideshow",
  "kernelspec": {
   "display_name": "Python 3",
   "language": "python",
   "name": "python3"
  },
  "language_info": {
   "codemirror_mode": {
    "name": "ipython",
    "version": 3
   },
   "file_extension": ".py",
   "mimetype": "text/x-python",
   "name": "python",
   "nbconvert_exporter": "python",
   "pygments_lexer": "ipython3",
   "version": "3.6.5"
  }
 },
 "nbformat": 4,
 "nbformat_minor": 1
}
